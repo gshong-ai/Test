{
  "cells": [
    {
      "cell_type": "code",
      "execution_count": 1,
      "metadata": {
        "id": "qXBnsiYU0r3P"
      },
      "outputs": [],
      "source": [
        "# 변수의 shape, type, value 확인\n",
        "def p(var) :\n",
        "    if type(var)!=type([]):\n",
        "        try:\n",
        "            print(f'Shape:{var.shape}')\n",
        "        except :\n",
        "            pass\n",
        "    print(f'Type: {type(var)}')\n",
        "    print(f'Values: {var}')\n",
        "\n",
        "def pst(_x,_name=\"\"):\n",
        "    print(f'[{_name}] Shape{_x.shape}, {type(_x)}')\n",
        "def ps(_x,_name=\"\"):\n",
        "    print(f'[{_name}] Shape{_x.shape}')"
      ]
    },
    {
      "cell_type": "code",
      "execution_count": 4,
      "metadata": {
        "colab": {
          "base_uri": "https://localhost:8080/"
        },
        "id": "FXSFXKOjyp32",
        "outputId": "b842c39f-4739-49ab-a44c-72758f8e58b7"
      },
      "outputs": [
        {
          "output_type": "execute_result",
          "data": {
            "text/plain": [
              "('2.13.0', '2.13.1')"
            ]
          },
          "metadata": {},
          "execution_count": 4
        }
      ],
      "source": [
        "import tensorflow as tf\n",
        "import keras\n",
        "from keras import layers\n",
        "import numpy as np\n",
        "tf.__version__,keras.__version__"
      ]
    },
    {
      "cell_type": "markdown",
      "metadata": {
        "id": "M3f1onviMTxc"
      },
      "source": [
        "## 2.1 Model 설계 workfolw"
      ]
    },
    {
      "cell_type": "markdown",
      "metadata": {
        "id": "Ed6U1XpGvkbo"
      },
      "source": [
        "### 1. 첫번째 모델 만들기"
      ]
    },
    {
      "cell_type": "code",
      "execution_count": 5,
      "metadata": {
        "colab": {
          "base_uri": "https://localhost:8080/"
        },
        "id": "ds7b3Ld5MRX_",
        "outputId": "1f6a2be0-46ea-4df8-bb09-bda488107a72"
      },
      "outputs": [
        {
          "output_type": "stream",
          "name": "stdout",
          "text": [
            "Downloading data from https://storage.googleapis.com/tensorflow/tf-keras-datasets/mnist.npz\n",
            "11490434/11490434 [==============================] - 0s 0us/step\n",
            "Epoch 1/3\n",
            "469/469 [==============================] - 7s 3ms/step - loss: 13.3797 - sparse_categorical_accuracy: 0.8004\n",
            "Epoch 2/3\n",
            "469/469 [==============================] - 1s 2ms/step - loss: 4.9971 - sparse_categorical_accuracy: 0.8765\n",
            "Epoch 3/3\n",
            "469/469 [==============================] - 1s 3ms/step - loss: 4.0732 - sparse_categorical_accuracy: 0.8827\n",
            "313/313 [==============================] - 0s 1ms/step\n",
            "Shape:(10000, 10)\n",
            "Type: <class 'numpy.ndarray'>\n",
            "Values: [[0.0000000e+00 0.0000000e+00 0.0000000e+00 ... 1.0000000e+00\n",
            "  0.0000000e+00 0.0000000e+00]\n",
            " [0.0000000e+00 0.0000000e+00 1.0000000e+00 ... 0.0000000e+00\n",
            "  0.0000000e+00 0.0000000e+00]\n",
            " [0.0000000e+00 1.0000000e+00 4.0541800e-25 ... 0.0000000e+00\n",
            "  5.6612263e-34 0.0000000e+00]\n",
            " ...\n",
            " [0.0000000e+00 0.0000000e+00 0.0000000e+00 ... 0.0000000e+00\n",
            "  1.7542305e-31 4.7589381e-22]\n",
            " [0.0000000e+00 0.0000000e+00 0.0000000e+00 ... 0.0000000e+00\n",
            "  9.4539288e-28 0.0000000e+00]\n",
            " [0.0000000e+00 0.0000000e+00 0.0000000e+00 ... 0.0000000e+00\n",
            "  0.0000000e+00 0.0000000e+00]]\n"
          ]
        }
      ],
      "source": [
        "\n",
        "# 데이터 준비\n",
        "(x_train, y_train), (x_test, y_test) = keras.datasets.mnist.load_data()\n",
        "# 모델 정의\n",
        "## Sequential model 사용\n",
        "model = keras.models.Sequential()\n",
        "## 레이어 추가\n",
        "model.add(keras.layers.Flatten(input_shape=(28,28)))\n",
        "model.add(keras.layers.Dense(units=10, activation='softmax'))\n",
        "# 학습과정 설정\n",
        "model.compile(loss='sparse_categorical_crossentropy',\n",
        "              optimizer='adam',\n",
        "              metrics=['sparse_categorical_accuracy'])\n",
        "# 학습\n",
        "model.fit(x_train, y_train, epochs=3, batch_size=128)\n",
        "# 시험\n",
        "classes = model.predict(x_test)\n",
        "p(classes)"
      ]
    },
    {
      "cell_type": "code",
      "execution_count": null,
      "metadata": {
        "id": "onUoAEngyp39"
      },
      "outputs": [],
      "source": [
        "# Epoch 1/3\n",
        "# 469/469 [==============================] - 1s 1ms/step - loss: 479.2211 - accuracy: 0.7711\n",
        "# Epoch 2/3\n",
        "# 469/469 [==============================] - 1s 1ms/step - loss: 127.3708 - accuracy: 0.8665\n",
        "# Epoch 3/3\n",
        "# 469/469 [==============================] - 1s 1ms/step - loss: 126.8681 - accuracy: 0.8706"
      ]
    },
    {
      "cell_type": "markdown",
      "metadata": {
        "id": "o_hy4r8LN0vq"
      },
      "source": [
        "### 2. 모델을 만드는 세가지 방법"
      ]
    },
    {
      "cell_type": "markdown",
      "metadata": {
        "id": "-xVpW3hsqk-J"
      },
      "source": [
        "#### 2.1. Sequential model : Type 1"
      ]
    },
    {
      "cell_type": "code",
      "execution_count": 6,
      "metadata": {
        "colab": {
          "base_uri": "https://localhost:8080/"
        },
        "id": "Ky4t_c7fdupy",
        "outputId": "43ff525b-48e2-4372-aab8-201c2d0aea83"
      },
      "outputs": [
        {
          "output_type": "stream",
          "name": "stdout",
          "text": [
            "Model: \"sequential_1\"\n",
            "_________________________________________________________________\n",
            " Layer (type)                Output Shape              Param #   \n",
            "=================================================================\n",
            " flatten_1 (Flatten)         (None, 784)               0         \n",
            "                                                                 \n",
            " dense_1 (Dense)             (None, 64)                50240     \n",
            "                                                                 \n",
            " dense_2 (Dense)             (None, 10)                650       \n",
            "                                                                 \n",
            "=================================================================\n",
            "Total params: 50890 (198.79 KB)\n",
            "Trainable params: 50890 (198.79 KB)\n",
            "Non-trainable params: 0 (0.00 Byte)\n",
            "_________________________________________________________________\n"
          ]
        }
      ],
      "source": [
        "# 모델 정의 : Sequential model 사용\n",
        "model = keras.models.Sequential()\n",
        "model.add(keras.Input(shape=(28,28)))\n",
        "model.add(layers.Flatten())\n",
        "model.add(layers.Dense(64, activation=\"relu\"))\n",
        "model.add(keras.layers.Dense(units=10, activation='softmax'))\n",
        "# 모델 컨텐츠 확인\n",
        "model.summary()"
      ]
    },
    {
      "cell_type": "code",
      "execution_count": 7,
      "metadata": {
        "colab": {
          "base_uri": "https://localhost:8080/"
        },
        "id": "jeuiORlWyp4A",
        "outputId": "5c72301f-3bfa-4b47-b637-cdac9cf2f23d"
      },
      "outputs": [
        {
          "output_type": "stream",
          "name": "stdout",
          "text": [
            "Epoch 1/3\n",
            "469/469 [==============================] - 2s 3ms/step - loss: 4.1919 - accuracy: 0.7687\n",
            "Epoch 2/3\n",
            "469/469 [==============================] - 2s 4ms/step - loss: 0.5834 - accuracy: 0.8651\n",
            "Epoch 3/3\n",
            "469/469 [==============================] - 1s 3ms/step - loss: 0.4061 - accuracy: 0.9012\n"
          ]
        }
      ],
      "source": [
        "# train option 설정\n",
        "model.compile(loss='sparse_categorical_crossentropy',\n",
        "              optimizer='adam',\n",
        "              metrics=['accuracy'])\n",
        "# training\n",
        "# model.fit(x_train, y_train, epochs=3, batch_size=128)\n",
        "history = model.fit(x_train, y_train, epochs=3, batch_size=128)"
      ]
    },
    {
      "cell_type": "code",
      "execution_count": 8,
      "metadata": {
        "id": "gGthlwOMyp4B"
      },
      "outputs": [],
      "source": [
        "# 모델 정의 : Input Layer 제거\n",
        "model = keras.models.Sequential()\n",
        "model.add(layers.Flatten(input_shape=(28,28)))\n",
        "model.add(layers.Dense(64, activation=\"relu\"))\n",
        "model.add(keras.layers.Dense(units=10, activation='softmax'))"
      ]
    },
    {
      "cell_type": "code",
      "execution_count": 9,
      "metadata": {
        "colab": {
          "base_uri": "https://localhost:8080/"
        },
        "id": "o4ynnVDfyp4B",
        "outputId": "e0c3aec8-ef13-4c42-bac8-bdab15c2308a"
      },
      "outputs": [
        {
          "output_type": "stream",
          "name": "stdout",
          "text": [
            "Model: \"sequential_3\"\n",
            "_________________________________________________________________\n",
            " Layer (type)                Output Shape              Param #   \n",
            "=================================================================\n",
            " flatten_3 (Flatten)         (None, 784)               0         \n",
            "                                                                 \n",
            " dense_5 (Dense)             (None, 64)                50240     \n",
            "                                                                 \n",
            " dense_6 (Dense)             (None, 10)                650       \n",
            "                                                                 \n",
            "=================================================================\n",
            "Total params: 50890 (198.79 KB)\n",
            "Trainable params: 50890 (198.79 KB)\n",
            "Non-trainable params: 0 (0.00 Byte)\n",
            "_________________________________________________________________\n"
          ]
        }
      ],
      "source": [
        "def create_model1():\n",
        "    model = keras.models.Sequential()\n",
        "    model.add(layers.Flatten(input_shape=(28,28)))\n",
        "    model.add(layers.Dense(64, activation=\"relu\"))\n",
        "    model.add(keras.layers.Dense(units=10, activation='softmax'))\n",
        "    return model\n",
        "\n",
        "model1 = create_model1()\n",
        "model1.summary()"
      ]
    },
    {
      "cell_type": "markdown",
      "metadata": {
        "id": "_Rf_nWoLwHYV"
      },
      "source": [
        "#### 2.1. Sequential model : Type 2"
      ]
    },
    {
      "cell_type": "markdown",
      "metadata": {
        "id": "g4_gNXDTNGmj",
        "tags": [
          "x_train"
        ]
      },
      "source": [
        " - layer를 Sequential method의 매개변수 list로 전달하는 방법"
      ]
    },
    {
      "cell_type": "code",
      "execution_count": 10,
      "metadata": {
        "colab": {
          "base_uri": "https://localhost:8080/"
        },
        "id": "u0dgJbnodvvv",
        "outputId": "8132c068-643e-47a4-9f7d-3a5b908b0f87",
        "tags": []
      },
      "outputs": [
        {
          "output_type": "stream",
          "name": "stdout",
          "text": [
            "Model: \"sequential_4\"\n",
            "_________________________________________________________________\n",
            " Layer (type)                Output Shape              Param #   \n",
            "=================================================================\n",
            " flatten_4 (Flatten)         (None, 784)               0         \n",
            "                                                                 \n",
            " dense_7 (Dense)             (None, 64)                50240     \n",
            "                                                                 \n",
            " dense_8 (Dense)             (None, 10)                650       \n",
            "                                                                 \n",
            "=================================================================\n",
            "Total params: 50890 (198.79 KB)\n",
            "Trainable params: 50890 (198.79 KB)\n",
            "Non-trainable params: 0 (0.00 Byte)\n",
            "_________________________________________________________________\n"
          ]
        }
      ],
      "source": [
        "model = keras.models.Sequential(\n",
        "    [\n",
        "        keras.Input(shape=(28,28)),\n",
        "        layers.Flatten(),\n",
        "        layers.Dense(64, activation=\"relu\"),\n",
        "        layers.Dense(10, activation=\"softmax\")\n",
        "    ]\n",
        ")\n",
        "model.summary()"
      ]
    },
    {
      "cell_type": "markdown",
      "metadata": {
        "id": "xYsbdXQvOOzr"
      },
      "source": [
        " - 모델의 layer graph를 보이고, 파일로 저장"
      ]
    },
    {
      "cell_type": "code",
      "execution_count": 11,
      "metadata": {
        "colab": {
          "base_uri": "https://localhost:8080/",
          "height": 422
        },
        "id": "9o37m0Y8dV-D",
        "outputId": "102b385e-9abb-4373-d259-811e0dee29db"
      },
      "outputs": [
        {
          "output_type": "execute_result",
          "data": {
            "image/png": "[encoded data removed]",
            "text/plain": [
              "<IPython.core.display.Image object>"
            ]
          },
          "metadata": {},
          "execution_count": 11
        }
      ],
      "source": [
        "keras.utils.plot_model(model,'model.png',show_shapes=True)"
      ]
    },
    {
      "cell_type": "markdown",
      "metadata": {
        "id": "CwtPS7qjvb9I"
      },
      "source": [
        "#### 2.2. Functional API"
      ]
    },
    {
      "cell_type": "code",
      "execution_count": 12,
      "metadata": {
        "id": "FZ9nl7seOHcF"
      },
      "outputs": [],
      "source": [
        "# 데이터 준비\n",
        "(x_train, y_train), (x_test, y_test) = keras.datasets.mnist.load_data()"
      ]
    },
    {
      "cell_type": "code",
      "execution_count": 13,
      "metadata": {
        "colab": {
          "base_uri": "https://localhost:8080/",
          "height": 935
        },
        "id": "U-a8g5ktu013",
        "outputId": "a80cb248-b76c-46c9-baf1-969eee352501"
      },
      "outputs": [
        {
          "output_type": "stream",
          "name": "stdout",
          "text": [
            "Model: \"model\"\n",
            "__________________________________________________________________________________________________\n",
            " Layer (type)                Output Shape                 Param #   Connected to                  \n",
            "==================================================================================================\n",
            " input_3 (InputLayer)        [(None, 28, 28)]             0         []                            \n",
            "                                                                                                  \n",
            " flatten_5 (Flatten)         (None, 784)                  0         ['input_3[0][0]']             \n",
            "                                                                                                  \n",
            " dense_9 (Dense)             (None, 32)                   25120     ['flatten_5[0][0]']           \n",
            "                                                                                                  \n",
            " dense_10 (Dense)            (None, 32)                   25120     ['flatten_5[0][0]']           \n",
            "                                                                                                  \n",
            " concatenate (Concatenate)   (None, 64)                   0         ['dense_9[0][0]',             \n",
            "                                                                     'dense_10[0][0]']            \n",
            "                                                                                                  \n",
            " dense_11 (Dense)            (None, 10)                   650       ['concatenate[0][0]']         \n",
            "                                                                                                  \n",
            "==================================================================================================\n",
            "Total params: 50890 (198.79 KB)\n",
            "Trainable params: 50890 (198.79 KB)\n",
            "Non-trainable params: 0 (0.00 Byte)\n",
            "__________________________________________________________________________________________________\n"
          ]
        },
        {
          "output_type": "execute_result",
          "data": {
            "image/png": "[encoded data removed]",
            "text/plain": [
              "<IPython.core.display.Image object>"
            ]
          },
          "metadata": {},
          "execution_count": 13
        }
      ],
      "source": [
        "# 1. DataFlow(Graph)정의\n",
        "input_x = keras.Input(shape=(28,28))\n",
        "x0 = layers.Flatten()(input_x)\n",
        "x1 = layers.Dense(32, activation=\"relu\")(x0)\n",
        "x2 = layers.Dense(32, activation=\"relu\")(x0)\n",
        "#x1 = layers.Dense(32, activation=\"relu\")(x0[:,:392])\n",
        "#x2 = layers.Dense(32, activation=\"relu\")(x0[:,392:])\n",
        "x3 = layers.concatenate([x1, x2])\n",
        "output_x = layers.Dense(10,activation=\"softmax\")(x3)\n",
        "# 2. 모델 인스턴스 : input,output으로 DataFlow를 추적\n",
        "model = keras.Model(inputs=input_x, outputs=output_x)\n",
        "model.summary()\n",
        "keras.utils.plot_model(model,'model.png',show_shapes=True)"
      ]
    },
    {
      "cell_type": "code",
      "execution_count": 14,
      "metadata": {
        "colab": {
          "base_uri": "https://localhost:8080/"
        },
        "id": "rIJvbu17yp4F",
        "outputId": "acef1c49-0889-49ec-9425-2fd30b0f48ff"
      },
      "outputs": [
        {
          "output_type": "stream",
          "name": "stdout",
          "text": [
            "Epoch 1/3\n",
            "469/469 [==============================] - 2s 3ms/step - loss: 4.5057 - accuracy: 0.7674\n",
            "Epoch 2/3\n",
            "469/469 [==============================] - 1s 3ms/step - loss: 0.6328 - accuracy: 0.8492\n",
            "Epoch 3/3\n",
            "469/469 [==============================] - 1s 3ms/step - loss: 0.4287 - accuracy: 0.8938\n"
          ]
        }
      ],
      "source": [
        "# train option 설정\n",
        "model.compile(loss='sparse_categorical_crossentropy',\n",
        "              optimizer='adam',\n",
        "              metrics=['accuracy'])\n",
        "# training\n",
        "# model.fit(x_train, y_train, epochs=3, batch_size=128)\n",
        "history = model.fit(x_train, y_train, epochs=3, batch_size=128)"
      ]
    },
    {
      "cell_type": "markdown",
      "metadata": {
        "id": "oTWUCI5QO_69"
      },
      "source": [
        "- show_shapes=Treu : 입출력 텐서의 shape을 보여줌"
      ]
    },
    {
      "cell_type": "code",
      "execution_count": 15,
      "metadata": {
        "colab": {
          "base_uri": "https://localhost:8080/",
          "height": 466
        },
        "id": "rqXR_risjC7z",
        "outputId": "38229dd4-e701-4338-d5c3-5efd019c8400"
      },
      "outputs": [
        {
          "output_type": "execute_result",
          "data": {
            "image/png": "[encoded data removed]",
            "text/plain": [
              "<IPython.core.display.Image object>"
            ]
          },
          "metadata": {},
          "execution_count": 15
        }
      ],
      "source": [
        "keras.utils.plot_model(model,'model.png')#,show_shapes=True)"
      ]
    },
    {
      "cell_type": "code",
      "execution_count": 16,
      "metadata": {
        "colab": {
          "base_uri": "https://localhost:8080/"
        },
        "id": "ts0b8Hi1yp4G",
        "outputId": "75c43ce8-3172-4194-a256-e0e17c610b7b"
      },
      "outputs": [
        {
          "output_type": "stream",
          "name": "stdout",
          "text": [
            "Model: \"model_1\"\n",
            "__________________________________________________________________________________________________\n",
            " Layer (type)                Output Shape                 Param #   Connected to                  \n",
            "==================================================================================================\n",
            " input_4 (InputLayer)        [(None, 28, 28)]             0         []                            \n",
            "                                                                                                  \n",
            " flatten_6 (Flatten)         (None, 784)                  0         ['input_4[0][0]']             \n",
            "                                                                                                  \n",
            " dense_12 (Dense)            (None, 32)                   25120     ['flatten_6[0][0]']           \n",
            "                                                                                                  \n",
            " dense_13 (Dense)            (None, 32)                   25120     ['flatten_6[0][0]']           \n",
            "                                                                                                  \n",
            " concatenate_1 (Concatenate  (None, 64)                   0         ['dense_12[0][0]',            \n",
            " )                                                                   'dense_13[0][0]']            \n",
            "                                                                                                  \n",
            " dense_14 (Dense)            (None, 10)                   650       ['concatenate_1[0][0]']       \n",
            "                                                                                                  \n",
            "==================================================================================================\n",
            "Total params: 50890 (198.79 KB)\n",
            "Trainable params: 50890 (198.79 KB)\n",
            "Non-trainable params: 0 (0.00 Byte)\n",
            "__________________________________________________________________________________________________\n"
          ]
        }
      ],
      "source": [
        "def create_model2():\n",
        "    input_x = keras.Input(shape=(28,28))\n",
        "    x0 = layers.Flatten()(input_x)\n",
        "    x1 = layers.Dense(32, activation=\"relu\")(x0)\n",
        "    x2 = layers.Dense(32, activation=\"relu\")(x0)\n",
        "    x3 = layers.concatenate([x1, x2])\n",
        "    output_x = layers.Dense(10,activation=\"softmax\")(x3)\n",
        "    # 2. 모델 인스턴스 : input,output으로 DataFlow를 추적\n",
        "    model = keras.Model(inputs=input_x, outputs=output_x)\n",
        "    return model\n",
        "\n",
        "model2 = create_model2()\n",
        "model2.summary()"
      ]
    },
    {
      "cell_type": "code",
      "execution_count": 17,
      "metadata": {
        "id": "zzfMjFE6quBU"
      },
      "outputs": [],
      "source": [
        "class MyModel(keras.Model):\n",
        "    def __init__(self):\n",
        "        super(MyModel, self).__init__()\n",
        "        self.flatten = layers.Flatten()\n",
        "        self.d1 = layers.Dense(32, activation=\"relu\")\n",
        "        self.d2 = layers.Dense(32, activation=\"relu\")\n",
        "        self.d3 = layers.Dense(10, activation=\"softmax\")\n",
        "\n",
        "    def call(self, x):\n",
        "        x0 = self.flatten(x)\n",
        "        x1 = self.d1(x0)\n",
        "        x2 = self.d2(x0)\n",
        "        c1 = layers.concatenate([x1, x2])\n",
        "        return self.d3(c1)"
      ]
    },
    {
      "cell_type": "markdown",
      "metadata": {
        "id": "dsmtCvMrQRMc"
      },
      "source": [
        "- 모델 인스턴스 생성후 사용"
      ]
    },
    {
      "cell_type": "code",
      "execution_count": 18,
      "metadata": {
        "colab": {
          "base_uri": "https://localhost:8080/",
          "height": 372
        },
        "id": "5EzMBGD1_H62",
        "outputId": "7245f283-1a7a-485d-c108-ff9adf2b42f7"
      },
      "outputs": [
        {
          "output_type": "stream",
          "name": "stdout",
          "text": [
            "Model: \"my_model\"\n",
            "_________________________________________________________________\n",
            " Layer (type)                Output Shape              Param #   \n",
            "=================================================================\n",
            " flatten_7 (Flatten)         multiple                  0         \n",
            "                                                                 \n",
            " dense_15 (Dense)            multiple                  25120     \n",
            "                                                                 \n",
            " dense_16 (Dense)            multiple                  25120     \n",
            "                                                                 \n",
            " dense_17 (Dense)            multiple                  650       \n",
            "                                                                 \n",
            "=================================================================\n",
            "Total params: 50890 (198.79 KB)\n",
            "Trainable params: 50890 (198.79 KB)\n",
            "Non-trainable params: 0 (0.00 Byte)\n",
            "_________________________________________________________________\n"
          ]
        },
        {
          "output_type": "execute_result",
          "data": {
            "image/png": "[encoded data removed]",
            "text/plain": [
              "<IPython.core.display.Image object>"
            ]
          },
          "metadata": {},
          "execution_count": 18
        }
      ],
      "source": [
        "# 1. model instance\n",
        "model = MyModel()\n",
        "# 2. DataFlow(Graph)정의\n",
        "input_x = keras.Input(shape=(28,28))\n",
        "output_x = model(input_x)\n",
        "model.summary()\n",
        "## .utils.plot_model() : Sequntial/Functional API를 위한 것임\n",
        "keras.utils.plot_model(model,'model.png',show_shapes=True)"
      ]
    },
    {
      "cell_type": "markdown",
      "metadata": {
        "id": "xIgzrum1yp4H"
      },
      "source": [
        "**Wrapping**"
      ]
    },
    {
      "cell_type": "code",
      "execution_count": 19,
      "metadata": {
        "colab": {
          "base_uri": "https://localhost:8080/"
        },
        "id": "4UgGNMKiyp4I",
        "outputId": "274eec82-65df-4dbc-cb3c-710add0e5d6e"
      },
      "outputs": [
        {
          "output_type": "stream",
          "name": "stdout",
          "text": [
            "Model: \"my_model_1\"\n",
            "_________________________________________________________________\n",
            " Layer (type)                Output Shape              Param #   \n",
            "=================================================================\n",
            " flatten_8 (Flatten)         multiple                  0         \n",
            "                                                                 \n",
            " dense_18 (Dense)            multiple                  25120     \n",
            "                                                                 \n",
            " dense_19 (Dense)            multiple                  25120     \n",
            "                                                                 \n",
            " dense_20 (Dense)            multiple                  650       \n",
            "                                                                 \n",
            "=================================================================\n",
            "Total params: 50890 (198.79 KB)\n",
            "Trainable params: 50890 (198.79 KB)\n",
            "Non-trainable params: 0 (0.00 Byte)\n",
            "_________________________________________________________________\n"
          ]
        }
      ],
      "source": [
        "def create_model3():\n",
        "    model = MyModel()\n",
        "    input_x = keras.Input(shape=(28,28))\n",
        "    output_x = model(input_x)\n",
        "    return model\n",
        "\n",
        "model3 = create_model3()\n",
        "model3.summary()"
      ]
    },
    {
      "cell_type": "markdown",
      "metadata": {
        "id": "02Ka0GXHyp4J"
      },
      "source": [
        "---\n",
        "```python\n",
        "compile(\n",
        "    optimizer='rmsprop', loss=None, metrics=None,\n",
        "    loss_weights=None, weighted_metrics=None,..)\n",
        "```\n",
        "---"
      ]
    },
    {
      "cell_type": "markdown",
      "metadata": {
        "id": "ajdLS00gIoJO"
      },
      "source": [
        " - 내장함수의 'name'으로 지정하기"
      ]
    },
    {
      "cell_type": "markdown",
      "metadata": {
        "id": "ltr8pU4lHuDH"
      },
      "source": [
        "---\n",
        "```python\n",
        "model.compile(loss='sparse_categorical_crossentropy',\n",
        "              optimizer='Adam',\n",
        "              metrics=['accuracy','mse'])\n",
        "```\n",
        "---"
      ]
    },
    {
      "cell_type": "markdown",
      "metadata": {
        "id": "eioQy1J3QwhV"
      },
      "source": [
        "- 내장함수를 지정하기"
      ]
    },
    {
      "cell_type": "markdown",
      "metadata": {
        "id": "illvBQrzJpMU"
      },
      "source": [
        "---\n",
        "```python\n",
        "model.compile(optimizer=keras.optimizers.RMSprop(\n",
        "                  learning_rate=0.001, rho=0.9, momentum=0.0, epsilon=1e-07),\n",
        "              loss=keras.losses.CategoricalCrossentropy(),\n",
        "              metrics=[keras.metrics.CategoricalAccuracy()])\n",
        "```\n",
        "---"
      ]
    },
    {
      "cell_type": "markdown",
      "metadata": {
        "id": "ov5tKnpBIwuP"
      },
      "source": [
        " - 내장함수 또는 사용자함수의 인스턴스로 지정하기"
      ]
    },
    {
      "cell_type": "markdown",
      "metadata": {
        "id": "1b2N4e2U5lNz"
      },
      "source": [
        "---\n",
        "```python\n",
        "opt = keras.optimizers.Adam(learning_rate=0.01)\n",
        "loss_fn = keras.losses.SparseCategoricalCrossentropy()\n",
        "metric_fn = keras.metrics.Accuracy()\n",
        "\n",
        "model.compile(loss=loss_fn, optimizer=opt, metrics=[metric_fn])\n",
        "```\n",
        "---"
      ]
    },
    {
      "cell_type": "markdown",
      "metadata": {
        "id": "Y8pSwuAyI5wE"
      },
      "source": [
        " - 내장함수의 파라메터가 복잡한 경우"
      ]
    },
    {
      "cell_type": "markdown",
      "metadata": {
        "id": "ksTLWt4o525p"
      },
      "source": [
        "---\n",
        "```python\n",
        "lr_schedule = keras.optimizers.schedules.ExponentialDecay(\n",
        "    initial_learning_rate=1e-2,\n",
        "    decay_steps=10000,\n",
        "    decay_rate=0.9)\n",
        "optimizer = keras.optimizers.SGD(learning_rate=lr_schedule)\n",
        "```\n",
        "---"
      ]
    },
    {
      "cell_type": "markdown",
      "metadata": {
        "id": "WBivvdVmyp4O"
      },
      "source": [
        "---\n",
        "```python\n",
        "## default values\n",
        "model.fit(x=None, y=None, batch_size=None, epochs=1, verbose=1,\n",
        "     callbacks=None, validation_split=0.0, validation_data=None,\n",
        "     shuffle=True, initial_epoch=0, validation_freq=1,..)\n",
        "```\n",
        "---"
      ]
    },
    {
      "cell_type": "markdown",
      "metadata": {
        "id": "DIKLe5BmT0O7"
      },
      "source": [
        "- return으로 학습과정의 정보 받기"
      ]
    },
    {
      "cell_type": "code",
      "execution_count": 20,
      "metadata": {
        "colab": {
          "base_uri": "https://localhost:8080/"
        },
        "id": "csFYOHQ1TqCR",
        "outputId": "6dd0874d-4d07-4693-9d0a-a0b57f1d2144"
      },
      "outputs": [
        {
          "output_type": "stream",
          "name": "stdout",
          "text": [
            "Epoch 1/3\n",
            "469/469 [==============================] - 3s 4ms/step - loss: 4.1549 - accuracy: 0.7457 - mse: 27.3759\n",
            "Epoch 2/3\n",
            "469/469 [==============================] - 2s 4ms/step - loss: 0.6642 - accuracy: 0.8466 - mse: 27.3748\n",
            "Epoch 3/3\n",
            "469/469 [==============================] - 1s 3ms/step - loss: 0.4574 - accuracy: 0.8884 - mse: 27.3793\n"
          ]
        }
      ],
      "source": [
        "# train option 설정\n",
        "model.compile(loss='sparse_categorical_crossentropy',\n",
        "              optimizer='adam',\n",
        "              metrics=['accuracy','mse'])\n",
        "# training\n",
        "# model.fit(x_train, y_train, epochs=3, batch_size=128)\n",
        "history = model.fit(x_train, y_train, epochs=3, batch_size=128)"
      ]
    },
    {
      "cell_type": "code",
      "execution_count": 21,
      "metadata": {
        "colab": {
          "base_uri": "https://localhost:8080/"
        },
        "id": "Y6OCB3FgTvUb",
        "outputId": "0e00bb67-25ce-4dbd-9626-44b0dadc11ac"
      },
      "outputs": [
        {
          "output_type": "execute_result",
          "data": {
            "text/plain": [
              "{'loss': [4.154878616333008, 0.6642111539840698, 0.45736435055732727],\n",
              " 'accuracy': [0.7456833124160767, 0.8465833067893982, 0.8883833289146423],\n",
              " 'mse': [27.375905990600586, 27.374849319458008, 27.37928009033203]}"
            ]
          },
          "metadata": {},
          "execution_count": 21
        }
      ],
      "source": [
        "history.history #Epoch별 loss, metric값"
      ]
    },
    {
      "cell_type": "markdown",
      "metadata": {
        "id": "L2iQYrSpUGq3"
      },
      "source": [
        "- 검증 데이터 사용해서 학습과정 모니터링 하기"
      ]
    },
    {
      "cell_type": "code",
      "execution_count": 22,
      "metadata": {
        "colab": {
          "base_uri": "https://localhost:8080/"
        },
        "id": "4BlLszydUP-t",
        "outputId": "260407e3-f2d8-4394-b1dd-0a4aa0bb11a7"
      },
      "outputs": [
        {
          "output_type": "stream",
          "name": "stdout",
          "text": [
            "Epoch 1/3\n",
            "469/469 [==============================] - 2s 4ms/step - loss: 0.3531 - accuracy: 0.9115 - mse: 27.3823 - val_loss: 0.4049 - val_accuracy: 0.9162 - val_mse: 27.3302\n",
            "Epoch 2/3\n",
            "469/469 [==============================] - 2s 4ms/step - loss: 0.2941 - accuracy: 0.9251 - mse: 27.3838 - val_loss: 0.3628 - val_accuracy: 0.9276 - val_mse: 27.3294\n",
            "Epoch 3/3\n",
            "469/469 [==============================] - 2s 4ms/step - loss: 0.2578 - accuracy: 0.9323 - mse: 27.3851 - val_loss: 0.3414 - val_accuracy: 0.9249 - val_mse: 27.3307\n"
          ]
        }
      ],
      "source": [
        "history = model.fit(x_train, y_train, epochs=3, batch_size=128, validation_data=(x_test, y_test))"
      ]
    },
    {
      "cell_type": "code",
      "execution_count": 23,
      "metadata": {
        "colab": {
          "base_uri": "https://localhost:8080/"
        },
        "id": "6NIQCa3JUfIs",
        "outputId": "674054fa-4db6-4613-c86f-44ea7ddad503"
      },
      "outputs": [
        {
          "output_type": "execute_result",
          "data": {
            "text/plain": [
              "{'loss': [0.3531090021133423, 0.2941341698169708, 0.25779077410697937],\n",
              " 'accuracy': [0.9115166664123535, 0.925083339214325, 0.932283341884613],\n",
              " 'mse': [27.38226890563965, 27.383798599243164, 27.385093688964844],\n",
              " 'val_loss': [0.4049011468887329, 0.3628060221672058, 0.3413673937320709],\n",
              " 'val_accuracy': [0.9161999821662903, 0.9276000261306763, 0.9248999953269958],\n",
              " 'val_mse': [27.330156326293945, 27.329381942749023, 27.330747604370117]}"
            ]
          },
          "metadata": {},
          "execution_count": 23
        }
      ],
      "source": [
        "history.history"
      ]
    },
    {
      "cell_type": "code",
      "execution_count": 24,
      "metadata": {
        "colab": {
          "base_uri": "https://localhost:8080/"
        },
        "id": "GDQh322RN4S9",
        "outputId": "c10fdf78-775f-4515-a40f-536e2b38f183"
      },
      "outputs": [
        {
          "output_type": "stream",
          "name": "stdout",
          "text": [
            "313/313 [==============================] - 1s 2ms/step - loss: 0.3414 - accuracy: 0.9249 - mse: 27.3308\n"
          ]
        },
        {
          "output_type": "execute_result",
          "data": {
            "text/plain": [
              "[0.3413673937320709, 0.9248999953269958, 27.330753326416016]"
            ]
          },
          "metadata": {},
          "execution_count": 24
        }
      ],
      "source": [
        "#Test dataset에 대한 평균 loss, metric\n",
        "model.evaluate(x=x_test, y=y_test)"
      ]
    },
    {
      "cell_type": "code",
      "execution_count": 25,
      "metadata": {
        "colab": {
          "base_uri": "https://localhost:8080/"
        },
        "id": "RaBmTaRGVjKw",
        "outputId": "8db6f0b1-3577-4fec-88e6-d61bb9211a21",
        "tags": [
          "x_train"
        ]
      },
      "outputs": [
        {
          "output_type": "stream",
          "name": "stdout",
          "text": [
            "Type: <class 'list'>\n",
            "Values: [0.3413675129413605, 0.9248999953269958, 27.33074378967285]\n"
          ]
        }
      ],
      "source": [
        "# returen : loss + metrics\n",
        "values = model.evaluate(x=x_test, y=y_test, batch_size=1024,verbose=0)\n",
        "p(values)"
      ]
    },
    {
      "cell_type": "code",
      "execution_count": 26,
      "metadata": {
        "colab": {
          "base_uri": "https://localhost:8080/"
        },
        "id": "jQGoLOvVyp4P",
        "outputId": "b1c8c669-5b70-4052-afe6-bce118a0e498"
      },
      "outputs": [
        {
          "output_type": "stream",
          "name": "stdout",
          "text": [
            "Type: <class 'list'>\n",
            "Values: [0.3413675129413605, 0.9248999953269958, 27.33074378967285]\n"
          ]
        }
      ],
      "source": [
        "p(values)"
      ]
    },
    {
      "cell_type": "code",
      "execution_count": 27,
      "metadata": {
        "colab": {
          "base_uri": "https://localhost:8080/"
        },
        "id": "4xemQx6gYkpo",
        "outputId": "a0d83236-37c4-478f-8b17-50cce14f5d46"
      },
      "outputs": [
        {
          "output_type": "stream",
          "name": "stdout",
          "text": [
            "313/313 [==============================] - 1s 1ms/step\n",
            "Shape:(10,)\n",
            "Type: <class 'numpy.ndarray'>\n",
            "Values: [3.9750957e-35 9.2066016e-32 3.0883632e-06 4.9096244e-10 4.1653697e-36\n",
            " 7.3963672e-37 0.0000000e+00 9.9999690e-01 2.2188514e-31 5.9756950e-17]\n"
          ]
        }
      ],
      "source": [
        "y_predict = model.predict(x_test)\n",
        "p(y_predict[0,:])"
      ]
    },
    {
      "cell_type": "markdown",
      "metadata": {
        "id": "vPPr79JHSvOz"
      },
      "source": [
        "- category 값으로 변환하기: argmax() 가장큰값의 index를 반환"
      ]
    },
    {
      "cell_type": "code",
      "execution_count": 28,
      "metadata": {
        "colab": {
          "base_uri": "https://localhost:8080/"
        },
        "id": "N2XwsjaIZjE4",
        "outputId": "cb52bc33-1dba-4c30-cdc6-362e240c9636"
      },
      "outputs": [
        {
          "output_type": "stream",
          "name": "stdout",
          "text": [
            "313/313 [==============================] - 0s 1ms/step\n",
            "Shape:(10000,)\n",
            "Type: <class 'numpy.ndarray'>\n",
            "Values: [7 2 1 ... 4 5 6]\n",
            "Shape:(10000,)\n",
            "Type: <class 'numpy.ndarray'>\n",
            "Values: [7 2 1 ... 4 5 6]\n"
          ]
        }
      ],
      "source": [
        "import numpy as np\n",
        "index = np.argmax(model.predict(x_test), axis=-1)\n",
        "p(index)\n",
        "p(y_test)"
      ]
    },
    {
      "cell_type": "code",
      "execution_count": 29,
      "metadata": {
        "colab": {
          "base_uri": "https://localhost:8080/"
        },
        "id": "FuTWTp-T3Vq0",
        "outputId": "eb078d26-4a1d-4ea2-ff71-38909a92d70b"
      },
      "outputs": [
        {
          "output_type": "stream",
          "name": "stdout",
          "text": [
            "Epoch 1/3\n",
            "469/469 [==============================] - 2s 3ms/step - loss: 230.7624 - accuracy: 0.8299 - mse: 27.3945\n",
            "Epoch 2/3\n",
            "469/469 [==============================] - 1s 3ms/step - loss: 142.2128 - accuracy: 0.8631 - mse: 27.3944\n",
            "Epoch 3/3\n",
            "469/469 [==============================] - 1s 3ms/step - loss: 130.5868 - accuracy: 0.8693 - mse: 27.3944\n"
          ]
        },
        {
          "output_type": "execute_result",
          "data": {
            "text/plain": [
              "<keras.src.callbacks.History at 0x7a3d3e798e20>"
            ]
          },
          "metadata": {},
          "execution_count": 29
        }
      ],
      "source": [
        "## metric에 'mse' 추가 했음, 문제점은??\n",
        "import tensorflow.keras as keras\n",
        "# 데이터 준비\n",
        "(x_train, y_train), (x_test, y_test) = keras.datasets.mnist.load_data()\n",
        "# 모델 정의\n",
        "## Sequential model 사용\n",
        "model = keras.models.Sequential()\n",
        "## 레이어 추가\n",
        "model.add(keras.layers.Flatten(input_shape=(28,28)))\n",
        "model.add(keras.layers.Dense(units=10, activation='softmax'))\n",
        "# 학습과정 설정\n",
        "model.compile(loss='sparse_categorical_crossentropy',\n",
        "              optimizer='sgd',\n",
        "              metrics=['accuracy','mse'])\n",
        "# 학습\n",
        "model.fit(x_train, y_train, epochs=3, batch_size=128)"
      ]
    },
    {
      "cell_type": "code",
      "execution_count": 30,
      "metadata": {
        "colab": {
          "base_uri": "https://localhost:8080/"
        },
        "id": "iyKGBiD5yp4Q",
        "outputId": "1503a495-dfce-4841-c132-5859362da7a7"
      },
      "outputs": [
        {
          "output_type": "stream",
          "name": "stdout",
          "text": [
            "Shape:(10000,)\n",
            "Type: <class 'numpy.ndarray'>\n",
            "Values: [7 2 1 ... 4 5 6]\n"
          ]
        }
      ],
      "source": [
        "p(y_test)"
      ]
    },
    {
      "cell_type": "code",
      "execution_count": 31,
      "metadata": {
        "colab": {
          "base_uri": "https://localhost:8080/"
        },
        "id": "Ya3TSiLOyp4Q",
        "outputId": "c225a920-0817-46bc-a565-21dec2679274"
      },
      "outputs": [
        {
          "output_type": "stream",
          "name": "stdout",
          "text": [
            "Epoch 1/3\n",
            "469/469 [==============================] - 2s 3ms/step - loss: 219.1725 - accuracy: 0.8299 - mse: 0.0340\n",
            "Epoch 2/3\n",
            "469/469 [==============================] - 2s 4ms/step - loss: 140.6310 - accuracy: 0.8646 - mse: 0.0270\n",
            "Epoch 3/3\n",
            "469/469 [==============================] - 2s 5ms/step - loss: 134.2083 - accuracy: 0.8685 - mse: 0.0263\n"
          ]
        },
        {
          "output_type": "execute_result",
          "data": {
            "text/plain": [
              "<keras.src.callbacks.History at 0x7a3d3e6cc760>"
            ]
          },
          "metadata": {},
          "execution_count": 31
        }
      ],
      "source": [
        "## MSE 값을 확인, why??\n",
        "## 수정된 부분은?\n",
        "import tensorflow.keras as keras\n",
        "# 데이터 준비\n",
        "(x_train, y_train), (x_test, y_test) = keras.datasets.mnist.load_data()\n",
        "y_train = tf.one_hot(y_train,depth=10) ##\n",
        "y_test = tf.one_hot(y_test,depth=10)   ##\n",
        "\n",
        "# 모델 정의\n",
        "## Sequential model 사용\n",
        "model = keras.models.Sequential()\n",
        "## 레이어 추가\n",
        "model.add(keras.layers.Flatten(input_shape=(28,28)))\n",
        "model.add(keras.layers.Dense(units=10, activation='softmax'))\n",
        "# 학습과정 설정\n",
        "model.compile(loss='categorical_crossentropy',  ##\n",
        "              optimizer='sgd',\n",
        "              metrics=['accuracy','mse'])\n",
        "# 학습\n",
        "model.fit(x_train, y_train, epochs=3, batch_size=128)"
      ]
    },
    {
      "cell_type": "markdown",
      "metadata": {
        "id": "HZNFDi96yp4Q"
      },
      "source": [
        "**rank, shape, axis**"
      ]
    },
    {
      "cell_type": "code",
      "execution_count": 32,
      "metadata": {
        "colab": {
          "base_uri": "https://localhost:8080/"
        },
        "id": "ro-Nraabyp4R",
        "outputId": "fb8a91de-d2c7-4959-abc4-95cd323e9953"
      },
      "outputs": [
        {
          "output_type": "stream",
          "name": "stdout",
          "text": [
            "3\n",
            "Shape:(2, 3, 4)\n",
            "Type: <class 'numpy.ndarray'>\n",
            "Values: [[[0. 0. 0. 0.]\n",
            "  [0. 0. 0. 0.]\n",
            "  [0. 0. 0. 0.]]\n",
            "\n",
            " [[0. 0. 0. 0.]\n",
            "  [0. 0. 0. 0.]\n",
            "  [0. 0. 0. 0.]]]\n"
          ]
        }
      ],
      "source": [
        "## rank, shape, axis\n",
        "d = np.zeros((2,3,4))\n",
        "print(d.ndim)\n",
        "p(d)\n",
        "# #of_rank = 3\n",
        "# shape=(2,3,4),\n",
        "# axis:(0,1,2) or (0,1,-1)\n",
        "#     (z, y, x)"
      ]
    },
    {
      "cell_type": "markdown",
      "metadata": {
        "id": "Bj5x-AXAyp4R"
      },
      "source": [
        "default values"
      ]
    },
    {
      "cell_type": "markdown",
      "metadata": {
        "id": "SsfpRu3pg5sP"
      },
      "source": [
        "---\n",
        "```python\n",
        "model.compile(optimizer='rmsprop', loss=None, metrics=None,\n",
        "              loss_weights=None, weighted_metrics=None,.. )\n",
        "```\n",
        "---"
      ]
    },
    {
      "cell_type": "markdown",
      "metadata": {
        "id": "LJI14kb_YjtZ"
      },
      "source": [
        "- 내장된 함수, 알고리즘들"
      ]
    },
    {
      "cell_type": "markdown",
      "metadata": {
        "id": "hYqIZ_dYXKKs"
      },
      "source": [
        "```python\n",
        "# 내장 Optimizers\n",
        "class Adadelta: Optimizer that implements the Adadelta algorithm.\n",
        "class Adagrad: Optimizer that implements the Adagrad algorithm.\n",
        "class Adam: Optimizer that implements the Adam algorithm.\n",
        "class Adamax: Optimizer that implements the Adamax algorithm.\n",
        "class Ftrl: Optimizer that implements the FTRL algorithm.\n",
        "class Nadam: Optimizer that implements the NAdam algorithm.\n",
        "class Optimizer: Updated base class for optimizers.\n",
        "class RMSprop: Optimizer that implements the RMSprop algorithm.\n",
        "class SGD: Stochastic gradient descent and momentum optimizer.\n",
        "```"
      ]
    },
    {
      "cell_type": "markdown",
      "metadata": {
        "id": "qgAwN-6tXh4V"
      },
      "source": [
        "``` python\n",
        "#  내장 loss functions\n",
        "class BinaryCrossentropy: Computes the cross-entropy loss between true labels and predicted labels.\n",
        "class CategoricalCrossentropy: Computes the crossentropy loss between the labels and predictions.\n",
        "class CategoricalHinge: Computes the categorical hinge loss between y_true and y_pred.\n",
        "class CosineSimilarity: Computes the cosine similarity between y_true and y_pred.\n",
        "class Hinge: Computes the hinge loss between y_true and y_pred.\n",
        "class Huber: Computes the Huber loss between y_true and y_pred.\n",
        "class KLDivergence: Computes Kullback-Leibler divergence loss between y_true and y_pred.\n",
        "class LogCosh: Computes the logarithm of the hyperbolic cosine of the prediction error.\n",
        "class Loss: Loss base class.\n",
        "class MeanAbsoluteError: Computes the mean of absolute difference between labels and predictions.\n",
        "class MeanAbsolutePercentageError: Computes the mean absolute percentage error between y_true and y_pred.\n",
        "class MeanSquaredError: Computes the mean of squares of errors between labels and predictions.\n",
        "class MeanSquaredLogarithmicError: Computes the mean squared logarithmic error between y_true and y_pred.\n",
        "class Poisson: Computes the Poisson loss between y_true and y_pred.\n",
        "class Reduction: Types of loss reduction.\n",
        "class SparseCategoricalCrossentropy: Computes the crossentropy loss between the labels and predictions.\n",
        "class SquaredHinge: Computes the squared hinge loss between y_true and y_pred.\n",
        "```"
      ]
    },
    {
      "cell_type": "markdown",
      "metadata": {
        "id": "WmCwE2JDXX8t"
      },
      "source": [
        "```python\n",
        "# 내장 metric functions\n",
        "class AUC: Computes the approximate AUC (Area under the curve) via a Riemann sum.\n",
        "class Accuracy: Calculates how often predictions equals labels.\n",
        "class BinaryAccuracy: Calculates how often predictions matches binary labels.\n",
        "class BinaryCrossentropy: Computes the crossentropy metric between the labels and predictions.\n",
        "class CategoricalAccuracy: Calculates how often predictions matches one-hot labels.\n",
        "class CategoricalCrossentropy: Computes the crossentropy metric between the labels and predictions.\n",
        "class CategoricalHinge: Computes the categorical hinge metric between y_true and y_pred.\n",
        "class CosineSimilarity: Computes the cosine similarity between the labels and predictions.\n",
        "class FalseNegatives: Calculates the number of false negatives.\n",
        "class FalsePositives: Calculates the number of false positives.\n",
        "class Hinge: Computes the hinge metric between y_true and y_pred.\n",
        "class KLDivergence: Computes Kullback-Leibler divergence metric between y_true and y_pred.\n",
        "class LogCoshError: Computes the logarithm of the hyperbolic cosine of the prediction error.\n",
        "class Mean: Computes the (weighted) mean of the given values.\n",
        "class MeanAbsoluteError: Computes the mean absolute error between the labels and predictions.\n",
        "class MeanAbsolutePercentageError: Computes the mean absolute percentage error between y_true and y_pred.\n",
        "class MeanIoU: Computes the mean Intersection-Over-Union metric.\n",
        "class MeanRelativeError: Computes the mean relative error by normalizing with the given values.\n",
        "class MeanSquaredError: Computes the mean squared error between y_true and y_pred.\n",
        "class MeanSquaredLogarithmicError: Computes the mean squared logarithmic error between y_true and y_pred.\n",
        "class MeanTensor: Computes the element-wise (weighted) mean of the given tensors.\n",
        "class Metric: Encapsulates metric logic and state.\n",
        "class Poisson: Computes the Poisson metric between y_true and y_pred.\n",
        "class Precision: Computes the precision of the predictions with respect to the labels.\n",
        "class PrecisionAtRecall: Computes the precision at a given recall.\n",
        "class Recall: Computes the recall of the predictions with respect to the labels.\n",
        "class RecallAtPrecision: Computes the maximally achievable recall at a required precision.\n",
        "class RootMeanSquaredError: Computes root mean squared error metric between y_true and y_pred.\n",
        "class SensitivityAtSpecificity: Computes the sensitivity at a given specificity.\n",
        "class SparseCategoricalAccuracy: Calculates how often predictions matches integer labels.\n",
        "class SparseCategoricalCrossentropy: Computes the crossentropy metric between the labels and predictions.\n",
        "class SparseTopKCategoricalAccuracy: Computes how often integer targets are in the top K predictions.\n",
        "class SpecificityAtSensitivity: Computes the specificity at a given sensitivity.\n",
        "class SquaredHinge: Computes the squared hinge metric between y_true and y_pred.\n",
        "class Sum: Computes the (weighted) sum of the given values.\n",
        "class TopKCategoricalAccuracy: Computes how often targets are in the top K predictions.\n",
        "class TrueNegatives: Calculates the number of true negatives.\n",
        "class TruePositives: Calculates the number of true positives.\n",
        "```"
      ]
    },
    {
      "cell_type": "markdown",
      "metadata": {
        "id": "4FFP13Ldyp4T"
      },
      "source": [
        "함수 인스턴스로 compile 인수 설정하기"
      ]
    },
    {
      "cell_type": "markdown",
      "metadata": {
        "id": "DvKzOWb1yp4T"
      },
      "source": [
        "---\n",
        "```python\n",
        "opt = keras.optimizers.Adam(learning_rate=0.01)\n",
        "loss_fn = keras.losses.SparseCategoricalCrossentropy()\n",
        "metric_fn = keras.metrics.Accuracy()\n",
        "\n",
        "model.compile(loss=loss_fn, optimizer=opt, metrics=[metric_fn])\n",
        "```\n",
        "---"
      ]
    },
    {
      "cell_type": "markdown",
      "metadata": {
        "id": "lP5UeAuBYcoe"
      },
      "source": [
        "##### - 사용자 loss, metric함수 만들기"
      ]
    },
    {
      "cell_type": "code",
      "execution_count": 33,
      "metadata": {
        "colab": {
          "base_uri": "https://localhost:8080/"
        },
        "id": "vln-X99fbnmP",
        "outputId": "edb99e76-78a9-49d5-b69d-602ceea9c26c"
      },
      "outputs": [
        {
          "output_type": "stream",
          "name": "stdout",
          "text": [
            "Epoch 1/3\n",
            "938/938 [==============================] - 5s 3ms/step - loss: 0.1801 - Accuracy: 0.0993 - custom_mean_error: 9.9288e-14\n",
            "Epoch 2/3\n",
            "938/938 [==============================] - 4s 4ms/step - loss: 0.1802 - Accuracy: 0.0992 - custom_mean_error: 0.0000e+00\n",
            "Epoch 3/3\n",
            "938/938 [==============================] - 4s 4ms/step - loss: 0.1802 - Accuracy: 0.0992 - custom_mean_error: 0.0000e+00\n"
          ]
        },
        {
          "output_type": "execute_result",
          "data": {
            "text/plain": [
              "<keras.src.callbacks.History at 0x7a3d3e61c040>"
            ]
          },
          "metadata": {},
          "execution_count": 33
        }
      ],
      "source": [
        "(x_train, y_train), (x_test, y_test) = keras.datasets.mnist.load_data()\n",
        "\n",
        "model = create_model1()\n",
        "\n",
        "# loss 함수 만들기\n",
        "def custom_mean_squared_error(y_true, y_pred):\n",
        "    return tf.math.reduce_mean(tf.square(y_true - y_pred))\n",
        "# metric 함수 만들기\n",
        "def custom_mean_error(y_true, y_pred):\n",
        "    return tf.math.reduce_mean(y_true - y_pred)\n",
        "\n",
        "model.compile(optimizer=keras.optimizers.Adam(),\n",
        "              loss=custom_mean_squared_error,\n",
        "              metrics=['Accuracy',custom_mean_error])\n",
        "\n",
        "# MSE 계산을 위해 레이블을 one-hot encoding\n",
        "y_train_one_hot = tf.one_hot(y_train, depth=10)\n",
        "model.fit(x_train, y_train_one_hot, batch_size=64, epochs=3)"
      ]
    },
    {
      "cell_type": "markdown",
      "metadata": {
        "id": "63qUenoEjokp"
      },
      "source": [
        "---\n",
        "```python\n",
        "## fit() arguments, default values\n",
        "Model.fit(\n",
        "    x=None,                       # 입력 데이터\n",
        "    y=None,                       # 대상 데이터\n",
        "    batch_size=None,              # 그라디언트 업데이트 / 샘플 수\n",
        "    epochs=1,                     # 모델을 훈련시킬 에포크 수\n",
        "    verbose=1,                    # 0 = 무음, 1 = 진행률 표시 줄, 2 = 에포크 당 한 줄\n",
        "    callbacks=None,               # keras.callbacks.Callback인스턴스 list   \n",
        "    validation_split=0.0,         # 검증 데이터로 사용될 훈련 데이터의 비율\n",
        "    validation_data=None,         # 각 에포크의 끝에서 모델 메트릭을 평가할 데이터\n",
        "    shuffle=True,                 # 각 에포크 전에 훈련 데이터를 임의 순서로 섞을 것인지\n",
        "    class_weight=None,            # 손실 함수의 가중치를 부여하는 데 사용, 부족한 클래스에 가중치 제공\n",
        "    sample_weight=None,           # 손실 기능의 가중치를 부여하는 데 사용, 샘플들 간에 다른 가중치 제공\n",
        "    initial_epoch=0,              # 훈련을 시작할 시점, 훈련을 재개하는 데 유용\n",
        "    steps_per_epoch=None,         # 에포크의 완료를 선언할 배치의 수, 무한 반복되는 데이터 사용시\n",
        "    validation_steps=None,        # 검증의 완료를 선언할 배치의 수, 무한 반복되는 데이터 사용시\n",
        "    validation_batch_size=None,   # 검증 배치 당 샘플 수, 지정되지 않은 경우 batch_size\n",
        "    validation_freq=1,            # 지정한 에포크끝에서 검증 수행, ( =5, =[1, 2, 10] )\n",
        "    max_queue_size=10,            # generator 또는 Sequence 입력에만 사용, 최대 generator 큐\n",
        "    workers=1,                    # generator 또는 Sequence입력에만 사용, 최대  프로세스기반 쓰레드\n",
        "    use_multiprocessing=False,    # generator 또는 Sequence입력에만 사용, 최대  프로세스기반 쓰레드\n",
        ")\n",
        "```\n",
        "---"
      ]
    },
    {
      "cell_type": "markdown",
      "metadata": {
        "id": "6AmDjJzCVknk"
      },
      "source": [
        "- callback 사용하기"
      ]
    },
    {
      "cell_type": "markdown",
      "metadata": {
        "id": "aupxEQGokfZT"
      },
      "source": [
        "다음과 같은 형태로 callback에 여러개의 함수를 적용할 수 있습니다."
      ]
    },
    {
      "cell_type": "markdown",
      "metadata": {
        "id": "VKMyA3AGkocZ"
      },
      "source": [
        "---\n",
        "```python\n",
        "def scheduler(epoch, lr):\n",
        "    if epoch < 10:  # 10, 20, 30, 50, ...\n",
        "        return 0.001  # lr, 0.01, 0.001, ...\n",
        "    else:\n",
        "        return lr * tf.math.exp(0.002 * (10 - epoch))\n",
        "\n",
        "my_callbacks = [\n",
        "    keras.callbacks.EarlyStopping(monitor=\"val_accuracy\",patience=5),\n",
        "    keras.callbacks.LearningRateScheduler(scheduler),\n",
        "    keras.callbacks.TensorBoard(log_dir='./logs'),\n",
        "    keras.callbacks.ModelCheckpoint(filepath='./ckpt/cp.ckpt',\n",
        "                                    save_best_only=True, save_weights_only=False,),\n",
        "             ]\n",
        "model.fit(x_train,y_train, epochs=100, batch_size=1024, callbacks=my_callbacks,\n",
        "          validation_data=(x_test, y_test))\n",
        "```\n",
        "---"
      ]
    },
    {
      "cell_type": "code",
      "execution_count": 34,
      "metadata": {
        "id": "6RN1M0H0f3vm",
        "scrolled": true
      },
      "outputs": [],
      "source": [
        "# 데이터 준비\n",
        "(x_train, y_train), (x_test, y_test) = keras.datasets.mnist.load_data()\n",
        "y_train = tf.one_hot(y_train,depth=10)\n",
        "y_test = tf.one_hot(y_test,depth=10)\n",
        "\n",
        "model = create_model1()\n",
        "\n",
        "# compile option\n",
        "model.compile(loss='categorical_crossentropy',\n",
        "              optimizer='adam',\n",
        "              metrics=['accuracy'])"
      ]
    },
    {
      "cell_type": "code",
      "execution_count": 35,
      "metadata": {
        "colab": {
          "base_uri": "https://localhost:8080/"
        },
        "id": "Pp9lZWZ7mXLf",
        "outputId": "10f74eb2-7a22-4e6f-b282-71195bba4b27",
        "scrolled": true,
        "tags": []
      },
      "outputs": [
        {
          "output_type": "stream",
          "name": "stdout",
          "text": [
            "Epoch 1/100\n",
            "59/59 [==============================] - 1s 7ms/step - loss: 18.1323 - accuracy: 0.7053 - val_loss: 4.9111 - val_accuracy: 0.8489\n",
            "Epoch 2/100\n",
            "59/59 [==============================] - 0s 4ms/step - loss: 3.7320 - accuracy: 0.8601 - val_loss: 3.0283 - val_accuracy: 0.8740\n",
            "Epoch 3/100\n",
            "59/59 [==============================] - 0s 5ms/step - loss: 2.3755 - accuracy: 0.8823 - val_loss: 2.2241 - val_accuracy: 0.8828\n",
            "Epoch 4/100\n",
            "59/59 [==============================] - 0s 4ms/step - loss: 1.7370 - accuracy: 0.8908 - val_loss: 1.7364 - val_accuracy: 0.8869\n",
            "Epoch 5/100\n",
            "59/59 [==============================] - 0s 4ms/step - loss: 1.2992 - accuracy: 0.8999 - val_loss: 1.4507 - val_accuracy: 0.8891\n",
            "Epoch 6/100\n",
            "59/59 [==============================] - 0s 4ms/step - loss: 1.0328 - accuracy: 0.9043 - val_loss: 1.2313 - val_accuracy: 0.8928\n",
            "Epoch 7/100\n",
            "59/59 [==============================] - 0s 4ms/step - loss: 0.8353 - accuracy: 0.9082 - val_loss: 1.0933 - val_accuracy: 0.8953\n",
            "Epoch 8/100\n",
            "59/59 [==============================] - 0s 4ms/step - loss: 0.7018 - accuracy: 0.9102 - val_loss: 0.9870 - val_accuracy: 0.8969\n",
            "Epoch 9/100\n",
            "59/59 [==============================] - 0s 4ms/step - loss: 0.5873 - accuracy: 0.9157 - val_loss: 0.9174 - val_accuracy: 0.8980\n",
            "Epoch 10/100\n",
            "59/59 [==============================] - 0s 4ms/step - loss: 0.5106 - accuracy: 0.9201 - val_loss: 0.8733 - val_accuracy: 0.9015\n",
            "Epoch 11/100\n",
            "59/59 [==============================] - 0s 5ms/step - loss: 0.4456 - accuracy: 0.9256 - val_loss: 0.8062 - val_accuracy: 0.9039\n",
            "Epoch 12/100\n",
            "59/59 [==============================] - 0s 5ms/step - loss: 0.3976 - accuracy: 0.9291 - val_loss: 0.7673 - val_accuracy: 0.9095\n",
            "Epoch 13/100\n",
            "59/59 [==============================] - 0s 5ms/step - loss: 0.3560 - accuracy: 0.9330 - val_loss: 0.7451 - val_accuracy: 0.9081\n",
            "Epoch 14/100\n",
            "59/59 [==============================] - 0s 4ms/step - loss: 0.3224 - accuracy: 0.9375 - val_loss: 0.7113 - val_accuracy: 0.9111\n",
            "Epoch 15/100\n",
            "59/59 [==============================] - 0s 4ms/step - loss: 0.2925 - accuracy: 0.9415 - val_loss: 0.7045 - val_accuracy: 0.9134\n",
            "Epoch 16/100\n",
            "59/59 [==============================] - 0s 4ms/step - loss: 0.2649 - accuracy: 0.9442 - val_loss: 0.6779 - val_accuracy: 0.9149\n",
            "Epoch 17/100\n",
            "59/59 [==============================] - 0s 4ms/step - loss: 0.2465 - accuracy: 0.9464 - val_loss: 0.6619 - val_accuracy: 0.9154\n",
            "Epoch 18/100\n",
            "59/59 [==============================] - 0s 4ms/step - loss: 0.2297 - accuracy: 0.9494 - val_loss: 0.6498 - val_accuracy: 0.9166\n",
            "Epoch 19/100\n",
            "59/59 [==============================] - 0s 4ms/step - loss: 0.2140 - accuracy: 0.9515 - val_loss: 0.6218 - val_accuracy: 0.9179\n",
            "Epoch 20/100\n",
            "59/59 [==============================] - 0s 5ms/step - loss: 0.1949 - accuracy: 0.9546 - val_loss: 0.6270 - val_accuracy: 0.9208\n",
            "Epoch 21/100\n",
            "59/59 [==============================] - 0s 4ms/step - loss: 0.1832 - accuracy: 0.9561 - val_loss: 0.5993 - val_accuracy: 0.9219\n",
            "Epoch 22/100\n",
            "59/59 [==============================] - 0s 4ms/step - loss: 0.1743 - accuracy: 0.9578 - val_loss: 0.6133 - val_accuracy: 0.9209\n",
            "Epoch 23/100\n",
            "59/59 [==============================] - 0s 5ms/step - loss: 0.1628 - accuracy: 0.9596 - val_loss: 0.5987 - val_accuracy: 0.9232\n",
            "Epoch 24/100\n",
            "59/59 [==============================] - 0s 5ms/step - loss: 0.1512 - accuracy: 0.9613 - val_loss: 0.6003 - val_accuracy: 0.9242\n",
            "Epoch 25/100\n",
            "59/59 [==============================] - 0s 4ms/step - loss: 0.1452 - accuracy: 0.9621 - val_loss: 0.5856 - val_accuracy: 0.9256\n",
            "Epoch 26/100\n",
            "59/59 [==============================] - 0s 5ms/step - loss: 0.1355 - accuracy: 0.9643 - val_loss: 0.5833 - val_accuracy: 0.9246\n",
            "Epoch 27/100\n",
            "59/59 [==============================] - 0s 4ms/step - loss: 0.1302 - accuracy: 0.9656 - val_loss: 0.5610 - val_accuracy: 0.9244\n"
          ]
        },
        {
          "output_type": "execute_result",
          "data": {
            "text/plain": [
              "<keras.src.callbacks.History at 0x7a3d3e9191b0>"
            ]
          },
          "metadata": {},
          "execution_count": 35
        }
      ],
      "source": [
        "# fit option : EarlyStoping 설정\n",
        "my_callbacks = [ keras.callbacks.EarlyStopping(monitor=\"val_accuracy\",patience=2), ]\n",
        "model.fit(x_train,y_train, epochs=100, batch_size=1024, callbacks=my_callbacks,\n",
        "          validation_data=(x_test, y_test))"
      ]
    },
    {
      "cell_type": "markdown",
      "metadata": {
        "id": "1erPN0lFyp4U"
      },
      "source": [
        "---\n",
        "```python\n",
        "epoch = 100\n",
        "\n",
        "def scheduler(epoch):\n",
        "    initial_lrate = 0.01\n",
        "    if epoch < 10:  # 10, 20, 30, 50, ...\n",
        "        return 0.01  # lr, 0.01, 0.001, ...\n",
        "    else:\n",
        "        return initial_lrate * tf.math.exp(0.03 * (10 - epoch))\n",
        "\n",
        "my_callbacks = [ keras.callbacks.LearningRateScheduler(scheduler), ]\n",
        "model.fit(x_train,y_train, epochs=20, batch_size=1024, callbacks=my_callbacks,\n",
        "          validation_data=(x_test, y_test))\n",
        "```\n",
        "---"
      ]
    },
    {
      "cell_type": "code",
      "execution_count": 36,
      "metadata": {
        "id": "TD9xQ0-bnPkh",
        "outputId": "8e7819ac-1980-4c1d-9818-84d53d6f0c74",
        "tags": [],
        "colab": {
          "base_uri": "https://localhost:8080/",
          "height": 430
        }
      },
      "outputs": [
        {
          "output_type": "display_data",
          "data": {
            "text/plain": [
              "<Figure size 640x480 with 1 Axes>"
            ],
            "image/png": "[encoded data removed]"
          },
          "metadata": {}
        }
      ],
      "source": [
        "import matplotlib.pylab as plt\n",
        "\n",
        "epoch = 100\n",
        "\n",
        "def scheduler(epoch):\n",
        "    initial_lrate = 0.01\n",
        "    if epoch < 10:  # 10, 20, 30, 50, ...\n",
        "        return 0.01  # lr, 0.01, 0.001, ...\n",
        "    else:\n",
        "        return initial_lrate * tf.math.exp(0.03 * (10 - epoch))\n",
        "\n",
        "lr=[]\n",
        "\n",
        "for step in range(epoch):\n",
        "    lr.append(scheduler(step))\n",
        "\n",
        "plt.plot(lr, linestyle='--', label=\"scheduler\")\n",
        "\n",
        "plt.legend()\n",
        "plt.grid()\n",
        "plt.show()"
      ]
    },
    {
      "cell_type": "markdown",
      "metadata": {
        "id": "4KVsEj_1PnBY"
      },
      "source": [
        "ExponentialDecay"
      ]
    },
    {
      "cell_type": "code",
      "execution_count": 37,
      "metadata": {
        "id": "gY8FzfeFPnBb",
        "tags": [],
        "colab": {
          "base_uri": "https://localhost:8080/",
          "height": 430
        },
        "outputId": "ddf52456-119f-4f00-9dae-3a68b5a06eaa"
      },
      "outputs": [
        {
          "output_type": "display_data",
          "data": {
            "text/plain": [
              "<Figure size 640x480 with 1 Axes>"
            ],
            "image/png": "[encoded data removed]"
          },
          "metadata": {}
        }
      ],
      "source": [
        "def ExponentialDecay(step,staircase=False):\n",
        "    initial_lrate = 0.1\n",
        "    decay_steps = 10\n",
        "    decay_rate=0.7\n",
        "    if staircase :\n",
        "        return initial_lrate * decay_rate ** (step // decay_steps)\n",
        "    return initial_lrate * decay_rate ** (step / decay_steps)\n",
        "\n",
        "lr=[]\n",
        "lr_s=[]\n",
        "for step in range(100):\n",
        "    lr.append(ExponentialDecay(step,staircase=False))\n",
        "    lr_s.append(ExponentialDecay(step,staircase=True))\n",
        "\n",
        "\n",
        "import matplotlib.pylab as plt\n",
        "\n",
        "plt.plot(lr, linestyle='--', label=\"ExponentialDecay\")\n",
        "plt.plot(lr_s, linestyle='--', label=\"ExponentialDecay_step\")\n",
        "\n",
        "plt.legend()\n",
        "plt.grid()\n",
        "plt.show()"
      ]
    },
    {
      "cell_type": "markdown",
      "metadata": {
        "id": "fadXy1aoyp4V"
      },
      "source": [
        "PolynomialDecay"
      ]
    },
    {
      "cell_type": "code",
      "execution_count": 38,
      "metadata": {
        "id": "7-6-09kIPnBQ",
        "tags": [],
        "colab": {
          "base_uri": "https://localhost:8080/",
          "height": 430
        },
        "outputId": "3b2c3065-a32f-4deb-b757-6ad557b2ba3f"
      },
      "outputs": [
        {
          "output_type": "display_data",
          "data": {
            "text/plain": [
              "<Figure size 640x480 with 1 Axes>"
            ],
            "image/png": "[encoded data removed]"
          },
          "metadata": {}
        }
      ],
      "source": [
        "def PolynomialDecay(step):\n",
        "    initial_lrate = 0.1\n",
        "    end_lrate = 0.01\n",
        "    decay_steps = 100  # = epochs\n",
        "    power=0.5\n",
        "    step = min(step, decay_steps)\n",
        "    return (((initial_lrate - end_lrate)\n",
        "           * (1 - step / decay_steps) ** (power) ) + end_lrate)\n",
        "\n",
        "lr=[]\n",
        "\n",
        "for step in range(100):\n",
        "    lr.append(PolynomialDecay(step))\n",
        "\n",
        "plt.plot(lr, linestyle='--', label=\"PolynomialDecay\")\n",
        "\n",
        "plt.legend()\n",
        "plt.grid()\n",
        "plt.show()"
      ]
    },
    {
      "cell_type": "markdown",
      "metadata": {
        "id": "Ahu1R3hzyp4V"
      },
      "source": [
        "InverseTimeDecay"
      ]
    },
    {
      "cell_type": "code",
      "execution_count": 39,
      "metadata": {
        "colab": {
          "base_uri": "https://localhost:8080/",
          "height": 430
        },
        "id": "673xUBTzPnBl",
        "outputId": "802a6866-3fba-487e-a51a-36d09de0aeed",
        "tags": []
      },
      "outputs": [
        {
          "output_type": "display_data",
          "data": {
            "text/plain": [
              "<Figure size 640x480 with 1 Axes>"
            ],
            "image/png": "[encoded data removed]"
          },
          "metadata": {}
        }
      ],
      "source": [
        "def InverseTimeDecay(step):\n",
        "    initial_lrate = 0.1\n",
        "    decay_steps = 10\n",
        "    decay_rate = 0.5\n",
        "\n",
        "    return initial_lrate / (1 + decay_rate * step / decay_steps)\n",
        "\n",
        "lr=[]\n",
        "for step in range(100):\n",
        "    lr.append(InverseTimeDecay(step))\n",
        "\n",
        "plt.plot(lr, linestyle='--', label=\"InverseTimeDecay\")\n",
        "\n",
        "plt.legend()\n",
        "plt.grid()\n",
        "plt.show()"
      ]
    },
    {
      "cell_type": "code",
      "execution_count": 40,
      "metadata": {
        "id": "nBpou5Oyyp4W"
      },
      "outputs": [],
      "source": [
        "# 데이터 준비\n",
        "(x_train, y_train), (x_test, y_test) = keras.datasets.mnist.load_data()\n",
        "# one hot encode target values\n",
        "y_train = tf.one_hot(y_train,depth=10)\n",
        "y_test = tf.one_hot(y_test,depth=10)\n",
        "#x_train = x_train/255.  ##\n",
        "#x_test = x_test/255.    ##\n",
        "\n"
      ]
    },
    {
      "cell_type": "code",
      "execution_count": 41,
      "metadata": {
        "id": "3ynJHH0L3xTV",
        "scrolled": true,
        "tags": [],
        "colab": {
          "base_uri": "https://localhost:8080/"
        },
        "outputId": "b2c47047-1bce-4c1f-c115-ff9c45184509"
      },
      "outputs": [
        {
          "output_type": "stream",
          "name": "stdout",
          "text": [
            "Epoch 1/50\n",
            "59/59 - 2s - loss: 19.6678 - accuracy: 0.5985 - val_loss: 1.1007 - val_accuracy: 0.6699 - 2s/epoch - 31ms/step\n",
            "Epoch 2/50\n",
            "59/59 - 0s - loss: 1.0749 - accuracy: 0.7150 - val_loss: 1.0891 - val_accuracy: 0.7085 - 399ms/epoch - 7ms/step\n",
            "Epoch 3/50\n",
            "59/59 - 0s - loss: 0.8110 - accuracy: 0.8015 - val_loss: 0.6514 - val_accuracy: 0.8701 - 340ms/epoch - 6ms/step\n",
            "Epoch 4/50\n",
            "59/59 - 0s - loss: 0.6137 - accuracy: 0.8608 - val_loss: 0.4851 - val_accuracy: 0.8973 - 350ms/epoch - 6ms/step\n",
            "Epoch 5/50\n",
            "59/59 - 0s - loss: 0.5171 - accuracy: 0.8856 - val_loss: 0.5854 - val_accuracy: 0.8916 - 327ms/epoch - 6ms/step\n",
            "Epoch 6/50\n",
            "59/59 - 0s - loss: 0.4442 - accuracy: 0.8974 - val_loss: 0.9190 - val_accuracy: 0.8758 - 247ms/epoch - 4ms/step\n",
            "Epoch 7/50\n",
            "59/59 - 0s - loss: 0.4220 - accuracy: 0.9045 - val_loss: 0.4863 - val_accuracy: 0.8855 - 205ms/epoch - 3ms/step\n",
            "Epoch 8/50\n",
            "59/59 - 0s - loss: 0.3957 - accuracy: 0.9028 - val_loss: 0.4911 - val_accuracy: 0.9010 - 253ms/epoch - 4ms/step\n",
            "Epoch 9/50\n",
            "59/59 - 0s - loss: 0.3479 - accuracy: 0.9162 - val_loss: 1.1343 - val_accuracy: 0.8024 - 239ms/epoch - 4ms/step\n",
            "Epoch 10/50\n",
            "59/59 - 0s - loss: 0.3503 - accuracy: 0.9172 - val_loss: 0.4421 - val_accuracy: 0.9109 - 211ms/epoch - 4ms/step\n",
            "Epoch 11/50\n",
            "59/59 - 0s - loss: 0.3315 - accuracy: 0.9203 - val_loss: 0.4039 - val_accuracy: 0.9249 - 207ms/epoch - 4ms/step\n",
            "Epoch 12/50\n",
            "59/59 - 0s - loss: 0.3158 - accuracy: 0.9254 - val_loss: 0.3328 - val_accuracy: 0.9351 - 243ms/epoch - 4ms/step\n",
            "Epoch 13/50\n",
            "59/59 - 0s - loss: 0.3046 - accuracy: 0.9274 - val_loss: 0.4937 - val_accuracy: 0.9216 - 206ms/epoch - 3ms/step\n",
            "Epoch 14/50\n",
            "59/59 - 0s - loss: 0.2872 - accuracy: 0.9312 - val_loss: 0.3511 - val_accuracy: 0.9350 - 199ms/epoch - 3ms/step\n",
            "Epoch 15/50\n",
            "59/59 - 0s - loss: 0.2835 - accuracy: 0.9340 - val_loss: 0.6595 - val_accuracy: 0.8653 - 218ms/epoch - 4ms/step\n",
            "Epoch 16/50\n",
            "59/59 - 0s - loss: 0.2930 - accuracy: 0.9323 - val_loss: 0.5212 - val_accuracy: 0.9140 - 214ms/epoch - 4ms/step\n",
            "Epoch 17/50\n",
            "59/59 - 0s - loss: 0.2847 - accuracy: 0.9335 - val_loss: 0.3551 - val_accuracy: 0.9410 - 211ms/epoch - 4ms/step\n",
            "Epoch 18/50\n",
            "59/59 - 0s - loss: 0.2646 - accuracy: 0.9391 - val_loss: 0.3745 - val_accuracy: 0.9434 - 237ms/epoch - 4ms/step\n",
            "Epoch 19/50\n",
            "59/59 - 0s - loss: 0.2531 - accuracy: 0.9413 - val_loss: 0.5472 - val_accuracy: 0.9008 - 195ms/epoch - 3ms/step\n",
            "Epoch 20/50\n",
            "59/59 - 0s - loss: 0.2643 - accuracy: 0.9384 - val_loss: 0.3265 - val_accuracy: 0.9404 - 208ms/epoch - 4ms/step\n",
            "Epoch 21/50\n",
            "59/59 - 0s - loss: 0.2409 - accuracy: 0.9451 - val_loss: 0.6451 - val_accuracy: 0.8721 - 202ms/epoch - 3ms/step\n",
            "Epoch 22/50\n",
            "59/59 - 0s - loss: 0.2529 - accuracy: 0.9423 - val_loss: 0.9288 - val_accuracy: 0.8441 - 206ms/epoch - 3ms/step\n",
            "Epoch 23/50\n",
            "59/59 - 0s - loss: 0.2477 - accuracy: 0.9455 - val_loss: 0.4614 - val_accuracy: 0.9308 - 198ms/epoch - 3ms/step\n",
            "Epoch 24/50\n",
            "59/59 - 0s - loss: 0.2423 - accuracy: 0.9443 - val_loss: 0.4319 - val_accuracy: 0.9363 - 207ms/epoch - 4ms/step\n",
            "Epoch 25/50\n",
            "59/59 - 0s - loss: 0.2358 - accuracy: 0.9453 - val_loss: 0.4134 - val_accuracy: 0.9402 - 238ms/epoch - 4ms/step\n",
            "Epoch 26/50\n",
            "59/59 - 0s - loss: 0.2211 - accuracy: 0.9495 - val_loss: 0.3924 - val_accuracy: 0.9395 - 209ms/epoch - 4ms/step\n",
            "Epoch 27/50\n",
            "59/59 - 0s - loss: 0.2321 - accuracy: 0.9473 - val_loss: 0.3497 - val_accuracy: 0.9459 - 202ms/epoch - 3ms/step\n",
            "Epoch 28/50\n",
            "59/59 - 0s - loss: 0.2254 - accuracy: 0.9481 - val_loss: 0.4358 - val_accuracy: 0.9440 - 241ms/epoch - 4ms/step\n",
            "Epoch 29/50\n",
            "59/59 - 0s - loss: 0.2348 - accuracy: 0.9491 - val_loss: 0.3511 - val_accuracy: 0.9391 - 293ms/epoch - 5ms/step\n",
            "Epoch 30/50\n",
            "59/59 - 0s - loss: 0.2217 - accuracy: 0.9491 - val_loss: 0.4172 - val_accuracy: 0.9437 - 321ms/epoch - 5ms/step\n",
            "Epoch 31/50\n",
            "59/59 - 1s - loss: 0.2247 - accuracy: 0.9501 - val_loss: 0.3968 - val_accuracy: 0.9394 - 602ms/epoch - 10ms/step\n",
            "Epoch 32/50\n",
            "59/59 - 1s - loss: 0.2224 - accuracy: 0.9486 - val_loss: 0.4347 - val_accuracy: 0.9355 - 715ms/epoch - 12ms/step\n",
            "Epoch 33/50\n",
            "59/59 - 1s - loss: 0.2083 - accuracy: 0.9521 - val_loss: 0.4977 - val_accuracy: 0.9362 - 597ms/epoch - 10ms/step\n",
            "Epoch 34/50\n",
            "59/59 - 1s - loss: 0.2128 - accuracy: 0.9530 - val_loss: 0.7702 - val_accuracy: 0.8900 - 572ms/epoch - 10ms/step\n",
            "Epoch 35/50\n",
            "59/59 - 1s - loss: 0.2153 - accuracy: 0.9510 - val_loss: 0.5385 - val_accuracy: 0.9017 - 503ms/epoch - 9ms/step\n",
            "Epoch 36/50\n",
            "59/59 - 0s - loss: 0.2116 - accuracy: 0.9533 - val_loss: 0.5354 - val_accuracy: 0.9214 - 492ms/epoch - 8ms/step\n",
            "Epoch 37/50\n",
            "59/59 - 1s - loss: 0.2020 - accuracy: 0.9539 - val_loss: 0.6155 - val_accuracy: 0.9130 - 554ms/epoch - 9ms/step\n",
            "Epoch 38/50\n",
            "59/59 - 0s - loss: 0.2056 - accuracy: 0.9532 - val_loss: 0.4864 - val_accuracy: 0.9372 - 495ms/epoch - 8ms/step\n",
            "Epoch 39/50\n",
            "59/59 - 1s - loss: 0.2098 - accuracy: 0.9534 - val_loss: 0.4339 - val_accuracy: 0.9459 - 512ms/epoch - 9ms/step\n",
            "Epoch 40/50\n",
            "59/59 - 0s - loss: 0.2056 - accuracy: 0.9542 - val_loss: 0.4408 - val_accuracy: 0.9409 - 251ms/epoch - 4ms/step\n",
            "Epoch 41/50\n",
            "59/59 - 0s - loss: 0.1938 - accuracy: 0.9550 - val_loss: 0.5153 - val_accuracy: 0.9060 - 234ms/epoch - 4ms/step\n",
            "Epoch 42/50\n",
            "59/59 - 0s - loss: 0.2061 - accuracy: 0.9549 - val_loss: 0.4184 - val_accuracy: 0.9448 - 204ms/epoch - 3ms/step\n",
            "Epoch 43/50\n",
            "59/59 - 0s - loss: 0.2046 - accuracy: 0.9567 - val_loss: 0.4765 - val_accuracy: 0.9390 - 204ms/epoch - 3ms/step\n",
            "Epoch 44/50\n",
            "59/59 - 0s - loss: 0.1934 - accuracy: 0.9566 - val_loss: 0.4416 - val_accuracy: 0.9390 - 215ms/epoch - 4ms/step\n",
            "Epoch 45/50\n",
            "59/59 - 0s - loss: 0.1896 - accuracy: 0.9574 - val_loss: 0.5042 - val_accuracy: 0.9378 - 205ms/epoch - 3ms/step\n",
            "Epoch 46/50\n",
            "59/59 - 0s - loss: 0.1934 - accuracy: 0.9582 - val_loss: 0.5063 - val_accuracy: 0.9418 - 220ms/epoch - 4ms/step\n",
            "Epoch 47/50\n",
            "59/59 - 0s - loss: 0.1929 - accuracy: 0.9584 - val_loss: 0.4871 - val_accuracy: 0.9447 - 226ms/epoch - 4ms/step\n",
            "Epoch 48/50\n",
            "59/59 - 0s - loss: 0.1941 - accuracy: 0.9585 - val_loss: 0.7297 - val_accuracy: 0.9207 - 206ms/epoch - 3ms/step\n",
            "Epoch 49/50\n",
            "59/59 - 0s - loss: 0.1842 - accuracy: 0.9602 - val_loss: 0.4538 - val_accuracy: 0.9466 - 205ms/epoch - 3ms/step\n",
            "Epoch 50/50\n",
            "59/59 - 0s - loss: 0.1877 - accuracy: 0.9602 - val_loss: 0.4742 - val_accuracy: 0.9422 - 240ms/epoch - 4ms/step\n"
          ]
        }
      ],
      "source": [
        "model = create_model1()\n",
        "\n",
        "initial_lrate = 0.005\n",
        "# compile option\n",
        "model.compile(loss='categorical_crossentropy',\n",
        "              optimizer=keras.optimizers.RMSprop(learning_rate=initial_lrate),\n",
        "              metrics=['accuracy'])\n",
        "\n",
        "## learning rate schdueler와 비교하기 위해서 저장\n",
        "history1 = model.fit(x_train,y_train, epochs=50, batch_size=1024,\n",
        "                      validation_data=(x_test, y_test), verbose=2 )"
      ]
    },
    {
      "cell_type": "code",
      "execution_count": 42,
      "metadata": {
        "tags": [],
        "colab": {
          "base_uri": "https://localhost:8080/",
          "height": 430
        },
        "id": "tONRoOKbyp4W",
        "outputId": "babe5e73-a381-4562-f537-ca45b5a442ab"
      },
      "outputs": [
        {
          "output_type": "display_data",
          "data": {
            "text/plain": [
              "<Figure size 640x480 with 1 Axes>"
            ],
            "image/png": "[encoded data removed]"
          },
          "metadata": {}
        }
      ],
      "source": [
        "def ExponentialDecay_s(step):\n",
        "    initial_lrate = 0.005\n",
        "    decay_steps = 10.\n",
        "    decay_rate=0.5\n",
        "    return initial_lrate * decay_rate ** (step // decay_steps)\n",
        "\n",
        "lr=[]\n",
        "for step in range(50):\n",
        "    lr.append(ExponentialDecay_s(step))\n",
        "\n",
        "import matplotlib.pylab as plt\n",
        "\n",
        "plt.plot(lr, linestyle='--', label=\"ExponentialDecay\")\n",
        "\n",
        "plt.legend()\n",
        "plt.grid()\n",
        "plt.show()"
      ]
    },
    {
      "cell_type": "code",
      "execution_count": 43,
      "metadata": {
        "scrolled": true,
        "tags": [],
        "colab": {
          "base_uri": "https://localhost:8080/"
        },
        "id": "b3eewkNcyp4W",
        "outputId": "451a32c5-2c53-4ac7-cbcf-18bc54ac9423"
      },
      "outputs": [
        {
          "output_type": "stream",
          "name": "stdout",
          "text": [
            "\n",
            "Epoch 1: LearningRateScheduler setting learning rate to 0.005.\n",
            "Epoch 1/50\n",
            "59/59 - 1s - loss: 33.8718 - accuracy: 0.7277 - val_loss: 3.6253 - val_accuracy: 0.8332 - lr: 0.0050 - 1s/epoch - 24ms/step\n",
            "\n",
            "Epoch 2: LearningRateScheduler setting learning rate to 0.005.\n",
            "Epoch 2/50\n",
            "59/59 - 0s - loss: 1.4347 - accuracy: 0.7760 - val_loss: 1.0487 - val_accuracy: 0.7718 - lr: 0.0050 - 214ms/epoch - 4ms/step\n",
            "\n",
            "Epoch 3: LearningRateScheduler setting learning rate to 0.005.\n",
            "Epoch 3/50\n",
            "59/59 - 0s - loss: 0.7772 - accuracy: 0.8270 - val_loss: 0.6579 - val_accuracy: 0.8659 - lr: 0.0050 - 219ms/epoch - 4ms/step\n",
            "\n",
            "Epoch 4: LearningRateScheduler setting learning rate to 0.005.\n",
            "Epoch 4/50\n",
            "59/59 - 0s - loss: 0.5215 - accuracy: 0.8838 - val_loss: 0.4204 - val_accuracy: 0.8999 - lr: 0.0050 - 247ms/epoch - 4ms/step\n",
            "\n",
            "Epoch 5: LearningRateScheduler setting learning rate to 0.005.\n",
            "Epoch 5/50\n",
            "59/59 - 0s - loss: 0.4130 - accuracy: 0.9046 - val_loss: 0.4650 - val_accuracy: 0.9092 - lr: 0.0050 - 239ms/epoch - 4ms/step\n",
            "\n",
            "Epoch 6: LearningRateScheduler setting learning rate to 0.005.\n",
            "Epoch 6/50\n",
            "59/59 - 0s - loss: 0.3838 - accuracy: 0.9152 - val_loss: 0.3867 - val_accuracy: 0.9257 - lr: 0.0050 - 234ms/epoch - 4ms/step\n",
            "\n",
            "Epoch 7: LearningRateScheduler setting learning rate to 0.005.\n",
            "Epoch 7/50\n",
            "59/59 - 0s - loss: 0.3231 - accuracy: 0.9238 - val_loss: 0.3851 - val_accuracy: 0.9246 - lr: 0.0050 - 213ms/epoch - 4ms/step\n",
            "\n",
            "Epoch 8: LearningRateScheduler setting learning rate to 0.005.\n",
            "Epoch 8/50\n",
            "59/59 - 0s - loss: 0.3049 - accuracy: 0.9284 - val_loss: 0.3780 - val_accuracy: 0.9256 - lr: 0.0050 - 209ms/epoch - 4ms/step\n",
            "\n",
            "Epoch 9: LearningRateScheduler setting learning rate to 0.005.\n",
            "Epoch 9/50\n",
            "59/59 - 0s - loss: 0.2759 - accuracy: 0.9347 - val_loss: 0.4386 - val_accuracy: 0.9143 - lr: 0.0050 - 248ms/epoch - 4ms/step\n",
            "\n",
            "Epoch 10: LearningRateScheduler setting learning rate to 0.005.\n",
            "Epoch 10/50\n",
            "59/59 - 0s - loss: 0.2603 - accuracy: 0.9380 - val_loss: 0.3672 - val_accuracy: 0.9301 - lr: 0.0050 - 199ms/epoch - 3ms/step\n",
            "\n",
            "Epoch 11: LearningRateScheduler setting learning rate to 0.0025.\n",
            "Epoch 11/50\n",
            "59/59 - 0s - loss: 0.1707 - accuracy: 0.9558 - val_loss: 0.2693 - val_accuracy: 0.9490 - lr: 0.0025 - 217ms/epoch - 4ms/step\n",
            "\n",
            "Epoch 12: LearningRateScheduler setting learning rate to 0.0025.\n",
            "Epoch 12/50\n",
            "59/59 - 0s - loss: 0.1551 - accuracy: 0.9593 - val_loss: 0.2913 - val_accuracy: 0.9523 - lr: 0.0025 - 211ms/epoch - 4ms/step\n",
            "\n",
            "Epoch 13: LearningRateScheduler setting learning rate to 0.0025.\n",
            "Epoch 13/50\n",
            "59/59 - 0s - loss: 0.1476 - accuracy: 0.9607 - val_loss: 0.2794 - val_accuracy: 0.9519 - lr: 0.0025 - 194ms/epoch - 3ms/step\n",
            "\n",
            "Epoch 14: LearningRateScheduler setting learning rate to 0.0025.\n",
            "Epoch 14/50\n",
            "59/59 - 0s - loss: 0.1417 - accuracy: 0.9617 - val_loss: 0.3090 - val_accuracy: 0.9493 - lr: 0.0025 - 246ms/epoch - 4ms/step\n",
            "\n",
            "Epoch 15: LearningRateScheduler setting learning rate to 0.0025.\n",
            "Epoch 15/50\n",
            "59/59 - 0s - loss: 0.1347 - accuracy: 0.9631 - val_loss: 0.2715 - val_accuracy: 0.9516 - lr: 0.0025 - 248ms/epoch - 4ms/step\n",
            "\n",
            "Epoch 16: LearningRateScheduler setting learning rate to 0.0025.\n",
            "Epoch 16/50\n",
            "59/59 - 0s - loss: 0.1331 - accuracy: 0.9639 - val_loss: 0.2848 - val_accuracy: 0.9525 - lr: 0.0025 - 217ms/epoch - 4ms/step\n",
            "\n",
            "Epoch 17: LearningRateScheduler setting learning rate to 0.0025.\n",
            "Epoch 17/50\n",
            "59/59 - 0s - loss: 0.1276 - accuracy: 0.9646 - val_loss: 0.2618 - val_accuracy: 0.9567 - lr: 0.0025 - 206ms/epoch - 3ms/step\n",
            "\n",
            "Epoch 18: LearningRateScheduler setting learning rate to 0.0025.\n",
            "Epoch 18/50\n",
            "59/59 - 0s - loss: 0.1263 - accuracy: 0.9656 - val_loss: 0.3332 - val_accuracy: 0.9466 - lr: 0.0025 - 204ms/epoch - 3ms/step\n",
            "\n",
            "Epoch 19: LearningRateScheduler setting learning rate to 0.0025.\n",
            "Epoch 19/50\n",
            "59/59 - 0s - loss: 0.1208 - accuracy: 0.9678 - val_loss: 0.2773 - val_accuracy: 0.9519 - lr: 0.0025 - 199ms/epoch - 3ms/step\n",
            "\n",
            "Epoch 20: LearningRateScheduler setting learning rate to 0.0025.\n",
            "Epoch 20/50\n",
            "59/59 - 0s - loss: 0.1204 - accuracy: 0.9671 - val_loss: 0.3327 - val_accuracy: 0.9505 - lr: 0.0025 - 215ms/epoch - 4ms/step\n",
            "\n",
            "Epoch 21: LearningRateScheduler setting learning rate to 0.00125.\n",
            "Epoch 21/50\n",
            "59/59 - 0s - loss: 0.0934 - accuracy: 0.9732 - val_loss: 0.2851 - val_accuracy: 0.9566 - lr: 0.0012 - 212ms/epoch - 4ms/step\n",
            "\n",
            "Epoch 22: LearningRateScheduler setting learning rate to 0.00125.\n",
            "Epoch 22/50\n",
            "59/59 - 0s - loss: 0.0879 - accuracy: 0.9748 - val_loss: 0.2942 - val_accuracy: 0.9560 - lr: 0.0012 - 199ms/epoch - 3ms/step\n",
            "\n",
            "Epoch 23: LearningRateScheduler setting learning rate to 0.00125.\n",
            "Epoch 23/50\n",
            "59/59 - 0s - loss: 0.0847 - accuracy: 0.9757 - val_loss: 0.2914 - val_accuracy: 0.9564 - lr: 0.0012 - 208ms/epoch - 4ms/step\n",
            "\n",
            "Epoch 24: LearningRateScheduler setting learning rate to 0.00125.\n",
            "Epoch 24/50\n",
            "59/59 - 0s - loss: 0.0826 - accuracy: 0.9757 - val_loss: 0.3071 - val_accuracy: 0.9559 - lr: 0.0012 - 205ms/epoch - 3ms/step\n",
            "\n",
            "Epoch 25: LearningRateScheduler setting learning rate to 0.00125.\n",
            "Epoch 25/50\n",
            "59/59 - 0s - loss: 0.0810 - accuracy: 0.9763 - val_loss: 0.3031 - val_accuracy: 0.9557 - lr: 0.0012 - 213ms/epoch - 4ms/step\n",
            "\n",
            "Epoch 26: LearningRateScheduler setting learning rate to 0.00125.\n",
            "Epoch 26/50\n",
            "59/59 - 0s - loss: 0.0788 - accuracy: 0.9772 - val_loss: 0.3096 - val_accuracy: 0.9580 - lr: 0.0012 - 243ms/epoch - 4ms/step\n",
            "\n",
            "Epoch 27: LearningRateScheduler setting learning rate to 0.00125.\n",
            "Epoch 27/50\n",
            "59/59 - 0s - loss: 0.0772 - accuracy: 0.9776 - val_loss: 0.3072 - val_accuracy: 0.9564 - lr: 0.0012 - 202ms/epoch - 3ms/step\n",
            "\n",
            "Epoch 28: LearningRateScheduler setting learning rate to 0.00125.\n",
            "Epoch 28/50\n",
            "59/59 - 0s - loss: 0.0755 - accuracy: 0.9777 - val_loss: 0.3100 - val_accuracy: 0.9569 - lr: 0.0012 - 200ms/epoch - 3ms/step\n",
            "\n",
            "Epoch 29: LearningRateScheduler setting learning rate to 0.00125.\n",
            "Epoch 29/50\n",
            "59/59 - 0s - loss: 0.0756 - accuracy: 0.9778 - val_loss: 0.3008 - val_accuracy: 0.9583 - lr: 0.0012 - 247ms/epoch - 4ms/step\n",
            "\n",
            "Epoch 30: LearningRateScheduler setting learning rate to 0.00125.\n",
            "Epoch 30/50\n",
            "59/59 - 0s - loss: 0.0728 - accuracy: 0.9782 - val_loss: 0.3188 - val_accuracy: 0.9578 - lr: 0.0012 - 216ms/epoch - 4ms/step\n",
            "\n",
            "Epoch 31: LearningRateScheduler setting learning rate to 0.000625.\n",
            "Epoch 31/50\n",
            "59/59 - 0s - loss: 0.0631 - accuracy: 0.9816 - val_loss: 0.3180 - val_accuracy: 0.9571 - lr: 6.2500e-04 - 242ms/epoch - 4ms/step\n",
            "\n",
            "Epoch 32: LearningRateScheduler setting learning rate to 0.000625.\n",
            "Epoch 32/50\n",
            "59/59 - 0s - loss: 0.0610 - accuracy: 0.9822 - val_loss: 0.3250 - val_accuracy: 0.9566 - lr: 6.2500e-04 - 206ms/epoch - 3ms/step\n",
            "\n",
            "Epoch 33: LearningRateScheduler setting learning rate to 0.000625.\n",
            "Epoch 33/50\n",
            "59/59 - 0s - loss: 0.0606 - accuracy: 0.9822 - val_loss: 0.3192 - val_accuracy: 0.9586 - lr: 6.2500e-04 - 217ms/epoch - 4ms/step\n",
            "\n",
            "Epoch 34: LearningRateScheduler setting learning rate to 0.000625.\n",
            "Epoch 34/50\n",
            "59/59 - 0s - loss: 0.0594 - accuracy: 0.9828 - val_loss: 0.3312 - val_accuracy: 0.9563 - lr: 6.2500e-04 - 209ms/epoch - 4ms/step\n",
            "\n",
            "Epoch 35: LearningRateScheduler setting learning rate to 0.000625.\n",
            "Epoch 35/50\n",
            "59/59 - 0s - loss: 0.0586 - accuracy: 0.9830 - val_loss: 0.3393 - val_accuracy: 0.9572 - lr: 6.2500e-04 - 215ms/epoch - 4ms/step\n",
            "\n",
            "Epoch 36: LearningRateScheduler setting learning rate to 0.000625.\n",
            "Epoch 36/50\n",
            "59/59 - 0s - loss: 0.0580 - accuracy: 0.9830 - val_loss: 0.3352 - val_accuracy: 0.9577 - lr: 6.2500e-04 - 201ms/epoch - 3ms/step\n",
            "\n",
            "Epoch 37: LearningRateScheduler setting learning rate to 0.000625.\n",
            "Epoch 37/50\n",
            "59/59 - 0s - loss: 0.0564 - accuracy: 0.9835 - val_loss: 0.3343 - val_accuracy: 0.9584 - lr: 6.2500e-04 - 210ms/epoch - 4ms/step\n",
            "\n",
            "Epoch 38: LearningRateScheduler setting learning rate to 0.000625.\n",
            "Epoch 38/50\n",
            "59/59 - 0s - loss: 0.0562 - accuracy: 0.9836 - val_loss: 0.3491 - val_accuracy: 0.9563 - lr: 6.2500e-04 - 244ms/epoch - 4ms/step\n",
            "\n",
            "Epoch 39: LearningRateScheduler setting learning rate to 0.000625.\n",
            "Epoch 39/50\n",
            "59/59 - 0s - loss: 0.0553 - accuracy: 0.9842 - val_loss: 0.3379 - val_accuracy: 0.9570 - lr: 6.2500e-04 - 211ms/epoch - 4ms/step\n",
            "\n",
            "Epoch 40: LearningRateScheduler setting learning rate to 0.000625.\n",
            "Epoch 40/50\n",
            "59/59 - 0s - loss: 0.0549 - accuracy: 0.9843 - val_loss: 0.3461 - val_accuracy: 0.9565 - lr: 6.2500e-04 - 244ms/epoch - 4ms/step\n",
            "\n",
            "Epoch 41: LearningRateScheduler setting learning rate to 0.0003125.\n",
            "Epoch 41/50\n",
            "59/59 - 0s - loss: 0.0511 - accuracy: 0.9851 - val_loss: 0.3496 - val_accuracy: 0.9566 - lr: 3.1250e-04 - 209ms/epoch - 4ms/step\n",
            "\n",
            "Epoch 42: LearningRateScheduler setting learning rate to 0.0003125.\n",
            "Epoch 42/50\n",
            "59/59 - 0s - loss: 0.0504 - accuracy: 0.9857 - val_loss: 0.3521 - val_accuracy: 0.9569 - lr: 3.1250e-04 - 205ms/epoch - 3ms/step\n",
            "\n",
            "Epoch 43: LearningRateScheduler setting learning rate to 0.0003125.\n",
            "Epoch 43/50\n",
            "59/59 - 0s - loss: 0.0499 - accuracy: 0.9856 - val_loss: 0.3572 - val_accuracy: 0.9575 - lr: 3.1250e-04 - 254ms/epoch - 4ms/step\n",
            "\n",
            "Epoch 44: LearningRateScheduler setting learning rate to 0.0003125.\n",
            "Epoch 44/50\n",
            "59/59 - 0s - loss: 0.0497 - accuracy: 0.9858 - val_loss: 0.3611 - val_accuracy: 0.9568 - lr: 3.1250e-04 - 210ms/epoch - 4ms/step\n",
            "\n",
            "Epoch 45: LearningRateScheduler setting learning rate to 0.0003125.\n",
            "Epoch 45/50\n",
            "59/59 - 0s - loss: 0.0492 - accuracy: 0.9857 - val_loss: 0.3611 - val_accuracy: 0.9566 - lr: 3.1250e-04 - 293ms/epoch - 5ms/step\n",
            "\n",
            "Epoch 46: LearningRateScheduler setting learning rate to 0.0003125.\n",
            "Epoch 46/50\n",
            "59/59 - 0s - loss: 0.0489 - accuracy: 0.9859 - val_loss: 0.3589 - val_accuracy: 0.9569 - lr: 3.1250e-04 - 293ms/epoch - 5ms/step\n",
            "\n",
            "Epoch 47: LearningRateScheduler setting learning rate to 0.0003125.\n",
            "Epoch 47/50\n",
            "59/59 - 0s - loss: 0.0485 - accuracy: 0.9859 - val_loss: 0.3662 - val_accuracy: 0.9569 - lr: 3.1250e-04 - 292ms/epoch - 5ms/step\n",
            "\n",
            "Epoch 48: LearningRateScheduler setting learning rate to 0.0003125.\n",
            "Epoch 48/50\n",
            "59/59 - 0s - loss: 0.0484 - accuracy: 0.9862 - val_loss: 0.3675 - val_accuracy: 0.9575 - lr: 3.1250e-04 - 325ms/epoch - 6ms/step\n",
            "\n",
            "Epoch 49: LearningRateScheduler setting learning rate to 0.0003125.\n",
            "Epoch 49/50\n",
            "59/59 - 0s - loss: 0.0481 - accuracy: 0.9862 - val_loss: 0.3690 - val_accuracy: 0.9566 - lr: 3.1250e-04 - 295ms/epoch - 5ms/step\n",
            "\n",
            "Epoch 50: LearningRateScheduler setting learning rate to 0.0003125.\n",
            "Epoch 50/50\n",
            "59/59 - 0s - loss: 0.0476 - accuracy: 0.9865 - val_loss: 0.3739 - val_accuracy: 0.9561 - lr: 3.1250e-04 - 280ms/epoch - 5ms/step\n"
          ]
        }
      ],
      "source": [
        "model = create_model1()\n",
        "\n",
        "# compile option\n",
        "model.compile(loss='categorical_crossentropy',\n",
        "              optimizer=keras.optimizers.RMSprop(),\n",
        "              metrics=['accuracy'])\n",
        "\n",
        "my_callbacks = [ keras.callbacks.LearningRateScheduler(ExponentialDecay_s,verbose=1) ]\n",
        "history2 = model.fit(x_train,y_train, epochs=50, batch_size=1024, callbacks=my_callbacks,\n",
        "                      validation_data=(x_test, y_test), verbose=2)"
      ]
    },
    {
      "cell_type": "code",
      "execution_count": 44,
      "metadata": {
        "colab": {
          "base_uri": "https://localhost:8080/",
          "height": 435
        },
        "id": "IAWlgrCJ3guV",
        "outputId": "20e9bc39-d41f-4d14-923e-c253a83d66b0",
        "tags": []
      },
      "outputs": [
        {
          "output_type": "display_data",
          "data": {
            "text/plain": [
              "<Figure size 640x480 with 1 Axes>"
            ],
            "image/png": "[encoded data removed]"
          },
          "metadata": {}
        }
      ],
      "source": [
        "import matplotlib.pylab as plt\n",
        "\n",
        "plt.plot(history1.history['val_accuracy'], linestyle='--', label=\"normal_val_acc\")\n",
        "plt.plot(history2.history['val_accuracy'], linestyle='-', label=\"lr_schedule_val_acc\")\n",
        "plt.plot(history1.history['val_loss'], linestyle='--', label=\"normal_val_loss\")\n",
        "plt.plot(history2.history['val_loss'], linestyle='-', label=\"lr_schedule_val_loss\")\n",
        "\n",
        "plt.ylim(0.1, 1)\n",
        "plt.legend()\n",
        "plt.grid()\n",
        "plt.show()"
      ]
    },
    {
      "cell_type": "markdown",
      "metadata": {
        "id": "j54COpkq0r31",
        "tags": []
      },
      "source": [
        "![image.png](attachment:e22f5cd9-3818-40ea-84c2-b356f8a2a5a3.png)"
      ]
    },
    {
      "cell_type": "code",
      "execution_count": 45,
      "metadata": {
        "id": "2cSZeOwR4rJz",
        "tags": [],
        "colab": {
          "base_uri": "https://localhost:8080/",
          "height": 430
        },
        "outputId": "ae6938d1-c408-4dc3-b987-0c8ef84396bf"
      },
      "outputs": [
        {
          "output_type": "display_data",
          "data": {
            "text/plain": [
              "<Figure size 640x480 with 1 Axes>"
            ],
            "image/png": "[encoded data removed]"
          },
          "metadata": {}
        }
      ],
      "source": [
        "plt.plot(history2.history['lr'],\n",
        "         linestyle='--', label=\"lr_schedule\")\n",
        "plt.legend()\n",
        "plt.grid()\n",
        "plt.show()"
      ]
    },
    {
      "cell_type": "markdown",
      "metadata": {
        "tags": [],
        "id": "4W3_5PqXyp4Y"
      },
      "source": [
        "---\n",
        "```python\n",
        "# 내장된 Scheduler함수들\n",
        "tf.keras.optimizers.schedules.ExponentialDecay(\n",
        "    initial_learning_rate, decay_steps, decay_rate, staircase=False, name=None\n",
        ")\n",
        "tf.keras.optimizers.schedules.PolynomialDecay(\n",
        "    initial_learning_rate, decay_steps, end_learning_rate=0.0001, power=1.0,\n",
        "    cycle=False, name=None\n",
        ")\n",
        "tf.keras.optimizers.schedules.InverseTimeDecay(\n",
        "    initial_learning_rate, decay_steps, decay_rate, staircase=False, name=None\n",
        ")\n",
        "```\n",
        "---"
      ]
    },
    {
      "cell_type": "markdown",
      "metadata": {
        "id": "nXsJOp3Oyp4Y"
      },
      "source": [
        "- 내장함수로 lr scheduling 하기  "
      ]
    },
    {
      "cell_type": "code",
      "execution_count": 46,
      "metadata": {
        "tags": [],
        "colab": {
          "base_uri": "https://localhost:8080/"
        },
        "id": "_0NZPszTyp4Y",
        "outputId": "5c408ce6-da73-4011-ef50-e7fdc26a421f"
      },
      "outputs": [
        {
          "output_type": "stream",
          "name": "stdout",
          "text": [
            "Epoch 1/20\n",
            "59/59 - 1s - loss: 73.7615 - accuracy: 0.6632 - val_loss: 1.5065 - val_accuracy: 0.7079 - 1s/epoch - 23ms/step\n",
            "Epoch 2/20\n",
            "59/59 - 0s - loss: 1.2284 - accuracy: 0.7006 - val_loss: 1.7804 - val_accuracy: 0.6718 - 245ms/epoch - 4ms/step\n",
            "Epoch 3/20\n",
            "59/59 - 0s - loss: 0.9375 - accuracy: 0.7666 - val_loss: 0.9091 - val_accuracy: 0.7264 - 337ms/epoch - 6ms/step\n",
            "Epoch 4/20\n",
            "59/59 - 0s - loss: 0.6445 - accuracy: 0.8449 - val_loss: 0.5577 - val_accuracy: 0.8892 - 296ms/epoch - 5ms/step\n",
            "Epoch 5/20\n",
            "59/59 - 0s - loss: 0.5204 - accuracy: 0.8798 - val_loss: 0.4740 - val_accuracy: 0.9083 - 302ms/epoch - 5ms/step\n",
            "Epoch 6/20\n",
            "59/59 - 0s - loss: 0.4151 - accuracy: 0.9052 - val_loss: 0.4722 - val_accuracy: 0.9071 - 285ms/epoch - 5ms/step\n",
            "Epoch 7/20\n",
            "59/59 - 0s - loss: 0.3641 - accuracy: 0.9154 - val_loss: 0.7504 - val_accuracy: 0.8647 - 321ms/epoch - 5ms/step\n",
            "Epoch 8/20\n",
            "59/59 - 0s - loss: 0.3211 - accuracy: 0.9243 - val_loss: 0.3485 - val_accuracy: 0.9219 - 315ms/epoch - 5ms/step\n",
            "Epoch 9/20\n",
            "59/59 - 0s - loss: 0.2891 - accuracy: 0.9314 - val_loss: 0.3480 - val_accuracy: 0.9269 - 325ms/epoch - 6ms/step\n",
            "Epoch 10/20\n",
            "59/59 - 0s - loss: 0.2613 - accuracy: 0.9365 - val_loss: 0.3439 - val_accuracy: 0.9262 - 212ms/epoch - 4ms/step\n",
            "Epoch 11/20\n",
            "59/59 - 0s - loss: 0.2409 - accuracy: 0.9405 - val_loss: 0.2910 - val_accuracy: 0.9387 - 259ms/epoch - 4ms/step\n",
            "Epoch 12/20\n",
            "59/59 - 0s - loss: 0.2194 - accuracy: 0.9454 - val_loss: 0.3477 - val_accuracy: 0.9335 - 214ms/epoch - 4ms/step\n",
            "Epoch 13/20\n",
            "59/59 - 0s - loss: 0.2066 - accuracy: 0.9468 - val_loss: 0.2898 - val_accuracy: 0.9421 - 218ms/epoch - 4ms/step\n",
            "Epoch 14/20\n",
            "59/59 - 0s - loss: 0.1936 - accuracy: 0.9500 - val_loss: 0.3013 - val_accuracy: 0.9409 - 218ms/epoch - 4ms/step\n",
            "Epoch 15/20\n",
            "59/59 - 0s - loss: 0.1850 - accuracy: 0.9520 - val_loss: 0.2909 - val_accuracy: 0.9424 - 254ms/epoch - 4ms/step\n",
            "Epoch 16/20\n",
            "59/59 - 0s - loss: 0.1755 - accuracy: 0.9537 - val_loss: 0.2895 - val_accuracy: 0.9449 - 217ms/epoch - 4ms/step\n",
            "Epoch 17/20\n",
            "59/59 - 0s - loss: 0.1693 - accuracy: 0.9559 - val_loss: 0.2983 - val_accuracy: 0.9449 - 240ms/epoch - 4ms/step\n",
            "Epoch 18/20\n",
            "59/59 - 0s - loss: 0.1616 - accuracy: 0.9566 - val_loss: 0.3015 - val_accuracy: 0.9441 - 217ms/epoch - 4ms/step\n",
            "Epoch 19/20\n",
            "59/59 - 0s - loss: 0.1565 - accuracy: 0.9579 - val_loss: 0.3030 - val_accuracy: 0.9444 - 216ms/epoch - 4ms/step\n",
            "Epoch 20/20\n",
            "59/59 - 0s - loss: 0.1510 - accuracy: 0.9585 - val_loss: 0.2992 - val_accuracy: 0.9450 - 217ms/epoch - 4ms/step\n"
          ]
        }
      ],
      "source": [
        "# 1. DataFlow(Graph)정의\n",
        "input_x = keras.Input(shape=(28,28))\n",
        "x0 = layers.Flatten()(input_x)\n",
        "x1 = layers.Dense(32, activation=\"relu\")(x0)\n",
        "x2 = layers.Dense(32, activation=\"relu\")(x0)\n",
        "x3 = layers.concatenate([x1, x2])\n",
        "output_x = layers.Dense(10,activation=\"softmax\")(x3)\n",
        "\n",
        "# 2. 모델 인스턴스 : input,output으로 DataFlow를 추적\n",
        "model = keras.Model(inputs=input_x, outputs=output_x)\n",
        "\n",
        "lr_fn = keras.optimizers.schedules.ExponentialDecay(\n",
        "                initial_learning_rate= 0.01,\n",
        "                decay_steps=20,\n",
        "                decay_rate=0.96,\n",
        "                staircase=True)\n",
        "# compile option\n",
        "model.compile(loss='categorical_crossentropy',\n",
        "              optimizer=keras.optimizers.RMSprop(learning_rate=lr_fn),\n",
        "              metrics=['accuracy'])\n",
        "\n",
        "history2 = model.fit(x_train,y_train, epochs=20, batch_size=1024,\n",
        "                      validation_data=(x_test, y_test), verbose=2)"
      ]
    },
    {
      "cell_type": "markdown",
      "metadata": {
        "id": "VmK966tIyp4Y"
      },
      "source": [
        "*Notebook내부에서 실행하기 : 설치환경의 영향을 많이 받음*\n",
        ">#!rm -rf ./logs/    #colab(linux)    \n",
        ">#*jupyter notebook 내에서 보기위해*   \n",
        ">%load_ext tensorboard  \n",
        ">#*로그 패스와 함께 텐서보드 실행*  \n",
        ">%tensorboard --logdir ./logs  "
      ]
    },
    {
      "cell_type": "markdown",
      "metadata": {
        "id": "oBr8SEA0yp4Y"
      },
      "source": [
        "*별도 브라우저에서 실행하기*\n",
        "* 1) terminal window에서 실행\n",
        ">tensorboard --logdir ./logs\n",
        "* 2) browser에서\n",
        ">\"localhost:6006/\" 접속"
      ]
    }
  ],
  "metadata": {
    "accelerator": "GPU",
    "colab": {
      "name": "2.1.ipynb",
      "provenance": [],
      "toc_visible": true
    },
    "kernelspec": {
      "display_name": "Python3.7",
      "language": "python",
      "name": "tensorflow"
    },
    "language_info": {
      "codemirror_mode": {
        "name": "ipython",
        "version": 3
      },
      "file_extension": ".py",
      "mimetype": "text/x-python",
      "name": "python",
      "nbconvert_exporter": "python",
      "pygments_lexer": "ipython3",
      "version": "3.7.10"
    },
    "toc-autonumbering": false,
    "toc-showcode": false,
    "toc-showmarkdowntxt": false,
    "toc-showtags": false
  },
  "nbformat": 4,
  "nbformat_minor": 0
}