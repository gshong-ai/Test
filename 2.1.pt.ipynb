{
  "cells": [
    {
      "cell_type": "markdown",
      "metadata": {
        "id": "view-in-github",
        "colab_type": "text"
      },
      "source": [
        "<a href=\"https://colab.research.google.com/github/gshong-ai/PyTorch-/blob/main/2.1.pt.ipynb\" target=\"_parent\"><img src=\"https://colab.research.google.com/assets/colab-badge.svg\" alt=\"Open In Colab\"/></a>"
      ]
    },
    {
      "cell_type": "code",
      "execution_count": null,
      "metadata": {
        "id": "qXBnsiYU0r3P"
      },
      "outputs": [],
      "source": [
        "# 변수의 shape, type, value 확인\n",
        "def p(var) :\n",
        "    if type(var)!=type([]):\n",
        "        try: \n",
        "            print(f'Shape:{var.shape}')\n",
        "        except : \n",
        "            pass\n",
        "    print(f'Type: {type(var)}')\n",
        "    print(f'Values: {var}')\n",
        "\n",
        "def pst(_x,_name=\"\"):\n",
        "    print(f'[{_name}] Shape{_x.shape}, {type(_x)}')\n",
        "def ps(_x,_name=\"\"):\n",
        "    print(f'[{_name}] Shape{_x.shape}')"
      ]
    },
    {
      "cell_type": "code",
      "execution_count": null,
      "metadata": {
        "id": "ZYRAlPnwjNzx",
        "outputId": "ace2ddfd-db50-418a-e3be-bc40066ed1df"
      },
      "outputs": [
        {
          "data": {
            "text/plain": [
              "('2.4.1', '2.4.0')"
            ]
          },
          "execution_count": 2,
          "metadata": {},
          "output_type": "execute_result"
        }
      ],
      "source": [
        "import tensorflow as tf\n",
        "import tensorflow.keras as keras\n",
        "from tensorflow.keras import layers\n",
        "import numpy as np\n",
        "tf.__version__,keras.__version__"
      ]
    },
    {
      "cell_type": "markdown",
      "metadata": {
        "id": "M3f1onviMTxc"
      },
      "source": [
        "## 2.1 Model 설계 workfolw"
      ]
    },
    {
      "cell_type": "markdown",
      "metadata": {
        "id": "Ed6U1XpGvkbo"
      },
      "source": [
        "### 1. 첫번째 모델 만들기"
      ]
    },
    {
      "cell_type": "code",
      "execution_count": null,
      "metadata": {
        "colab": {
          "base_uri": "https://localhost:8080/"
        },
        "id": "ds7b3Ld5MRX_",
        "outputId": "ffb0ac3f-1a40-42b6-bea7-e4d596d9515d"
      },
      "outputs": [
        {
          "name": "stdout",
          "output_type": "stream",
          "text": [
            "Epoch 1/3\n",
            "469/469 [==============================] - 1s 2ms/step - loss: 26.9786 - sparse_categorical_accuracy: 0.6993\n",
            "Epoch 2/3\n",
            "469/469 [==============================] - 1s 2ms/step - loss: 5.1101 - sparse_categorical_accuracy: 0.8781\n",
            "Epoch 3/3\n",
            "469/469 [==============================] - 1s 2ms/step - loss: 4.1617 - sparse_categorical_accuracy: 0.8836\n",
            "Shape:(10000, 10)\n",
            "Type: <class 'numpy.ndarray'>\n",
            "Values: [[0.0000000e+00 0.0000000e+00 0.0000000e+00 ... 1.0000000e+00\n",
            "  0.0000000e+00 3.6538445e-38]\n",
            " [0.0000000e+00 0.0000000e+00 1.0000000e+00 ... 0.0000000e+00\n",
            "  0.0000000e+00 0.0000000e+00]\n",
            " [0.0000000e+00 1.0000000e+00 1.0047414e-15 ... 4.7930129e-27\n",
            "  1.9520354e-23 0.0000000e+00]\n",
            " ...\n",
            " [0.0000000e+00 0.0000000e+00 0.0000000e+00 ... 3.4074920e-27\n",
            "  0.0000000e+00 4.0457724e-34]\n",
            " [0.0000000e+00 0.0000000e+00 0.0000000e+00 ... 0.0000000e+00\n",
            "  4.1821397e-25 0.0000000e+00]\n",
            " [0.0000000e+00 0.0000000e+00 0.0000000e+00 ... 0.0000000e+00\n",
            "  0.0000000e+00 0.0000000e+00]]\n"
          ]
        }
      ],
      "source": [
        "import tensorflow as tf\n",
        "import tensorflow.keras as keras\n",
        "# 데이터 준비\n",
        "(x_train, y_train), (x_test, y_test) = keras.datasets.mnist.load_data()\n",
        "# 모델 정의\n",
        "## Sequential model 사용\n",
        "model = keras.models.Sequential()\n",
        "## 레이어 추가 \n",
        "model.add(keras.layers.Flatten(input_shape=(28,28)))\n",
        "model.add(keras.layers.Dense(units=10, activation='softmax'))\n",
        "# 학습과정 설정 \n",
        "model.compile(loss='sparse_categorical_crossentropy',\n",
        "              optimizer='adam',\n",
        "              metrics=['sparse_categorical_accuracy'])\n",
        "# 학습 \n",
        "model.fit(x_train, y_train, epochs=3, batch_size=128)\n",
        "# 시험\n",
        "classes = model.predict(x_test)\n",
        "p(classes)"
      ]
    },
    {
      "cell_type": "code",
      "execution_count": null,
      "metadata": {
        "id": "38rbjE0ujNz0"
      },
      "outputs": [],
      "source": [
        "# Epoch 1/3\n",
        "# 469/469 [==============================] - 1s 1ms/step - loss: 479.2211 - accuracy: 0.7711\n",
        "# Epoch 2/3\n",
        "# 469/469 [==============================] - 1s 1ms/step - loss: 127.3708 - accuracy: 0.8665\n",
        "# Epoch 3/3\n",
        "# 469/469 [==============================] - 1s 1ms/step - loss: 126.8681 - accuracy: 0.8706"
      ]
    },
    {
      "cell_type": "markdown",
      "metadata": {
        "id": "o_hy4r8LN0vq"
      },
      "source": [
        "### 2. 모델을 만드는 세가지 방법"
      ]
    },
    {
      "cell_type": "markdown",
      "metadata": {
        "id": "-xVpW3hsqk-J"
      },
      "source": [
        "#### 2.1. Sequential model : Type 1"
      ]
    },
    {
      "cell_type": "code",
      "execution_count": null,
      "metadata": {
        "colab": {
          "base_uri": "https://localhost:8080/",
          "height": 252
        },
        "id": "Ky4t_c7fdupy",
        "outputId": "586e7ab5-b3ec-4ece-9036-3b0b2741cead"
      },
      "outputs": [
        {
          "name": "stdout",
          "output_type": "stream",
          "text": [
            "Model: \"sequential_5\"\n",
            "_________________________________________________________________\n",
            "Layer (type)                 Output Shape              Param #   \n",
            "=================================================================\n",
            "flatten_5 (Flatten)          (None, 784)               0         \n",
            "_________________________________________________________________\n",
            "dense_8 (Dense)              (None, 64)                50240     \n",
            "_________________________________________________________________\n",
            "dense_9 (Dense)              (None, 10)                650       \n",
            "=================================================================\n",
            "Total params: 50,890\n",
            "Trainable params: 50,890\n",
            "Non-trainable params: 0\n",
            "_________________________________________________________________\n"
          ]
        }
      ],
      "source": [
        "from tensorflow import keras\n",
        "from tensorflow.keras import layers\n",
        "\n",
        "# 모델 정의 : Sequential model 사용\n",
        "model = keras.models.Sequential()\n",
        "model.add(keras.Input(shape=(28,28)))\n",
        "model.add(layers.Flatten())\n",
        "model.add(layers.Dense(64, activation=\"relu\"))\n",
        "model.add(keras.layers.Dense(units=10, activation='softmax'))\n",
        "# 모델 컨텐츠 확인\n",
        "model.summary()"
      ]
    },
    {
      "cell_type": "code",
      "execution_count": null,
      "metadata": {
        "id": "ciG-Cs2bjNz3",
        "outputId": "1a16ceab-b184-4cb0-a541-b9ba9a366d65"
      },
      "outputs": [
        {
          "name": "stdout",
          "output_type": "stream",
          "text": [
            "Epoch 1/3\n",
            "469/469 [==============================] - 1s 2ms/step - loss: 15.0578 - accuracy: 0.6791\n",
            "Epoch 2/3\n",
            "469/469 [==============================] - 1s 2ms/step - loss: 0.6830 - accuracy: 0.8171\n",
            "Epoch 3/3\n",
            "469/469 [==============================] - 1s 2ms/step - loss: 0.4226 - accuracy: 0.8904\n"
          ]
        }
      ],
      "source": [
        "# train option 설정 \n",
        "model.compile(loss='sparse_categorical_crossentropy',\n",
        "              optimizer='adam',\n",
        "              metrics=['accuracy'])\n",
        "# training \n",
        "# model.fit(x_train, y_train, epochs=3, batch_size=128)\n",
        "history = model.fit(x_train, y_train, epochs=3, batch_size=128)"
      ]
    },
    {
      "cell_type": "code",
      "execution_count": null,
      "metadata": {
        "id": "X9GnbprKjNz3"
      },
      "outputs": [],
      "source": [
        "# 모델 정의 : Input Layer 제거 \n",
        "model = keras.models.Sequential()\n",
        "model.add(layers.Flatten(input_shape=(28,28)))\n",
        "model.add(layers.Dense(64, activation=\"relu\"))\n",
        "model.add(keras.layers.Dense(units=10, activation='softmax'))"
      ]
    },
    {
      "cell_type": "code",
      "execution_count": null,
      "metadata": {
        "id": "J_RhrbYLjNz3",
        "outputId": "90fa78d6-2849-4676-d3d9-a7aa787e908a"
      },
      "outputs": [
        {
          "name": "stdout",
          "output_type": "stream",
          "text": [
            "Model: \"sequential_17\"\n",
            "_________________________________________________________________\n",
            "Layer (type)                 Output Shape              Param #   \n",
            "=================================================================\n",
            "flatten_17 (Flatten)         (None, 784)               0         \n",
            "_________________________________________________________________\n",
            "dense_18 (Dense)             (None, 64)                50240     \n",
            "_________________________________________________________________\n",
            "dense_19 (Dense)             (None, 10)                650       \n",
            "=================================================================\n",
            "Total params: 50,890\n",
            "Trainable params: 50,890\n",
            "Non-trainable params: 0\n",
            "_________________________________________________________________\n"
          ]
        }
      ],
      "source": [
        "def create_model1():\n",
        "    model = keras.models.Sequential()\n",
        "    model.add(layers.Flatten(input_shape=(28,28)))\n",
        "    model.add(layers.Dense(64, activation=\"relu\"))\n",
        "    model.add(keras.layers.Dense(units=10, activation='softmax'))    \n",
        "    return model \n",
        "\n",
        "model1 = create_model1()\n",
        "model1.summary()"
      ]
    },
    {
      "cell_type": "markdown",
      "metadata": {
        "id": "_Rf_nWoLwHYV"
      },
      "source": [
        "#### 2.1. Sequential model : Type 2"
      ]
    },
    {
      "cell_type": "markdown",
      "metadata": {
        "id": "g4_gNXDTNGmj",
        "tags": [
          "x_train"
        ]
      },
      "source": [
        " - layer를 Sequential method의 매개변수 list로 전달하는 방법"
      ]
    },
    {
      "cell_type": "code",
      "execution_count": null,
      "metadata": {
        "colab": {
          "base_uri": "https://localhost:8080/",
          "height": 252
        },
        "id": "u0dgJbnodvvv",
        "outputId": "601b88ae-29d5-4746-d7df-219d8d152767",
        "tags": []
      },
      "outputs": [
        {
          "name": "stdout",
          "output_type": "stream",
          "text": [
            "Model: \"sequential_4\"\n",
            "_________________________________________________________________\n",
            "Layer (type)                 Output Shape              Param #   \n",
            "=================================================================\n",
            "flatten_4 (Flatten)          (None, 784)               0         \n",
            "_________________________________________________________________\n",
            "dense_7 (Dense)              (None, 64)                50240     \n",
            "_________________________________________________________________\n",
            "dense_8 (Dense)              (None, 10)                650       \n",
            "=================================================================\n",
            "Total params: 50,890\n",
            "Trainable params: 50,890\n",
            "Non-trainable params: 0\n",
            "_________________________________________________________________\n"
          ]
        }
      ],
      "source": [
        "model = keras.models.Sequential(\n",
        "    [\n",
        "        keras.Input(shape=(28,28)),\n",
        "        layers.Flatten(),\n",
        "        layers.Dense(64, activation=\"relu\"),\n",
        "        layers.Dense(10, activation=\"softmax\")\n",
        "    ]\n",
        ")\n",
        "model.summary()"
      ]
    },
    {
      "cell_type": "markdown",
      "metadata": {
        "id": "xYsbdXQvOOzr"
      },
      "source": [
        " - 모델의 layer graph를 보이고, 파일로 저장"
      ]
    },
    {
      "cell_type": "code",
      "execution_count": null,
      "metadata": {
        "colab": {
          "base_uri": "https://localhost:8080/",
          "height": 422
        },
        "id": "9o37m0Y8dV-D",
        "outputId": "59bdf1ec-81ae-46f7-c9de-43516f78bcf3"
      },
      "outputs": [
        {
          "data": {
            "image/png": "[encoded data removed]",
            "text/plain": [
              "<IPython.core.display.Image object>"
            ]
          },
          "execution_count": 9,
          "metadata": {},
          "output_type": "execute_result"
        }
      ],
      "source": [
        "keras.utils.plot_model(model,'model.png',show_shapes=True)"
      ]
    },
    {
      "cell_type": "markdown",
      "metadata": {
        "id": "CwtPS7qjvb9I"
      },
      "source": [
        "#### 2.2. Functional API "
      ]
    },
    {
      "cell_type": "code",
      "execution_count": null,
      "metadata": {
        "id": "FZ9nl7seOHcF"
      },
      "outputs": [],
      "source": [
        "# 데이터 준비\n",
        "(x_train, y_train), (x_test, y_test) = keras.datasets.mnist.load_data()"
      ]
    },
    {
      "cell_type": "code",
      "execution_count": null,
      "metadata": {
        "colab": {
          "base_uri": "https://localhost:8080/",
          "height": 884
        },
        "id": "U-a8g5ktu013",
        "outputId": "4588ca16-83d5-46b5-d9ea-2da2a4ba0ddc"
      },
      "outputs": [
        {
          "name": "stdout",
          "output_type": "stream",
          "text": [
            "Model: \"model_1\"\n",
            "__________________________________________________________________________________________________\n",
            "Layer (type)                    Output Shape         Param #     Connected to                     \n",
            "==================================================================================================\n",
            "input_6 (InputLayer)            [(None, 28, 28)]     0                                            \n",
            "__________________________________________________________________________________________________\n",
            "flatten_7 (Flatten)             (None, 784)          0           input_6[0][0]                    \n",
            "__________________________________________________________________________________________________\n",
            "dense_13 (Dense)                (None, 32)           25120       flatten_7[0][0]                  \n",
            "__________________________________________________________________________________________________\n",
            "dense_14 (Dense)                (None, 32)           25120       flatten_7[0][0]                  \n",
            "__________________________________________________________________________________________________\n",
            "concatenate_1 (Concatenate)     (None, 64)           0           dense_13[0][0]                   \n",
            "                                                                 dense_14[0][0]                   \n",
            "__________________________________________________________________________________________________\n",
            "dense_15 (Dense)                (None, 10)           650         concatenate_1[0][0]              \n",
            "==================================================================================================\n",
            "Total params: 50,890\n",
            "Trainable params: 50,890\n",
            "Non-trainable params: 0\n",
            "__________________________________________________________________________________________________\n"
          ]
        },
        {
          "data": {
            "image/png": "[encoded data removed]",
            "text/plain": [
              "<IPython.core.display.Image object>"
            ]
          },
          "execution_count": 21,
          "metadata": {},
          "output_type": "execute_result"
        }
      ],
      "source": [
        "# 1. DataFlow(Graph)정의\n",
        "input_x = keras.Input(shape=(28,28))\n",
        "x0 = layers.Flatten()(input_x)\n",
        "x1 = layers.Dense(32, activation=\"relu\")(x0)\n",
        "x2 = layers.Dense(32, activation=\"relu\")(x0)\n",
        "#x1 = layers.Dense(32, activation=\"relu\")(x0[:,:392])\n",
        "#x2 = layers.Dense(32, activation=\"relu\")(x0[:,392:])\n",
        "x3 = layers.concatenate([x1, x2])\n",
        "output_x = layers.Dense(10,activation=\"softmax\")(x3)\n",
        "# 2. 모델 인스턴스 : input,output으로 DataFlow를 추적\n",
        "model = keras.Model(inputs=input_x, outputs=output_x)\n",
        "model.summary()\n",
        "keras.utils.plot_model(model,'model.png',show_shapes=True)"
      ]
    },
    {
      "cell_type": "code",
      "execution_count": null,
      "metadata": {
        "id": "_LNmIkiWjNz6",
        "outputId": "6835bd5e-40e4-4619-85bb-0189dead4c2a"
      },
      "outputs": [
        {
          "name": "stdout",
          "output_type": "stream",
          "text": [
            "Epoch 1/3\n",
            "469/469 [==============================] - 1s 2ms/step - loss: 12.1021 - accuracy: 0.6647\n",
            "Epoch 2/3\n",
            "469/469 [==============================] - 1s 2ms/step - loss: 0.6884 - accuracy: 0.8422\n",
            "Epoch 3/3\n",
            "469/469 [==============================] - 1s 2ms/step - loss: 0.4714 - accuracy: 0.8813\n"
          ]
        }
      ],
      "source": [
        "# train option 설정 \n",
        "model.compile(loss='sparse_categorical_crossentropy',\n",
        "              optimizer='adam',\n",
        "              metrics=['accuracy'])\n",
        "# training \n",
        "# model.fit(x_train, y_train, epochs=3, batch_size=128)\n",
        "history = model.fit(x_train, y_train, epochs=3, batch_size=128)"
      ]
    },
    {
      "cell_type": "markdown",
      "metadata": {
        "id": "oTWUCI5QO_69"
      },
      "source": [
        "- show_shapes=Treu : 입출력 텐서의 shape을 보여줌"
      ]
    },
    {
      "cell_type": "code",
      "execution_count": null,
      "metadata": {
        "colab": {
          "base_uri": "https://localhost:8080/",
          "height": 466
        },
        "id": "rqXR_risjC7z",
        "outputId": "f3865f5e-5123-4dc3-8a84-641d05e11018"
      },
      "outputs": [
        {
          "data": {
            "image/png": "[encoded data removed]",
            "text/plain": [
              "<IPython.core.display.Image object>"
            ]
          },
          "execution_count": 20,
          "metadata": {},
          "output_type": "execute_result"
        }
      ],
      "source": [
        "keras.utils.plot_model(model,'model.png')#,show_shapes=True)"
      ]
    },
    {
      "cell_type": "code",
      "execution_count": null,
      "metadata": {
        "id": "CEBDwOb0jNz7",
        "outputId": "a522383b-e972-40ea-f962-4c0da836ee2a"
      },
      "outputs": [
        {
          "name": "stdout",
          "output_type": "stream",
          "text": [
            "Model: \"model_1\"\n",
            "__________________________________________________________________________________________________\n",
            "Layer (type)                    Output Shape         Param #     Connected to                     \n",
            "==================================================================================================\n",
            "input_4 (InputLayer)            [(None, 28, 28)]     0                                            \n",
            "__________________________________________________________________________________________________\n",
            "flatten_6 (Flatten)             (None, 784)          0           input_4[0][0]                    \n",
            "__________________________________________________________________________________________________\n",
            "dense_12 (Dense)                (None, 32)           25120       flatten_6[0][0]                  \n",
            "__________________________________________________________________________________________________\n",
            "dense_13 (Dense)                (None, 32)           25120       flatten_6[0][0]                  \n",
            "__________________________________________________________________________________________________\n",
            "concatenate_1 (Concatenate)     (None, 64)           0           dense_12[0][0]                   \n",
            "                                                                 dense_13[0][0]                   \n",
            "__________________________________________________________________________________________________\n",
            "dense_14 (Dense)                (None, 10)           650         concatenate_1[0][0]              \n",
            "==================================================================================================\n",
            "Total params: 50,890\n",
            "Trainable params: 50,890\n",
            "Non-trainable params: 0\n",
            "__________________________________________________________________________________________________\n"
          ]
        }
      ],
      "source": [
        "def create_model2():\n",
        "    input_x = keras.Input(shape=(28,28))\n",
        "    x0 = layers.Flatten()(input_x)\n",
        "    x1 = layers.Dense(32, activation=\"relu\")(x0)\n",
        "    x2 = layers.Dense(32, activation=\"relu\")(x0)\n",
        "    x3 = layers.concatenate([x1, x2])\n",
        "    output_x = layers.Dense(10,activation=\"softmax\")(x3)\n",
        "    # 2. 모델 인스턴스 : input,output으로 DataFlow를 추적\n",
        "    model = keras.Model(inputs=input_x, outputs=output_x)\n",
        "    return model \n",
        "\n",
        "model2 = create_model2()\n",
        "model2.summary()"
      ]
    },
    {
      "cell_type": "markdown",
      "metadata": {
        "id": "W31bNgjpPPxe"
      },
      "source": [
        "#### 2.3. SubClassing API "
      ]
    },
    {
      "cell_type": "code",
      "execution_count": null,
      "metadata": {
        "id": "zzfMjFE6quBU"
      },
      "outputs": [],
      "source": [
        "class MyModel(keras.Model):\n",
        "    def __init__(self):\n",
        "        super(MyModel, self).__init__()\n",
        "        self.flatten = layers.Flatten()\n",
        "        self.d1 = layers.Dense(32, activation=\"relu\")\n",
        "        self.d2 = layers.Dense(32, activation=\"relu\")\n",
        "        self.d3 = layers.Dense(10, activation=\"softmax\")\n",
        "\n",
        "    def call(self, x):\n",
        "        x0 = self.flatten(x)\n",
        "        x1 = self.d1(x0)\n",
        "        x2 = self.d2(x0)\n",
        "        c1 = layers.concatenate([x1, x2])\n",
        "        return self.d3(c1)       "
      ]
    },
    {
      "cell_type": "markdown",
      "metadata": {
        "id": "dsmtCvMrQRMc"
      },
      "source": [
        "- 모델 인스턴스 생성후 사용"
      ]
    },
    {
      "cell_type": "code",
      "execution_count": null,
      "metadata": {
        "colab": {
          "base_uri": "https://localhost:8080/",
          "height": 346
        },
        "id": "5EzMBGD1_H62",
        "outputId": "8512e6f3-cfe2-4e1c-ff17-215c7cc98fe1"
      },
      "outputs": [
        {
          "name": "stdout",
          "output_type": "stream",
          "text": [
            "Model: \"my_model\"\n",
            "_________________________________________________________________\n",
            "Layer (type)                 Output Shape              Param #   \n",
            "=================================================================\n",
            "flatten_8 (Flatten)          multiple                  0         \n",
            "_________________________________________________________________\n",
            "dense_16 (Dense)             multiple                  25120     \n",
            "_________________________________________________________________\n",
            "dense_17 (Dense)             multiple                  25120     \n",
            "_________________________________________________________________\n",
            "dense_18 (Dense)             multiple                  650       \n",
            "=================================================================\n",
            "Total params: 50,890\n",
            "Trainable params: 50,890\n",
            "Non-trainable params: 0\n",
            "_________________________________________________________________\n"
          ]
        },
        {
          "data": {
            "image/png": "[encoded data removed]",
            "text/plain": [
              "<IPython.core.display.Image object>"
            ]
          },
          "execution_count": 26,
          "metadata": {},
          "output_type": "execute_result"
        }
      ],
      "source": [
        "# 1. model instance \n",
        "model = MyModel()\n",
        "# 2. DataFlow(Graph)정의\n",
        "input_x = keras.Input(shape=(28,28))\n",
        "output_x = model(input_x)\n",
        "model.summary()\n",
        "## .utils.plot_model() : Sequntial/Functional API를 위한 것임  \n",
        "keras.utils.plot_model(model,'model.png',show_shapes=True)"
      ]
    },
    {
      "cell_type": "markdown",
      "metadata": {
        "id": "HxyedRCEjNz7"
      },
      "source": [
        "**Wrapping**"
      ]
    },
    {
      "cell_type": "code",
      "execution_count": null,
      "metadata": {
        "id": "IruxtIYzjNz8",
        "outputId": "05843016-e15e-4619-9e0c-1db07c98e4d2"
      },
      "outputs": [
        {
          "name": "stdout",
          "output_type": "stream",
          "text": [
            "Model: \"my_model_1\"\n",
            "_________________________________________________________________\n",
            "Layer (type)                 Output Shape              Param #   \n",
            "=================================================================\n",
            "flatten_9 (Flatten)          multiple                  0         \n",
            "_________________________________________________________________\n",
            "dense_19 (Dense)             multiple                  25120     \n",
            "_________________________________________________________________\n",
            "dense_20 (Dense)             multiple                  25120     \n",
            "_________________________________________________________________\n",
            "dense_21 (Dense)             multiple                  650       \n",
            "=================================================================\n",
            "Total params: 50,890\n",
            "Trainable params: 50,890\n",
            "Non-trainable params: 0\n",
            "_________________________________________________________________\n"
          ]
        }
      ],
      "source": [
        "def create_model3():\n",
        "    model = MyModel()\n",
        "    input_x = keras.Input(shape=(28,28))\n",
        "    output_x = model(input_x)\n",
        "    return model \n",
        "\n",
        "model3 = create_model3()\n",
        "model3.summary()"
      ]
    },
    {
      "cell_type": "markdown",
      "metadata": {
        "id": "lFAXXdaxxG6n"
      },
      "source": [
        "### 3. 학습환경 설정 compile method"
      ]
    },
    {
      "cell_type": "markdown",
      "metadata": {
        "id": "A-duDZ5IjNz8"
      },
      "source": [
        "---\n",
        "```python\n",
        "compile(\n",
        "    optimizer='rmsprop', loss=None, metrics=None, \n",
        "    loss_weights=None, weighted_metrics=None,..)\n",
        "```\n",
        "---"
      ]
    },
    {
      "cell_type": "markdown",
      "metadata": {
        "id": "ajdLS00gIoJO"
      },
      "source": [
        " - 내장함수의 'name'으로 지정하기 "
      ]
    },
    {
      "cell_type": "markdown",
      "metadata": {
        "id": "ltr8pU4lHuDH"
      },
      "source": [
        "---\n",
        "```python\n",
        "model.compile(loss='sparse_categorical_crossentropy',\n",
        "              optimizer='Adam',\n",
        "              metrics=['accuracy','mse'])\n",
        "```\n",
        "---"
      ]
    },
    {
      "cell_type": "markdown",
      "metadata": {
        "id": "eioQy1J3QwhV"
      },
      "source": [
        "- 내장함수를 지정하기"
      ]
    },
    {
      "cell_type": "markdown",
      "metadata": {
        "id": "illvBQrzJpMU"
      },
      "source": [
        "---\n",
        "```python\n",
        "model.compile(optimizer=keras.optimizers.RMSprop(\n",
        "                  learning_rate=0.001, rho=0.9, momentum=0.0, epsilon=1e-07),\n",
        "              loss=keras.losses.CategoricalCrossentropy(),\n",
        "              metrics=[keras.metrics.CategoricalAccuracy()]) \n",
        "```\n",
        "---"
      ]
    },
    {
      "cell_type": "markdown",
      "metadata": {
        "id": "ov5tKnpBIwuP"
      },
      "source": [
        " - 내장함수 또는 사용자함수의 인스턴스로 지정하기 "
      ]
    },
    {
      "cell_type": "markdown",
      "metadata": {
        "id": "1b2N4e2U5lNz"
      },
      "source": [
        "---\n",
        "```python\n",
        "opt = keras.optimizers.Adam(learning_rate=0.01)\n",
        "loss_fn = keras.losses.SparseCategoricalCrossentropy()\n",
        "metric_fn = keras.metrics.Accuracy()\n",
        "\n",
        "model.compile(loss=loss_fn, optimizer=opt, metrics=[metric_fn])\n",
        "```\n",
        "---"
      ]
    },
    {
      "cell_type": "markdown",
      "metadata": {
        "id": "Y8pSwuAyI5wE"
      },
      "source": [
        " - 내장함수의 파라메터가 복잡한 경우"
      ]
    },
    {
      "cell_type": "markdown",
      "metadata": {
        "id": "ksTLWt4o525p"
      },
      "source": [
        "---\n",
        "```python\n",
        "lr_schedule = keras.optimizers.schedules.ExponentialDecay(\n",
        "    initial_learning_rate=1e-2,\n",
        "    decay_steps=10000,\n",
        "    decay_rate=0.9)\n",
        "optimizer = keras.optimizers.SGD(learning_rate=lr_schedule)\n",
        "```\n",
        "---"
      ]
    },
    {
      "cell_type": "markdown",
      "metadata": {
        "id": "AYRXVyGtTcm3"
      },
      "source": [
        "### 4. 모델 학습"
      ]
    },
    {
      "cell_type": "markdown",
      "metadata": {
        "id": "zTG2h5eYjNz9"
      },
      "source": [
        "---\n",
        "```python\n",
        "## default values\n",
        "model.fit(x=None, y=None, batch_size=None, epochs=1, verbose=1,\n",
        "     callbacks=None, validation_split=0.0, validation_data=None,\n",
        "     shuffle=True, initial_epoch=0, validation_freq=1,..)\n",
        "```\n",
        "---"
      ]
    },
    {
      "cell_type": "markdown",
      "metadata": {
        "id": "DIKLe5BmT0O7"
      },
      "source": [
        "- return으로 학습과정의 정보 받기"
      ]
    },
    {
      "cell_type": "code",
      "execution_count": null,
      "metadata": {
        "colab": {
          "base_uri": "https://localhost:8080/",
          "height": 118
        },
        "id": "csFYOHQ1TqCR",
        "outputId": "0ba3d51f-5c89-4564-ffd7-91c1219bbd0e"
      },
      "outputs": [
        {
          "name": "stdout",
          "output_type": "stream",
          "text": [
            "Epoch 1/3\n",
            "469/469 [==============================] - 1s 2ms/step - loss: 15.1772 - accuracy: 0.7085 - mse: 27.4229\n",
            "Epoch 2/3\n",
            "469/469 [==============================] - 1s 2ms/step - loss: 0.8043 - accuracy: 0.8131 - mse: 27.3059\n",
            "Epoch 3/3\n",
            "469/469 [==============================] - 1s 2ms/step - loss: 0.5342 - accuracy: 0.8715 - mse: 27.3128\n"
          ]
        }
      ],
      "source": [
        "# train option 설정 \n",
        "model.compile(loss='sparse_categorical_crossentropy',\n",
        "              optimizer='adam',\n",
        "              metrics=['accuracy','mse'])\n",
        "# training \n",
        "# model.fit(x_train, y_train, epochs=3, batch_size=128)\n",
        "history = model.fit(x_train, y_train, epochs=3, batch_size=128)"
      ]
    },
    {
      "cell_type": "code",
      "execution_count": null,
      "metadata": {
        "colab": {
          "base_uri": "https://localhost:8080/",
          "height": 67
        },
        "id": "Y6OCB3FgTvUb",
        "outputId": "48bd2b27-6480-4711-f86b-a96de0ab5d43"
      },
      "outputs": [
        {
          "data": {
            "text/plain": [
              "{'loss': [5.033965110778809, 0.7289586663246155, 0.5058720707893372],\n",
              " 'accuracy': [0.7551000118255615, 0.831849992275238, 0.8773000240325928],\n",
              " 'mse': [27.379961013793945, 27.374069213867188, 27.378639221191406]}"
            ]
          },
          "execution_count": 29,
          "metadata": {},
          "output_type": "execute_result"
        }
      ],
      "source": [
        "history.history #Epoch별 loss, metric값"
      ]
    },
    {
      "cell_type": "markdown",
      "metadata": {
        "id": "L2iQYrSpUGq3"
      },
      "source": [
        "- 검증 데이터 사용해서 학습과정 모니터링 하기 "
      ]
    },
    {
      "cell_type": "code",
      "execution_count": null,
      "metadata": {
        "colab": {
          "base_uri": "https://localhost:8080/",
          "height": 138
        },
        "id": "4BlLszydUP-t",
        "outputId": "33873004-34a6-46c3-bfa1-14c139240c5e"
      },
      "outputs": [
        {
          "name": "stdout",
          "output_type": "stream",
          "text": [
            "Epoch 1/3\n",
            "469/469 [==============================] - 1s 3ms/step - loss: 0.3989 - accuracy: 0.8997 - mse: 27.3813 - val_loss: 0.4596 - val_accuracy: 0.9018 - val_mse: 27.3284\n",
            "Epoch 2/3\n",
            "469/469 [==============================] - 1s 3ms/step - loss: 0.3324 - accuracy: 0.9134 - mse: 27.3834 - val_loss: 0.3862 - val_accuracy: 0.9110 - val_mse: 27.3293\n",
            "Epoch 3/3\n",
            "469/469 [==============================] - 1s 3ms/step - loss: 0.2857 - accuracy: 0.9236 - mse: 27.3845 - val_loss: 0.3556 - val_accuracy: 0.9207 - val_mse: 27.3302\n"
          ]
        }
      ],
      "source": [
        "history = model.fit(x_train, y_train, epochs=3, batch_size=128, validation_data=(x_test, y_test))"
      ]
    },
    {
      "cell_type": "code",
      "execution_count": null,
      "metadata": {
        "colab": {
          "base_uri": "https://localhost:8080/",
          "height": 118
        },
        "id": "6NIQCa3JUfIs",
        "outputId": "4e1f7798-9116-45e8-c7c7-089df6db5f73"
      },
      "outputs": [
        {
          "data": {
            "text/plain": [
              "{'loss': [0.3988856077194214, 0.3324447274208069, 0.28570133447647095],\n",
              " 'accuracy': [0.8996666669845581, 0.9134166836738586, 0.923633337020874],\n",
              " 'mse': [27.38130760192871, 27.383398056030273, 27.384523391723633],\n",
              " 'val_loss': [0.45962202548980713, 0.38617396354675293, 0.3556196093559265],\n",
              " 'val_accuracy': [0.9017999768257141, 0.9110000133514404, 0.9207000136375427],\n",
              " 'val_mse': [27.328384399414062, 27.32930564880371, 27.330169677734375]}"
            ]
          },
          "execution_count": 31,
          "metadata": {},
          "output_type": "execute_result"
        }
      ],
      "source": [
        "history.history"
      ]
    },
    {
      "cell_type": "markdown",
      "metadata": {
        "id": "GBjjEcF7SJzC"
      },
      "source": [
        "### 5. 모델 평가 "
      ]
    },
    {
      "cell_type": "code",
      "execution_count": null,
      "metadata": {
        "colab": {
          "base_uri": "https://localhost:8080/",
          "height": 34
        },
        "id": "GDQh322RN4S9",
        "outputId": "007cb2df-8e7c-45d4-c21b-f594dfcd90a8"
      },
      "outputs": [
        {
          "name": "stdout",
          "output_type": "stream",
          "text": [
            "313/313 [==============================] - 1s 2ms/step - loss: 1.5617 - accuracy: 0.4272 - mse: 27.2803\n"
          ]
        },
        {
          "data": {
            "text/plain": [
              "[1.5617111921310425, 0.42719998955726624, 27.280338287353516]"
            ]
          },
          "execution_count": 21,
          "metadata": {},
          "output_type": "execute_result"
        }
      ],
      "source": [
        "#Test dataset에 대한 평균 loss, metric \n",
        "model.evaluate(x=x_test, y=y_test)"
      ]
    },
    {
      "cell_type": "code",
      "execution_count": null,
      "metadata": {
        "colab": {
          "base_uri": "https://localhost:8080/",
          "height": 34
        },
        "id": "RaBmTaRGVjKw",
        "outputId": "a7a91c67-bdcf-475e-e587-53f32c6271db",
        "tags": [
          "x_train"
        ]
      },
      "outputs": [
        {
          "name": "stdout",
          "output_type": "stream",
          "text": [
            "Type: <class 'list'>\n",
            "Values: [1.5617116689682007, 0.42719998955726624, 27.280344009399414]\n"
          ]
        }
      ],
      "source": [
        "# returen : loss + metrics \n",
        "values = model.evaluate(x=x_test, y=y_test, batch_size=1024,verbose=0)\n",
        "p(values)"
      ]
    },
    {
      "cell_type": "code",
      "execution_count": null,
      "metadata": {
        "id": "ESnsdGggjNz-",
        "outputId": "af498d5e-4375-4424-ee1c-c76b0372e6d6"
      },
      "outputs": [
        {
          "name": "stdout",
          "output_type": "stream",
          "text": [
            "Type: <class 'list'>\n",
            "Values: [1.5617116689682007, 0.42719998955726624, 27.280344009399414]\n"
          ]
        }
      ],
      "source": [
        "p(values)"
      ]
    },
    {
      "cell_type": "markdown",
      "metadata": {
        "id": "69yVZmHNYmj-"
      },
      "source": [
        "### 6. 모델 Test : Predict, Inference "
      ]
    },
    {
      "cell_type": "code",
      "execution_count": null,
      "metadata": {
        "colab": {
          "base_uri": "https://localhost:8080/",
          "height": 252
        },
        "id": "4xemQx6gYkpo",
        "outputId": "ace4d4c4-57de-4d80-b9ec-1aa61ed92adb"
      },
      "outputs": [
        {
          "name": "stdout",
          "output_type": "stream",
          "text": [
            "Shape:(10,)\n",
            "Type: <class 'numpy.ndarray'>\n",
            "Values: [4.5318805e-38 1.9211622e-36 4.3251976e-28 5.3895437e-06 7.9521811e-08\n",
            " 4.9528994e-09 1.4232975e-37 9.9999452e-01 0.0000000e+00 5.3591187e-10]\n"
          ]
        }
      ],
      "source": [
        "y_predict = model.predict(x_test) \n",
        "p(y_predict[0,:])"
      ]
    },
    {
      "cell_type": "markdown",
      "metadata": {
        "id": "vPPr79JHSvOz"
      },
      "source": [
        "- category 값으로 변환하기: argmax() 가장큰값의 index를 반환"
      ]
    },
    {
      "cell_type": "code",
      "execution_count": null,
      "metadata": {
        "colab": {
          "base_uri": "https://localhost:8080/",
          "height": 34
        },
        "id": "N2XwsjaIZjE4",
        "outputId": "8b64b5bc-c58f-4301-9200-4e4172014456"
      },
      "outputs": [
        {
          "name": "stdout",
          "output_type": "stream",
          "text": [
            "Shape:(10000,)\n",
            "Type: <class 'numpy.ndarray'>\n",
            "Values: [7 2 1 ... 4 3 3]\n",
            "Shape:(10000,)\n",
            "Type: <class 'numpy.ndarray'>\n",
            "Values: [7 2 1 ... 4 5 6]\n"
          ]
        }
      ],
      "source": [
        "import numpy as np\n",
        "index = np.argmax(model.predict(x_test), axis=-1) \n",
        "p(index)\n",
        "p(y_test)"
      ]
    },
    {
      "cell_type": "markdown",
      "metadata": {
        "id": "ojMck7NedpJG"
      },
      "source": [
        "### 7. 첫번째 모델 다시보기 "
      ]
    },
    {
      "cell_type": "code",
      "execution_count": null,
      "metadata": {
        "colab": {
          "base_uri": "https://localhost:8080/",
          "height": 150
        },
        "id": "FuTWTp-T3Vq0",
        "outputId": "2cfb2122-3f20-458d-cc53-d444c6383930"
      },
      "outputs": [
        {
          "name": "stdout",
          "output_type": "stream",
          "text": [
            "Epoch 1/3\n",
            "469/469 [==============================] - 1s 2ms/step - loss: 480.2382 - accuracy: 0.7737 - mse: 27.3195\n",
            "Epoch 2/3\n",
            "469/469 [==============================] - 1s 2ms/step - loss: 130.6360 - accuracy: 0.8649 - mse: 27.4209\n",
            "Epoch 3/3\n",
            "469/469 [==============================] - 1s 2ms/step - loss: 126.1851 - accuracy: 0.8707 - mse: 27.2878\n"
          ]
        },
        {
          "data": {
            "text/plain": [
              "<tensorflow.python.keras.callbacks.History at 0x1a573895488>"
            ]
          },
          "execution_count": 21,
          "metadata": {},
          "output_type": "execute_result"
        }
      ],
      "source": [
        "## metric에 'mse' 추가 했음, 문제점은??  \n",
        "import tensorflow.keras as keras\n",
        "# 데이터 준비\n",
        "(x_train, y_train), (x_test, y_test) = keras.datasets.mnist.load_data()\n",
        "# 모델 정의\n",
        "## Sequential model 사용\n",
        "model = keras.models.Sequential()\n",
        "## 레이어 추가 \n",
        "model.add(keras.layers.Flatten(input_shape=(28,28)))\n",
        "model.add(keras.layers.Dense(units=10, activation='softmax'))\n",
        "# 학습과정 설정 \n",
        "model.compile(loss='sparse_categorical_crossentropy',\n",
        "              optimizer='sgd',\n",
        "              metrics=['accuracy','mse'])\n",
        "# 학습 \n",
        "model.fit(x_train, y_train, epochs=3, batch_size=128)"
      ]
    },
    {
      "cell_type": "code",
      "execution_count": null,
      "metadata": {
        "id": "tPlOJAWKjN0A",
        "outputId": "f9302c91-65ae-4bb9-a8a2-bd5d5cbec669"
      },
      "outputs": [
        {
          "name": "stdout",
          "output_type": "stream",
          "text": [
            "Shape:(10000,)\n",
            "Type: <class 'numpy.ndarray'>\n",
            "Values: [7 2 1 ... 4 5 6]\n"
          ]
        }
      ],
      "source": [
        "p(y_test)"
      ]
    },
    {
      "cell_type": "code",
      "execution_count": null,
      "metadata": {
        "id": "zHU7oYD_jN0A",
        "outputId": "cd629094-d07b-4ae9-c51f-bd8595a80c9d"
      },
      "outputs": [
        {
          "name": "stdout",
          "output_type": "stream",
          "text": [
            "Epoch 1/3\n",
            "469/469 [==============================] - 1s 2ms/step - loss: 402.8699 - accuracy: 0.7753 - mse: 0.0449\n",
            "Epoch 2/3\n",
            "469/469 [==============================] - 1s 2ms/step - loss: 137.8766 - accuracy: 0.8612 - mse: 0.0277\n",
            "Epoch 3/3\n",
            "469/469 [==============================] - 1s 2ms/step - loss: 126.2746 - accuracy: 0.8697 - mse: 0.0260\n"
          ]
        },
        {
          "data": {
            "text/plain": [
              "<tensorflow.python.keras.callbacks.History at 0x236946be1c8>"
            ]
          },
          "execution_count": 28,
          "metadata": {},
          "output_type": "execute_result"
        }
      ],
      "source": [
        "## MSE 값을 확인, why?? \n",
        "## 수정된 부분은? \n",
        "import tensorflow.keras as keras\n",
        "# 데이터 준비\n",
        "(x_train, y_train), (x_test, y_test) = keras.datasets.mnist.load_data()\n",
        "y_train = tf.one_hot(y_train,depth=10) ##\n",
        "y_test = tf.one_hot(y_test,depth=10)   ##\n",
        "\n",
        "# 모델 정의\n",
        "## Sequential model 사용\n",
        "model = keras.models.Sequential()\n",
        "## 레이어 추가 \n",
        "model.add(keras.layers.Flatten(input_shape=(28,28)))\n",
        "model.add(keras.layers.Dense(units=10, activation='softmax'))\n",
        "# 학습과정 설정 \n",
        "model.compile(loss='categorical_crossentropy',  ##\n",
        "              optimizer='sgd',\n",
        "              metrics=['accuracy','mse'])\n",
        "# 학습 \n",
        "model.fit(x_train, y_train, epochs=3, batch_size=128)"
      ]
    },
    {
      "cell_type": "markdown",
      "metadata": {
        "id": "iQA1daoUjN0A"
      },
      "source": [
        "**rank, shape, axis**"
      ]
    },
    {
      "cell_type": "code",
      "execution_count": null,
      "metadata": {
        "id": "S3RjgJZejN0A",
        "outputId": "4682e9f4-2bf0-4b70-a255-92401d6832b2"
      },
      "outputs": [
        {
          "name": "stdout",
          "output_type": "stream",
          "text": [
            "3\n",
            "Shape:(2, 3, 4)\n",
            "Type: <class 'numpy.ndarray'>\n",
            "Values: [[[0. 0. 0. 0.]\n",
            "  [0. 0. 0. 0.]\n",
            "  [0. 0. 0. 0.]]\n",
            "\n",
            " [[0. 0. 0. 0.]\n",
            "  [0. 0. 0. 0.]\n",
            "  [0. 0. 0. 0.]]]\n"
          ]
        }
      ],
      "source": [
        "## rank, shape, axis \n",
        "d = np.zeros((2,3,4))\n",
        "print(d.ndim)  \n",
        "p(d)\n",
        "# #of_rank = 3\n",
        "# shape=(2,3,4), \n",
        "# axis:(0,1,2) or (0,1,-1) \n",
        "#     (z, y, x)"
      ]
    },
    {
      "cell_type": "markdown",
      "metadata": {
        "id": "yhf9yp1QWazc"
      },
      "source": [
        "### 8. 좀더 깊숙한 모델 다루기 "
      ]
    },
    {
      "cell_type": "markdown",
      "metadata": {
        "id": "rgVSKC-0XFK8"
      },
      "source": [
        "#### 1. compile method"
      ]
    },
    {
      "cell_type": "markdown",
      "metadata": {
        "id": "nb_yaJqcjN0A"
      },
      "source": [
        "default values"
      ]
    },
    {
      "cell_type": "markdown",
      "metadata": {
        "id": "SsfpRu3pg5sP"
      },
      "source": [
        "---\n",
        "```python\n",
        "model.compile(optimizer='rmsprop', loss=None, metrics=None, \n",
        "              loss_weights=None, weighted_metrics=None,.. )\n",
        "```\n",
        "---"
      ]
    },
    {
      "cell_type": "markdown",
      "metadata": {
        "id": "LJI14kb_YjtZ"
      },
      "source": [
        "- 내장된 함수, 알고리즘들"
      ]
    },
    {
      "cell_type": "markdown",
      "metadata": {
        "id": "hYqIZ_dYXKKs"
      },
      "source": [
        "```python\n",
        "# 내장 Optimizers \n",
        "class Adadelta: Optimizer that implements the Adadelta algorithm.\n",
        "class Adagrad: Optimizer that implements the Adagrad algorithm.\n",
        "class Adam: Optimizer that implements the Adam algorithm.\n",
        "class Adamax: Optimizer that implements the Adamax algorithm.\n",
        "class Ftrl: Optimizer that implements the FTRL algorithm.\n",
        "class Nadam: Optimizer that implements the NAdam algorithm.\n",
        "class Optimizer: Updated base class for optimizers.\n",
        "class RMSprop: Optimizer that implements the RMSprop algorithm.\n",
        "class SGD: Stochastic gradient descent and momentum optimizer.\n",
        "```"
      ]
    },
    {
      "cell_type": "markdown",
      "metadata": {
        "id": "qgAwN-6tXh4V"
      },
      "source": [
        "``` python\n",
        "#  내장 loss functions\n",
        "class BinaryCrossentropy: Computes the cross-entropy loss between true labels and predicted labels.\n",
        "class CategoricalCrossentropy: Computes the crossentropy loss between the labels and predictions.\n",
        "class CategoricalHinge: Computes the categorical hinge loss between y_true and y_pred.\n",
        "class CosineSimilarity: Computes the cosine similarity between y_true and y_pred.\n",
        "class Hinge: Computes the hinge loss between y_true and y_pred.\n",
        "class Huber: Computes the Huber loss between y_true and y_pred.\n",
        "class KLDivergence: Computes Kullback-Leibler divergence loss between y_true and y_pred.\n",
        "class LogCosh: Computes the logarithm of the hyperbolic cosine of the prediction error.\n",
        "class Loss: Loss base class.\n",
        "class MeanAbsoluteError: Computes the mean of absolute difference between labels and predictions.\n",
        "class MeanAbsolutePercentageError: Computes the mean absolute percentage error between y_true and y_pred.\n",
        "class MeanSquaredError: Computes the mean of squares of errors between labels and predictions.\n",
        "class MeanSquaredLogarithmicError: Computes the mean squared logarithmic error between y_true and y_pred.\n",
        "class Poisson: Computes the Poisson loss between y_true and y_pred.\n",
        "class Reduction: Types of loss reduction.\n",
        "class SparseCategoricalCrossentropy: Computes the crossentropy loss between the labels and predictions.\n",
        "class SquaredHinge: Computes the squared hinge loss between y_true and y_pred.\n",
        "```"
      ]
    },
    {
      "cell_type": "markdown",
      "metadata": {
        "id": "WmCwE2JDXX8t"
      },
      "source": [
        "```python\n",
        "# 내장 metric functions\n",
        "class AUC: Computes the approximate AUC (Area under the curve) via a Riemann sum.\n",
        "class Accuracy: Calculates how often predictions equals labels.\n",
        "class BinaryAccuracy: Calculates how often predictions matches binary labels.\n",
        "class BinaryCrossentropy: Computes the crossentropy metric between the labels and predictions.\n",
        "class CategoricalAccuracy: Calculates how often predictions matches one-hot labels.\n",
        "class CategoricalCrossentropy: Computes the crossentropy metric between the labels and predictions.\n",
        "class CategoricalHinge: Computes the categorical hinge metric between y_true and y_pred.\n",
        "class CosineSimilarity: Computes the cosine similarity between the labels and predictions.\n",
        "class FalseNegatives: Calculates the number of false negatives.\n",
        "class FalsePositives: Calculates the number of false positives.\n",
        "class Hinge: Computes the hinge metric between y_true and y_pred.\n",
        "class KLDivergence: Computes Kullback-Leibler divergence metric between y_true and y_pred.\n",
        "class LogCoshError: Computes the logarithm of the hyperbolic cosine of the prediction error.\n",
        "class Mean: Computes the (weighted) mean of the given values.\n",
        "class MeanAbsoluteError: Computes the mean absolute error between the labels and predictions.\n",
        "class MeanAbsolutePercentageError: Computes the mean absolute percentage error between y_true and y_pred.\n",
        "class MeanIoU: Computes the mean Intersection-Over-Union metric.\n",
        "class MeanRelativeError: Computes the mean relative error by normalizing with the given values.\n",
        "class MeanSquaredError: Computes the mean squared error between y_true and y_pred.\n",
        "class MeanSquaredLogarithmicError: Computes the mean squared logarithmic error between y_true and y_pred.\n",
        "class MeanTensor: Computes the element-wise (weighted) mean of the given tensors.\n",
        "class Metric: Encapsulates metric logic and state.\n",
        "class Poisson: Computes the Poisson metric between y_true and y_pred.\n",
        "class Precision: Computes the precision of the predictions with respect to the labels.\n",
        "class PrecisionAtRecall: Computes the precision at a given recall.\n",
        "class Recall: Computes the recall of the predictions with respect to the labels.\n",
        "class RecallAtPrecision: Computes the maximally achievable recall at a required precision.\n",
        "class RootMeanSquaredError: Computes root mean squared error metric between y_true and y_pred.\n",
        "class SensitivityAtSpecificity: Computes the sensitivity at a given specificity.\n",
        "class SparseCategoricalAccuracy: Calculates how often predictions matches integer labels.\n",
        "class SparseCategoricalCrossentropy: Computes the crossentropy metric between the labels and predictions.\n",
        "class SparseTopKCategoricalAccuracy: Computes how often integer targets are in the top K predictions.\n",
        "class SpecificityAtSensitivity: Computes the specificity at a given sensitivity.\n",
        "class SquaredHinge: Computes the squared hinge metric between y_true and y_pred.\n",
        "class Sum: Computes the (weighted) sum of the given values.\n",
        "class TopKCategoricalAccuracy: Computes how often targets are in the top K predictions.\n",
        "class TrueNegatives: Calculates the number of true negatives.\n",
        "class TruePositives: Calculates the number of true positives.\n",
        "```"
      ]
    },
    {
      "cell_type": "markdown",
      "metadata": {
        "id": "tNyjX4JYjN0B"
      },
      "source": [
        "함수 인스턴스로 compile 인수 설정하기 "
      ]
    },
    {
      "cell_type": "markdown",
      "metadata": {
        "id": "_YEkhZipjN0B"
      },
      "source": [
        "---\n",
        "```python\n",
        "opt = keras.optimizers.Adam(learning_rate=0.01)\n",
        "loss_fn = keras.losses.SparseCategoricalCrossentropy()\n",
        "metric_fn = keras.metrics.Accuracy()\n",
        "\n",
        "model.compile(loss=loss_fn, optimizer=opt, metrics=[metric_fn])\n",
        "```\n",
        "---"
      ]
    },
    {
      "cell_type": "markdown",
      "metadata": {
        "id": "lP5UeAuBYcoe"
      },
      "source": [
        "##### - 사용자 loss, metric함수 만들기"
      ]
    },
    {
      "cell_type": "code",
      "execution_count": null,
      "metadata": {
        "colab": {
          "base_uri": "https://localhost:8080/",
          "height": 134
        },
        "id": "vln-X99fbnmP",
        "outputId": "2b7955d7-c741-4097-910c-285e48de92e8"
      },
      "outputs": [
        {
          "name": "stdout",
          "output_type": "stream",
          "text": [
            "Epoch 1/3\n",
            "938/938 [==============================] - 2s 2ms/step - loss: 0.1729 - accuracy: 0.8087 - custom_mean_error: -9.2817e-12\n",
            "Epoch 2/3\n",
            "938/938 [==============================] - 2s 2ms/step - loss: 0.1660 - accuracy: 0.8292 - custom_mean_error: 6.6361e-13\n",
            "Epoch 3/3\n",
            "938/938 [==============================] - 2s 2ms/step - loss: 0.1657 - accuracy: 0.8310 - custom_mean_error: -5.3816e-13\n"
          ]
        },
        {
          "data": {
            "text/plain": [
              "<tensorflow.python.keras.callbacks.History at 0x236946c2e88>"
            ]
          },
          "execution_count": 30,
          "metadata": {},
          "output_type": "execute_result"
        }
      ],
      "source": [
        "(x_train, y_train), (x_test, y_test) = keras.datasets.mnist.load_data()\n",
        "\n",
        "model = create_model1()\n",
        "\n",
        "# loss 함수 만들기\n",
        "def custom_mean_squared_error(y_true, y_pred):\n",
        "    return tf.math.reduce_mean(tf.square(y_true - y_pred))\n",
        "# metric 함수 만들기\n",
        "def custom_mean_error(y_true, y_pred):\n",
        "    return tf.math.reduce_mean(y_true - y_pred)\n",
        "\n",
        "model.compile(optimizer=keras.optimizers.Adam(),\n",
        "              loss=custom_mean_squared_error,\n",
        "              metrics=['Accuracy',custom_mean_error])\n",
        "\n",
        "# MSE 계산을 위해 레이블을 one-hot encoding \n",
        "y_train_one_hot = tf.one_hot(y_train, depth=10)\n",
        "model.fit(x_train, y_train_one_hot, batch_size=64, epochs=3)"
      ]
    },
    {
      "cell_type": "markdown",
      "metadata": {
        "id": "e8T9gW3DXJwh"
      },
      "source": [
        "#### 2.  Fit method에서 callback사용하기"
      ]
    },
    {
      "cell_type": "markdown",
      "metadata": {
        "id": "63qUenoEjokp"
      },
      "source": [
        "---\n",
        "```python\n",
        "## fit() arguments, default values \n",
        "Model.fit(\n",
        "    x=None,                       # 입력 데이터\n",
        "    y=None,                       # 대상 데이터\n",
        "    batch_size=None,              # 그라디언트 업데이트 / 샘플 수\n",
        "    epochs=1,                     # 모델을 훈련시킬 에포크 수\n",
        "    verbose=1,                    # 0 = 무음, 1 = 진행률 표시 줄, 2 = 에포크 당 한 줄\n",
        "    callbacks=None,               # keras.callbacks.Callback인스턴스 list   \n",
        "    validation_split=0.0,         # 검증 데이터로 사용될 훈련 데이터의 비율\n",
        "    validation_data=None,         # 각 에포크의 끝에서 모델 메트릭을 평가할 데이터\n",
        "    shuffle=True,                 # 각 에포크 전에 훈련 데이터를 임의 순서로 섞을 것인지\n",
        "    class_weight=None,            # 손실 함수의 가중치를 부여하는 데 사용, 부족한 클래스에 가중치 제공\n",
        "    sample_weight=None,           # 손실 기능의 가중치를 부여하는 데 사용, 샘플들 간에 다른 가중치 제공\n",
        "    initial_epoch=0,              # 훈련을 시작할 시점, 훈련을 재개하는 데 유용\n",
        "    steps_per_epoch=None,         # 에포크의 완료를 선언할 배치의 수, 무한 반복되는 데이터 사용시 \n",
        "    validation_steps=None,        # 검증의 완료를 선언할 배치의 수, 무한 반복되는 데이터 사용시 \n",
        "    validation_batch_size=None,   # 검증 배치 당 샘플 수, 지정되지 않은 경우 batch_size\n",
        "    validation_freq=1,            # 지정한 에포크끝에서 검증 수행, ( =5, =[1, 2, 10] )\n",
        "    max_queue_size=10,            # generator 또는 Sequence 입력에만 사용, 최대 generator 큐\n",
        "    workers=1,                    # generator 또는 Sequence입력에만 사용, 최대  프로세스기반 쓰레드\n",
        "    use_multiprocessing=False,    # generator 또는 Sequence입력에만 사용, 최대  프로세스기반 쓰레드 \n",
        ") \n",
        "```\n",
        "---"
      ]
    },
    {
      "cell_type": "markdown",
      "metadata": {
        "id": "6AmDjJzCVknk"
      },
      "source": [
        "- callback 사용하기 "
      ]
    },
    {
      "cell_type": "markdown",
      "metadata": {
        "id": "aupxEQGokfZT"
      },
      "source": [
        "다음과 같은 형태로 callback에 여러개의 함수를 적용할 수 있습니다."
      ]
    },
    {
      "cell_type": "markdown",
      "metadata": {
        "id": "VKMyA3AGkocZ"
      },
      "source": [
        "---\n",
        "```python\n",
        "def scheduler(epoch, lr):\n",
        "    if epoch < 10:  # 10, 20, 30, 50, ...\n",
        "        return 0.001  # lr, 0.01, 0.001, ...\n",
        "    else:\n",
        "        return lr * tf.math.exp(0.002 * (10 - epoch))\n",
        "\n",
        "my_callbacks = [\n",
        "    keras.callbacks.EarlyStopping(monitor=\"val_accuracy\",patience=5),\n",
        "    keras.callbacks.LearningRateScheduler(scheduler),\n",
        "    keras.callbacks.TensorBoard(log_dir='./logs'),\n",
        "    keras.callbacks.ModelCheckpoint(filepath='./ckpt/cp.ckpt', \n",
        "                                    save_best_only=True, save_weights_only=False,), \n",
        "             ]\n",
        "model.fit(x_train,y_train, epochs=100, batch_size=1024, callbacks=my_callbacks,\n",
        "          validation_data=(x_test, y_test)) \n",
        "```\n",
        "---"
      ]
    },
    {
      "cell_type": "code",
      "execution_count": null,
      "metadata": {
        "id": "6RN1M0H0f3vm",
        "scrolled": true
      },
      "outputs": [],
      "source": [
        "# 데이터 준비 \n",
        "(x_train, y_train), (x_test, y_test) = keras.datasets.mnist.load_data() \n",
        "y_train = tf.one_hot(y_train,depth=10)\n",
        "y_test = tf.one_hot(y_test,depth=10)\n",
        "\n",
        "model = create_model1()\n",
        "\n",
        "# compile option  \n",
        "model.compile(loss='categorical_crossentropy',\n",
        "              optimizer='adam',\n",
        "              metrics=['accuracy']) "
      ]
    },
    {
      "cell_type": "markdown",
      "metadata": {
        "id": "XDvgfsJamc2M"
      },
      "source": [
        "##### 1) EarlyStopping "
      ]
    },
    {
      "cell_type": "code",
      "execution_count": null,
      "metadata": {
        "colab": {
          "base_uri": "https://localhost:8080/"
        },
        "id": "Pp9lZWZ7mXLf",
        "outputId": "c00aa975-708d-450a-9258-dae67012a23b",
        "scrolled": true,
        "tags": []
      },
      "outputs": [
        {
          "name": "stdout",
          "output_type": "stream",
          "text": [
            "Epoch 1/100\n",
            "59/59 [==============================] - 1s 11ms/step - loss: 0.5953 - accuracy: 0.9035 - val_loss: 0.8357 - val_accuracy: 0.8915\n",
            "Epoch 2/100\n",
            "59/59 [==============================] - 1s 10ms/step - loss: 0.5255 - accuracy: 0.9088 - val_loss: 0.8026 - val_accuracy: 0.8897\n",
            "Epoch 3/100\n",
            "59/59 [==============================] - 1s 10ms/step - loss: 0.4704 - accuracy: 0.9141 - val_loss: 0.7529 - val_accuracy: 0.8975\n",
            "Epoch 4/100\n",
            "59/59 [==============================] - 1s 10ms/step - loss: 0.4252 - accuracy: 0.9187 - val_loss: 0.7281 - val_accuracy: 0.8946\n",
            "Epoch 5/100\n",
            "59/59 [==============================] - 1s 10ms/step - loss: 0.3854 - accuracy: 0.9229 - val_loss: 0.7072 - val_accuracy: 0.9001\n",
            "Epoch 6/100\n",
            "59/59 [==============================] - 1s 10ms/step - loss: 0.3538 - accuracy: 0.9248 - val_loss: 0.6979 - val_accuracy: 0.9001\n",
            "Epoch 7/100\n",
            "59/59 [==============================] - 1s 10ms/step - loss: 0.3274 - accuracy: 0.9299 - val_loss: 0.6708 - val_accuracy: 0.9023\n",
            "Epoch 8/100\n",
            "59/59 [==============================] - 1s 10ms/step - loss: 0.3054 - accuracy: 0.9327 - val_loss: 0.6566 - val_accuracy: 0.9034\n",
            "Epoch 9/100\n",
            "59/59 [==============================] - 1s 10ms/step - loss: 0.2812 - accuracy: 0.9359 - val_loss: 0.6395 - val_accuracy: 0.9076\n",
            "Epoch 10/100\n",
            "59/59 [==============================] - 1s 10ms/step - loss: 0.2636 - accuracy: 0.9385 - val_loss: 0.6454 - val_accuracy: 0.9099\n",
            "Epoch 11/100\n",
            "59/59 [==============================] - 1s 10ms/step - loss: 0.2491 - accuracy: 0.9412 - val_loss: 0.6204 - val_accuracy: 0.9089\n",
            "Epoch 12/100\n",
            "59/59 [==============================] - 1s 10ms/step - loss: 0.2371 - accuracy: 0.9418 - val_loss: 0.6090 - val_accuracy: 0.9110\n",
            "Epoch 13/100\n",
            "59/59 [==============================] - 1s 10ms/step - loss: 0.2222 - accuracy: 0.9452 - val_loss: 0.6063 - val_accuracy: 0.9094\n",
            "Epoch 14/100\n",
            "59/59 [==============================] - 1s 10ms/step - loss: 0.2106 - accuracy: 0.9469 - val_loss: 0.6009 - val_accuracy: 0.9136\n",
            "Epoch 15/100\n",
            "59/59 [==============================] - 1s 10ms/step - loss: 0.1985 - accuracy: 0.9490 - val_loss: 0.5956 - val_accuracy: 0.9154\n",
            "Epoch 16/100\n",
            "59/59 [==============================] - 1s 10ms/step - loss: 0.1873 - accuracy: 0.9512 - val_loss: 0.5874 - val_accuracy: 0.9175\n",
            "Epoch 17/100\n",
            "59/59 [==============================] - 1s 10ms/step - loss: 0.1783 - accuracy: 0.9536 - val_loss: 0.5860 - val_accuracy: 0.9164\n",
            "Epoch 18/100\n",
            "59/59 [==============================] - 1s 10ms/step - loss: 0.1728 - accuracy: 0.9534 - val_loss: 0.5866 - val_accuracy: 0.9148\n"
          ]
        },
        {
          "data": {
            "text/plain": [
              "<tensorflow.python.keras.callbacks.History at 0x1a7436a2348>"
            ]
          },
          "execution_count": 118,
          "metadata": {},
          "output_type": "execute_result"
        }
      ],
      "source": [
        "# fit option : EarlyStoping 설정 \n",
        "my_callbacks = [ keras.callbacks.EarlyStopping(monitor=\"val_accuracy\",patience=2), ]\n",
        "model.fit(x_train,y_train, epochs=100, batch_size=1024, callbacks=my_callbacks,\n",
        "          validation_data=(x_test, y_test)) "
      ]
    },
    {
      "cell_type": "markdown",
      "metadata": {
        "id": "pL8Q5xk6m9Jz"
      },
      "source": [
        "##### 2)LearningRateScheduler "
      ]
    },
    {
      "cell_type": "markdown",
      "metadata": {
        "id": "5z0TJT_ajN0D"
      },
      "source": [
        "---\n",
        "```python\n",
        "epoch = 100\n",
        "\n",
        "def scheduler(epoch):\n",
        "    initial_lrate = 0.01\n",
        "    if epoch < 10:  # 10, 20, 30, 50, ...\n",
        "        return 0.01  # lr, 0.01, 0.001, ...\n",
        "    else:\n",
        "        return initial_lrate * tf.math.exp(0.03 * (10 - epoch))\n",
        "\n",
        "my_callbacks = [ keras.callbacks.LearningRateScheduler(scheduler), ]\n",
        "model.fit(x_train,y_train, epochs=20, batch_size=1024, callbacks=my_callbacks,\n",
        "          validation_data=(x_test, y_test)) \n",
        "```\n",
        "---"
      ]
    },
    {
      "cell_type": "code",
      "execution_count": null,
      "metadata": {
        "id": "TD9xQ0-bnPkh",
        "outputId": "af3eeccd-f2bf-438c-db42-f785d4e402ce",
        "tags": []
      },
      "outputs": [
        {
          "data": {
            "image/png": "[encoded data removed]",
            "text/plain": [
              "<Figure size 432x288 with 1 Axes>"
            ]
          },
          "metadata": {
            "needs_background": "light"
          },
          "output_type": "display_data"
        }
      ],
      "source": [
        "import matplotlib.pylab as plt\n",
        "\n",
        "epoch = 100\n",
        "\n",
        "def scheduler(epoch):\n",
        "    initial_lrate = 0.01\n",
        "    if epoch < 10:  # 10, 20, 30, 50, ...\n",
        "        return 0.01  # lr, 0.01, 0.001, ...\n",
        "    else:\n",
        "        return initial_lrate * tf.math.exp(0.03 * (10 - epoch))\n",
        "        \n",
        "lr=[]\n",
        "\n",
        "for step in range(epoch):\n",
        "    lr.append(scheduler(step))\n",
        "\n",
        "plt.plot(lr, linestyle='--', label=\"scheduler\")\n",
        "\n",
        "plt.legend()\n",
        "plt.grid()\n",
        "plt.show()"
      ]
    },
    {
      "cell_type": "markdown",
      "metadata": {
        "id": "4KVsEj_1PnBY"
      },
      "source": [
        "ExponentialDecay"
      ]
    },
    {
      "cell_type": "code",
      "execution_count": null,
      "metadata": {
        "id": "gY8FzfeFPnBb",
        "tags": [],
        "outputId": "7806aaa6-0d3b-4a54-a1f7-0ba3a77f0f09"
      },
      "outputs": [
        {
          "data": {
            "image/png": "[encoded data removed]",
            "text/plain": [
              "<Figure size 432x288 with 1 Axes>"
            ]
          },
          "metadata": {
            "needs_background": "light"
          },
          "output_type": "display_data"
        }
      ],
      "source": [
        "def ExponentialDecay(step,staircase=False):\n",
        "    initial_lrate = 0.1\n",
        "    decay_steps = 10  \n",
        "    decay_rate=0.7 \n",
        "    if staircase :\n",
        "        return initial_lrate * decay_rate ** (step // decay_steps)\n",
        "    return initial_lrate * decay_rate ** (step / decay_steps)\n",
        "\n",
        "lr=[]\n",
        "lr_s=[]\n",
        "for step in range(100):\n",
        "    lr.append(ExponentialDecay(step,staircase=False))\n",
        "    lr_s.append(ExponentialDecay(step,staircase=True))\n",
        "\n",
        "\n",
        "import matplotlib.pylab as plt\n",
        "\n",
        "plt.plot(lr, linestyle='--', label=\"ExponentialDecay\")\n",
        "plt.plot(lr_s, linestyle='--', label=\"ExponentialDecay_step\")\n",
        "\n",
        "plt.legend()\n",
        "plt.grid()\n",
        "plt.show()"
      ]
    },
    {
      "cell_type": "markdown",
      "metadata": {
        "id": "C_emb5HWjN0D"
      },
      "source": [
        "PolynomialDecay"
      ]
    },
    {
      "cell_type": "code",
      "execution_count": null,
      "metadata": {
        "id": "7-6-09kIPnBQ",
        "tags": [],
        "outputId": "781e3159-3416-4019-9d64-2863dd45e5fe"
      },
      "outputs": [
        {
          "data": {
            "image/png": "[encoded data removed]",
            "text/plain": [
              "<Figure size 432x288 with 1 Axes>"
            ]
          },
          "metadata": {
            "needs_background": "light"
          },
          "output_type": "display_data"
        }
      ],
      "source": [
        "def PolynomialDecay(step):\n",
        "    initial_lrate = 0.1\n",
        "    end_lrate = 0.01\n",
        "    decay_steps = 100  # = epochs \n",
        "    power=0.5\n",
        "    step = min(step, decay_steps)\n",
        "    return (((initial_lrate - end_lrate) \n",
        "           * (1 - step / decay_steps) ** (power) ) + end_lrate)\n",
        "  \n",
        "lr=[]\n",
        "\n",
        "for step in range(100):\n",
        "    lr.append(PolynomialDecay(step))\n",
        "\n",
        "plt.plot(lr, linestyle='--', label=\"PolynomialDecay\")\n",
        "\n",
        "plt.legend()\n",
        "plt.grid()\n",
        "plt.show()"
      ]
    },
    {
      "cell_type": "markdown",
      "metadata": {
        "id": "iI14vL7djN0E"
      },
      "source": [
        "InverseTimeDecay"
      ]
    },
    {
      "cell_type": "code",
      "execution_count": null,
      "metadata": {
        "colab": {
          "base_uri": "https://localhost:8080/",
          "height": 265
        },
        "id": "673xUBTzPnBl",
        "outputId": "bbac71a5-23b2-4200-c157-bdc2b6cc2aa0",
        "tags": []
      },
      "outputs": [
        {
          "data": {
            "image/png": "[encoded data removed]",
            "text/plain": [
              "<Figure size 432x288 with 1 Axes>"
            ]
          },
          "metadata": {
            "needs_background": "light"
          },
          "output_type": "display_data"
        }
      ],
      "source": [
        "def InverseTimeDecay(step):\n",
        "    initial_lrate = 0.1\n",
        "    decay_steps = 10\n",
        "    decay_rate = 0.5\n",
        "\n",
        "    return initial_lrate / (1 + decay_rate * step / decay_steps)\n",
        "\n",
        "lr=[]\n",
        "for step in range(100):\n",
        "    lr.append(InverseTimeDecay(step))\n",
        "\n",
        "plt.plot(lr, linestyle='--', label=\"InverseTimeDecay\")\n",
        "\n",
        "plt.legend()\n",
        "plt.grid()\n",
        "plt.show()"
      ]
    },
    {
      "cell_type": "code",
      "execution_count": null,
      "metadata": {
        "id": "aXzPwjftjN0E"
      },
      "outputs": [],
      "source": [
        "# 데이터 준비 \n",
        "(x_train, y_train), (x_test, y_test) = keras.datasets.mnist.load_data() \n",
        "# one hot encode target values\n",
        "y_train = tf.one_hot(y_train,depth=10)\n",
        "y_test = tf.one_hot(y_test,depth=10)\n",
        "#x_train = x_train/255.  ##\n",
        "#x_test = x_test/255.    ##\n",
        "\n"
      ]
    },
    {
      "cell_type": "code",
      "execution_count": null,
      "metadata": {
        "id": "3ynJHH0L3xTV",
        "scrolled": true,
        "tags": [],
        "outputId": "da407050-1fff-4909-f271-53dff98d9da8"
      },
      "outputs": [
        {
          "name": "stdout",
          "output_type": "stream",
          "text": [
            "Epoch 1/50\n",
            "59/59 - 1s - loss: 22.8250 - accuracy: 0.7079 - val_loss: 1.3098 - val_accuracy: 0.7097\n",
            "Epoch 2/50\n",
            "59/59 - 1s - loss: 1.0707 - accuracy: 0.7452 - val_loss: 0.9139 - val_accuracy: 0.7943\n",
            "Epoch 3/50\n",
            "59/59 - 1s - loss: 0.8072 - accuracy: 0.8375 - val_loss: 0.8617 - val_accuracy: 0.8453\n",
            "Epoch 4/50\n",
            "59/59 - 1s - loss: 0.5474 - accuracy: 0.8789 - val_loss: 0.4392 - val_accuracy: 0.9072\n",
            "Epoch 5/50\n",
            "59/59 - 1s - loss: 0.7162 - accuracy: 0.8964 - val_loss: 0.4102 - val_accuracy: 0.9089\n",
            "Epoch 6/50\n",
            "59/59 - 1s - loss: 0.3590 - accuracy: 0.9171 - val_loss: 0.4369 - val_accuracy: 0.9059\n",
            "Epoch 7/50\n",
            "59/59 - 1s - loss: 0.3557 - accuracy: 0.9207 - val_loss: 0.3831 - val_accuracy: 0.9171\n",
            "Epoch 8/50\n",
            "59/59 - 1s - loss: 0.3331 - accuracy: 0.9247 - val_loss: 0.6414 - val_accuracy: 0.8818\n",
            "Epoch 9/50\n",
            "59/59 - 1s - loss: 0.3034 - accuracy: 0.9293 - val_loss: 0.3694 - val_accuracy: 0.9292\n",
            "Epoch 10/50\n",
            "59/59 - 1s - loss: 0.2884 - accuracy: 0.9334 - val_loss: 0.3580 - val_accuracy: 0.9216\n",
            "Epoch 11/50\n",
            "59/59 - 1s - loss: 0.2774 - accuracy: 0.9356 - val_loss: 0.3840 - val_accuracy: 0.9200\n",
            "Epoch 12/50\n",
            "59/59 - 1s - loss: 0.2797 - accuracy: 0.9367 - val_loss: 0.3494 - val_accuracy: 0.9408\n",
            "Epoch 13/50\n",
            "59/59 - 1s - loss: 0.2519 - accuracy: 0.9424 - val_loss: 0.3707 - val_accuracy: 0.9373\n",
            "Epoch 14/50\n",
            "59/59 - 1s - loss: 0.2459 - accuracy: 0.9426 - val_loss: 0.3908 - val_accuracy: 0.9311\n",
            "Epoch 15/50\n",
            "59/59 - 1s - loss: 0.2496 - accuracy: 0.9424 - val_loss: 0.4881 - val_accuracy: 0.9203\n",
            "Epoch 16/50\n",
            "59/59 - 1s - loss: 0.2317 - accuracy: 0.9455 - val_loss: 0.3941 - val_accuracy: 0.9327\n",
            "Epoch 17/50\n",
            "59/59 - 1s - loss: 0.2302 - accuracy: 0.9465 - val_loss: 0.3898 - val_accuracy: 0.9415\n",
            "Epoch 18/50\n",
            "59/59 - 1s - loss: 0.2212 - accuracy: 0.9484 - val_loss: 0.4997 - val_accuracy: 0.9227\n",
            "Epoch 19/50\n",
            "59/59 - 1s - loss: 0.2196 - accuracy: 0.9498 - val_loss: 0.4990 - val_accuracy: 0.9263\n",
            "Epoch 20/50\n",
            "59/59 - 1s - loss: 0.2217 - accuracy: 0.9483 - val_loss: 0.4505 - val_accuracy: 0.9369\n",
            "Epoch 21/50\n",
            "59/59 - 1s - loss: 0.2088 - accuracy: 0.9508 - val_loss: 0.5234 - val_accuracy: 0.9287\n",
            "Epoch 22/50\n",
            "59/59 - 1s - loss: 0.2061 - accuracy: 0.9514 - val_loss: 0.4553 - val_accuracy: 0.9395\n",
            "Epoch 23/50\n",
            "59/59 - 1s - loss: 0.2228 - accuracy: 0.9516 - val_loss: 0.4568 - val_accuracy: 0.9335\n",
            "Epoch 24/50\n",
            "59/59 - 1s - loss: 0.2021 - accuracy: 0.9528 - val_loss: 0.4333 - val_accuracy: 0.9331\n",
            "Epoch 25/50\n",
            "59/59 - 1s - loss: 0.2050 - accuracy: 0.9534 - val_loss: 0.3807 - val_accuracy: 0.9466\n",
            "Epoch 26/50\n",
            "59/59 - 1s - loss: 0.1897 - accuracy: 0.9561 - val_loss: 0.4242 - val_accuracy: 0.9427\n",
            "Epoch 27/50\n",
            "59/59 - 1s - loss: 0.1971 - accuracy: 0.9560 - val_loss: 0.4023 - val_accuracy: 0.9455\n",
            "Epoch 28/50\n",
            "59/59 - 1s - loss: 0.1922 - accuracy: 0.9570 - val_loss: 0.4426 - val_accuracy: 0.9418\n",
            "Epoch 29/50\n",
            "59/59 - 1s - loss: 0.1902 - accuracy: 0.9572 - val_loss: 0.4428 - val_accuracy: 0.9413\n",
            "Epoch 30/50\n",
            "59/59 - 1s - loss: 0.1915 - accuracy: 0.9559 - val_loss: 0.4586 - val_accuracy: 0.9410\n",
            "Epoch 31/50\n",
            "59/59 - 1s - loss: 0.1831 - accuracy: 0.9587 - val_loss: 0.5186 - val_accuracy: 0.9248\n",
            "Epoch 32/50\n",
            "59/59 - 1s - loss: 0.1836 - accuracy: 0.9565 - val_loss: 0.4928 - val_accuracy: 0.9396\n",
            "Epoch 33/50\n",
            "59/59 - 1s - loss: 0.1871 - accuracy: 0.9586 - val_loss: 0.4326 - val_accuracy: 0.9435\n",
            "Epoch 34/50\n",
            "59/59 - 1s - loss: 0.1797 - accuracy: 0.9593 - val_loss: 0.4702 - val_accuracy: 0.9434\n",
            "Epoch 35/50\n",
            "59/59 - 1s - loss: 0.1781 - accuracy: 0.9592 - val_loss: 0.6171 - val_accuracy: 0.9309\n",
            "Epoch 36/50\n",
            "59/59 - 1s - loss: 0.1716 - accuracy: 0.9615 - val_loss: 0.5987 - val_accuracy: 0.9379\n",
            "Epoch 37/50\n",
            "59/59 - 1s - loss: 0.1827 - accuracy: 0.9584 - val_loss: 0.4825 - val_accuracy: 0.9424\n",
            "Epoch 38/50\n",
            "59/59 - 1s - loss: 0.1727 - accuracy: 0.9608 - val_loss: 0.5191 - val_accuracy: 0.9450\n",
            "Epoch 39/50\n",
            "59/59 - 1s - loss: 0.1703 - accuracy: 0.9624 - val_loss: 0.7759 - val_accuracy: 0.9302\n",
            "Epoch 40/50\n",
            "59/59 - 1s - loss: 0.1765 - accuracy: 0.9621 - val_loss: 0.5631 - val_accuracy: 0.9446\n",
            "Epoch 41/50\n",
            "59/59 - 1s - loss: 0.1664 - accuracy: 0.9620 - val_loss: 0.5482 - val_accuracy: 0.9427\n",
            "Epoch 42/50\n",
            "59/59 - 1s - loss: 0.1832 - accuracy: 0.9605 - val_loss: 0.4888 - val_accuracy: 0.9466\n",
            "Epoch 43/50\n",
            "59/59 - 1s - loss: 0.1615 - accuracy: 0.9642 - val_loss: 0.6903 - val_accuracy: 0.9362\n",
            "Epoch 44/50\n",
            "59/59 - 1s - loss: 0.1655 - accuracy: 0.9630 - val_loss: 0.6221 - val_accuracy: 0.9470\n",
            "Epoch 45/50\n",
            "59/59 - 1s - loss: 0.1711 - accuracy: 0.9635 - val_loss: 0.5922 - val_accuracy: 0.9462\n",
            "Epoch 46/50\n",
            "59/59 - 1s - loss: 0.1629 - accuracy: 0.9641 - val_loss: 0.5896 - val_accuracy: 0.9401\n",
            "Epoch 47/50\n",
            "59/59 - 1s - loss: 0.1652 - accuracy: 0.9640 - val_loss: 0.5710 - val_accuracy: 0.9420\n",
            "Epoch 48/50\n",
            "59/59 - 1s - loss: 0.1694 - accuracy: 0.9638 - val_loss: 0.6195 - val_accuracy: 0.9484\n",
            "Epoch 49/50\n",
            "59/59 - 1s - loss: 0.1623 - accuracy: 0.9643 - val_loss: 0.6400 - val_accuracy: 0.9427\n",
            "Epoch 50/50\n",
            "59/59 - 1s - loss: 0.1708 - accuracy: 0.9629 - val_loss: 0.6269 - val_accuracy: 0.9445\n"
          ]
        }
      ],
      "source": [
        "model = create_model1()\n",
        "\n",
        "initial_lrate = 0.005\n",
        "# compile option  \n",
        "model.compile(loss='categorical_crossentropy',\n",
        "              optimizer=keras.optimizers.RMSprop(learning_rate=initial_lrate),\n",
        "              metrics=['accuracy']) \n",
        "\n",
        "## learning rate schdueler와 비교하기 위해서 저장\n",
        "history1 = model.fit(x_train,y_train, epochs=50, batch_size=1024,\n",
        "                      validation_data=(x_test, y_test), verbose=2 ) "
      ]
    },
    {
      "cell_type": "code",
      "execution_count": null,
      "metadata": {
        "tags": [],
        "id": "YOqk5VB9jN0E",
        "outputId": "58e6e2da-3e52-406f-c37f-183d50cdd848"
      },
      "outputs": [
        {
          "data": {
            "image/png": "[encoded data removed]",
            "text/plain": [
              "<Figure size 432x288 with 1 Axes>"
            ]
          },
          "metadata": {
            "needs_background": "light"
          },
          "output_type": "display_data"
        }
      ],
      "source": [
        "def ExponentialDecay_s(step):\n",
        "    initial_lrate = 0.005\n",
        "    decay_steps = 10.  \n",
        "    decay_rate=0.5\n",
        "    return initial_lrate * decay_rate ** (step // decay_steps)\n",
        "\n",
        "lr=[]\n",
        "for step in range(50):\n",
        "    lr.append(ExponentialDecay_s(step))\n",
        "\n",
        "import matplotlib.pylab as plt\n",
        "\n",
        "plt.plot(lr, linestyle='--', label=\"ExponentialDecay\")\n",
        "\n",
        "plt.legend()\n",
        "plt.grid()\n",
        "plt.show()"
      ]
    },
    {
      "cell_type": "code",
      "execution_count": null,
      "metadata": {
        "scrolled": true,
        "tags": [],
        "id": "sG2vl1lsjN0E",
        "outputId": "fbe7baca-25d2-441b-c7fb-3bbfc5bc3de8"
      },
      "outputs": [
        {
          "name": "stdout",
          "output_type": "stream",
          "text": [
            "Epoch 1/50\n",
            "\n",
            "Epoch 00001: LearningRateScheduler reducing learning rate to 0.005.\n",
            "59/59 - 1s - loss: 29.9664 - accuracy: 0.6279 - val_loss: 1.2843 - val_accuracy: 0.6190\n",
            "Epoch 2/50\n",
            "\n",
            "Epoch 00002: LearningRateScheduler reducing learning rate to 0.005.\n",
            "59/59 - 1s - loss: 1.1751 - accuracy: 0.6953 - val_loss: 1.1472 - val_accuracy: 0.7322\n",
            "Epoch 3/50\n",
            "\n",
            "Epoch 00003: LearningRateScheduler reducing learning rate to 0.005.\n",
            "59/59 - 1s - loss: 0.7953 - accuracy: 0.8112 - val_loss: 0.6729 - val_accuracy: 0.8401\n",
            "Epoch 4/50\n",
            "\n",
            "Epoch 00004: LearningRateScheduler reducing learning rate to 0.005.\n",
            "59/59 - 1s - loss: 0.5519 - accuracy: 0.8735 - val_loss: 0.6001 - val_accuracy: 0.8731\n",
            "Epoch 5/50\n",
            "\n",
            "Epoch 00005: LearningRateScheduler reducing learning rate to 0.005.\n",
            "59/59 - 1s - loss: 0.4329 - accuracy: 0.8977 - val_loss: 0.3938 - val_accuracy: 0.9209\n",
            "Epoch 6/50\n",
            "\n",
            "Epoch 00006: LearningRateScheduler reducing learning rate to 0.005.\n",
            "59/59 - 1s - loss: 0.3710 - accuracy: 0.9115 - val_loss: 0.4480 - val_accuracy: 0.9095\n",
            "Epoch 7/50\n",
            "\n",
            "Epoch 00007: LearningRateScheduler reducing learning rate to 0.005.\n",
            "59/59 - 1s - loss: 0.3712 - accuracy: 0.9182 - val_loss: 0.3640 - val_accuracy: 0.9248\n",
            "Epoch 8/50\n",
            "\n",
            "Epoch 00008: LearningRateScheduler reducing learning rate to 0.005.\n",
            "59/59 - 1s - loss: 0.3435 - accuracy: 0.9230 - val_loss: 0.3866 - val_accuracy: 0.9305\n",
            "Epoch 9/50\n",
            "\n",
            "Epoch 00009: LearningRateScheduler reducing learning rate to 0.005.\n",
            "59/59 - 1s - loss: 0.2968 - accuracy: 0.9284 - val_loss: 0.3975 - val_accuracy: 0.9208\n",
            "Epoch 10/50\n",
            "\n",
            "Epoch 00010: LearningRateScheduler reducing learning rate to 0.005.\n",
            "59/59 - 1s - loss: 0.2897 - accuracy: 0.9308 - val_loss: 0.3298 - val_accuracy: 0.9317\n",
            "Epoch 11/50\n",
            "\n",
            "Epoch 00011: LearningRateScheduler reducing learning rate to 0.0025.\n",
            "59/59 - 1s - loss: 0.1930 - accuracy: 0.9491 - val_loss: 0.2877 - val_accuracy: 0.9456\n",
            "Epoch 12/50\n",
            "\n",
            "Epoch 00012: LearningRateScheduler reducing learning rate to 0.0025.\n",
            "59/59 - 1s - loss: 0.1852 - accuracy: 0.9513 - val_loss: 0.2886 - val_accuracy: 0.9459\n",
            "Epoch 13/50\n",
            "\n",
            "Epoch 00013: LearningRateScheduler reducing learning rate to 0.0025.\n",
            "59/59 - 1s - loss: 0.1759 - accuracy: 0.9530 - val_loss: 0.2824 - val_accuracy: 0.9409\n",
            "Epoch 14/50\n",
            "\n",
            "Epoch 00014: LearningRateScheduler reducing learning rate to 0.0025.\n",
            "59/59 - 1s - loss: 0.1647 - accuracy: 0.9552 - val_loss: 0.3208 - val_accuracy: 0.9456\n",
            "Epoch 15/50\n",
            "\n",
            "Epoch 00015: LearningRateScheduler reducing learning rate to 0.0025.\n",
            "59/59 - 1s - loss: 0.1645 - accuracy: 0.9561 - val_loss: 0.3060 - val_accuracy: 0.9443\n",
            "Epoch 16/50\n",
            "\n",
            "Epoch 00016: LearningRateScheduler reducing learning rate to 0.0025.\n",
            "59/59 - 1s - loss: 0.1580 - accuracy: 0.9565 - val_loss: 0.2788 - val_accuracy: 0.9470\n",
            "Epoch 17/50\n",
            "\n",
            "Epoch 00017: LearningRateScheduler reducing learning rate to 0.0025.\n",
            "59/59 - 1s - loss: 0.1605 - accuracy: 0.9571 - val_loss: 0.2780 - val_accuracy: 0.9468\n",
            "Epoch 18/50\n",
            "\n",
            "Epoch 00018: LearningRateScheduler reducing learning rate to 0.0025.\n",
            "59/59 - 1s - loss: 0.1554 - accuracy: 0.9589 - val_loss: 0.3412 - val_accuracy: 0.9440\n",
            "Epoch 19/50\n",
            "\n",
            "Epoch 00019: LearningRateScheduler reducing learning rate to 0.0025.\n",
            "59/59 - 1s - loss: 0.1516 - accuracy: 0.9597 - val_loss: 0.2798 - val_accuracy: 0.9497\n",
            "Epoch 20/50\n",
            "\n",
            "Epoch 00020: LearningRateScheduler reducing learning rate to 0.0025.\n",
            "59/59 - 1s - loss: 0.1474 - accuracy: 0.9610 - val_loss: 0.3035 - val_accuracy: 0.9470\n",
            "Epoch 21/50\n",
            "\n",
            "Epoch 00021: LearningRateScheduler reducing learning rate to 0.00125.\n",
            "59/59 - 1s - loss: 0.1138 - accuracy: 0.9679 - val_loss: 0.2861 - val_accuracy: 0.9528\n",
            "Epoch 22/50\n",
            "\n",
            "Epoch 00022: LearningRateScheduler reducing learning rate to 0.00125.\n",
            "59/59 - 1s - loss: 0.1117 - accuracy: 0.9682 - val_loss: 0.2877 - val_accuracy: 0.9458\n",
            "Epoch 23/50\n",
            "\n",
            "Epoch 00023: LearningRateScheduler reducing learning rate to 0.00125.\n",
            "59/59 - 1s - loss: 0.1065 - accuracy: 0.9695 - val_loss: 0.3065 - val_accuracy: 0.9521\n",
            "Epoch 24/50\n",
            "\n",
            "Epoch 00024: LearningRateScheduler reducing learning rate to 0.00125.\n",
            "59/59 - 1s - loss: 0.1062 - accuracy: 0.9695 - val_loss: 0.2959 - val_accuracy: 0.9524\n",
            "Epoch 25/50\n",
            "\n",
            "Epoch 00025: LearningRateScheduler reducing learning rate to 0.00125.\n",
            "59/59 - 1s - loss: 0.1041 - accuracy: 0.9708 - val_loss: 0.2989 - val_accuracy: 0.9496\n",
            "Epoch 26/50\n",
            "\n",
            "Epoch 00026: LearningRateScheduler reducing learning rate to 0.00125.\n",
            "59/59 - 1s - loss: 0.1008 - accuracy: 0.9709 - val_loss: 0.2884 - val_accuracy: 0.9538\n",
            "Epoch 27/50\n",
            "\n",
            "Epoch 00027: LearningRateScheduler reducing learning rate to 0.00125.\n",
            "59/59 - 1s - loss: 0.0986 - accuracy: 0.9718 - val_loss: 0.3026 - val_accuracy: 0.9523\n",
            "Epoch 28/50\n",
            "\n",
            "Epoch 00028: LearningRateScheduler reducing learning rate to 0.00125.\n",
            "59/59 - 1s - loss: 0.0981 - accuracy: 0.9722 - val_loss: 0.3089 - val_accuracy: 0.9527\n",
            "Epoch 29/50\n",
            "\n",
            "Epoch 00029: LearningRateScheduler reducing learning rate to 0.00125.\n",
            "59/59 - 1s - loss: 0.0950 - accuracy: 0.9723 - val_loss: 0.3188 - val_accuracy: 0.9547\n",
            "Epoch 30/50\n",
            "\n",
            "Epoch 00030: LearningRateScheduler reducing learning rate to 0.00125.\n",
            "59/59 - 1s - loss: 0.0954 - accuracy: 0.9729 - val_loss: 0.3173 - val_accuracy: 0.9512\n",
            "Epoch 31/50\n",
            "\n",
            "Epoch 00031: LearningRateScheduler reducing learning rate to 0.000625.\n",
            "59/59 - 1s - loss: 0.0824 - accuracy: 0.9763 - val_loss: 0.3089 - val_accuracy: 0.9542\n",
            "Epoch 32/50\n",
            "\n",
            "Epoch 00032: LearningRateScheduler reducing learning rate to 0.000625.\n",
            "59/59 - 1s - loss: 0.0805 - accuracy: 0.9767 - val_loss: 0.3112 - val_accuracy: 0.9533\n",
            "Epoch 33/50\n",
            "\n",
            "Epoch 00033: LearningRateScheduler reducing learning rate to 0.000625.\n",
            "59/59 - 1s - loss: 0.0794 - accuracy: 0.9770 - val_loss: 0.3206 - val_accuracy: 0.9540\n",
            "Epoch 34/50\n",
            "\n",
            "Epoch 00034: LearningRateScheduler reducing learning rate to 0.000625.\n",
            "59/59 - 1s - loss: 0.0784 - accuracy: 0.9774 - val_loss: 0.3283 - val_accuracy: 0.9530\n",
            "Epoch 35/50\n",
            "\n",
            "Epoch 00035: LearningRateScheduler reducing learning rate to 0.000625.\n",
            "59/59 - 1s - loss: 0.0784 - accuracy: 0.9775 - val_loss: 0.3249 - val_accuracy: 0.9530\n",
            "Epoch 36/50\n",
            "\n",
            "Epoch 00036: LearningRateScheduler reducing learning rate to 0.000625.\n",
            "59/59 - 1s - loss: 0.0760 - accuracy: 0.9783 - val_loss: 0.3289 - val_accuracy: 0.9525\n",
            "Epoch 37/50\n",
            "\n",
            "Epoch 00037: LearningRateScheduler reducing learning rate to 0.000625.\n",
            "59/59 - 1s - loss: 0.0768 - accuracy: 0.9782 - val_loss: 0.3268 - val_accuracy: 0.9527\n",
            "Epoch 38/50\n",
            "\n",
            "Epoch 00038: LearningRateScheduler reducing learning rate to 0.000625.\n",
            "59/59 - 1s - loss: 0.0751 - accuracy: 0.9780 - val_loss: 0.3410 - val_accuracy: 0.9537\n",
            "Epoch 39/50\n",
            "\n",
            "Epoch 00039: LearningRateScheduler reducing learning rate to 0.000625.\n",
            "59/59 - 1s - loss: 0.0740 - accuracy: 0.9786 - val_loss: 0.3414 - val_accuracy: 0.9550\n",
            "Epoch 40/50\n",
            "\n",
            "Epoch 00040: LearningRateScheduler reducing learning rate to 0.000625.\n",
            "59/59 - 1s - loss: 0.0732 - accuracy: 0.9786 - val_loss: 0.3460 - val_accuracy: 0.9538\n",
            "Epoch 41/50\n",
            "\n",
            "Epoch 00041: LearningRateScheduler reducing learning rate to 0.0003125.\n",
            "59/59 - 1s - loss: 0.0688 - accuracy: 0.9804 - val_loss: 0.3487 - val_accuracy: 0.9543\n",
            "Epoch 42/50\n",
            "\n",
            "Epoch 00042: LearningRateScheduler reducing learning rate to 0.0003125.\n",
            "59/59 - 1s - loss: 0.0675 - accuracy: 0.9807 - val_loss: 0.3532 - val_accuracy: 0.9540\n",
            "Epoch 43/50\n",
            "\n",
            "Epoch 00043: LearningRateScheduler reducing learning rate to 0.0003125.\n",
            "59/59 - 1s - loss: 0.0672 - accuracy: 0.9809 - val_loss: 0.3505 - val_accuracy: 0.9537\n",
            "Epoch 44/50\n",
            "\n",
            "Epoch 00044: LearningRateScheduler reducing learning rate to 0.0003125.\n",
            "59/59 - 1s - loss: 0.0665 - accuracy: 0.9810 - val_loss: 0.3518 - val_accuracy: 0.9538\n",
            "Epoch 45/50\n",
            "\n",
            "Epoch 00045: LearningRateScheduler reducing learning rate to 0.0003125.\n",
            "59/59 - 1s - loss: 0.0663 - accuracy: 0.9812 - val_loss: 0.3527 - val_accuracy: 0.9547\n",
            "Epoch 46/50\n",
            "\n",
            "Epoch 00046: LearningRateScheduler reducing learning rate to 0.0003125.\n",
            "59/59 - 1s - loss: 0.0655 - accuracy: 0.9813 - val_loss: 0.3617 - val_accuracy: 0.9526\n",
            "Epoch 47/50\n",
            "\n",
            "Epoch 00047: LearningRateScheduler reducing learning rate to 0.0003125.\n",
            "59/59 - 1s - loss: 0.0651 - accuracy: 0.9815 - val_loss: 0.3678 - val_accuracy: 0.9536\n",
            "Epoch 48/50\n",
            "\n",
            "Epoch 00048: LearningRateScheduler reducing learning rate to 0.0003125.\n",
            "59/59 - 1s - loss: 0.0649 - accuracy: 0.9814 - val_loss: 0.3637 - val_accuracy: 0.9536\n",
            "Epoch 49/50\n",
            "\n",
            "Epoch 00049: LearningRateScheduler reducing learning rate to 0.0003125.\n",
            "59/59 - 1s - loss: 0.0644 - accuracy: 0.9820 - val_loss: 0.3722 - val_accuracy: 0.9538\n",
            "Epoch 50/50\n",
            "\n",
            "Epoch 00050: LearningRateScheduler reducing learning rate to 0.0003125.\n",
            "59/59 - 1s - loss: 0.0641 - accuracy: 0.9819 - val_loss: 0.3739 - val_accuracy: 0.9539\n"
          ]
        }
      ],
      "source": [
        "model = create_model1()\n",
        "\n",
        "# compile option  \n",
        "model.compile(loss='categorical_crossentropy',\n",
        "              optimizer=keras.optimizers.RMSprop(),\n",
        "              metrics=['accuracy']) \n",
        "\n",
        "my_callbacks = [ keras.callbacks.LearningRateScheduler(ExponentialDecay_s,verbose=1) ]\n",
        "history2 = model.fit(x_train,y_train, epochs=50, batch_size=1024, callbacks=my_callbacks,\n",
        "                      validation_data=(x_test, y_test), verbose=2) "
      ]
    },
    {
      "cell_type": "code",
      "execution_count": null,
      "metadata": {
        "colab": {
          "base_uri": "https://localhost:8080/",
          "height": 269
        },
        "id": "IAWlgrCJ3guV",
        "outputId": "42fdc72d-f1e4-48eb-ebb1-e6b28db7ab3c",
        "tags": []
      },
      "outputs": [
        {
          "data": {
            "image/png": "[encoded data removed]",
            "text/plain": [
              "<Figure size 432x288 with 1 Axes>"
            ]
          },
          "metadata": {
            "needs_background": "light"
          },
          "output_type": "display_data"
        }
      ],
      "source": [
        "import matplotlib.pylab as plt\n",
        "\n",
        "plt.plot(history1.history['val_accuracy'], linestyle='--', label=\"normal_val_acc\")\n",
        "plt.plot(history2.history['val_accuracy'], linestyle='-', label=\"lr_schedule_val_acc\")\n",
        "plt.plot(history1.history['val_loss'], linestyle='--', label=\"normal_val_loss\")\n",
        "plt.plot(history2.history['val_loss'], linestyle='-', label=\"lr_schedule_val_loss\")\n",
        "\n",
        "plt.ylim(0.1, 1)\n",
        "plt.legend()\n",
        "plt.grid()\n",
        "plt.show() "
      ]
    },
    {
      "cell_type": "markdown",
      "metadata": {
        "id": "j54COpkq0r31",
        "tags": []
      },
      "source": [
        "![image.png](attachment:e22f5cd9-3818-40ea-84c2-b356f8a2a5a3.png) "
      ]
    },
    {
      "cell_type": "code",
      "execution_count": null,
      "metadata": {
        "id": "2cSZeOwR4rJz",
        "tags": [],
        "outputId": "ea337c40-513a-48b0-a24d-7bf1ad7704b8"
      },
      "outputs": [
        {
          "data": {
            "image/png": "[encoded data removed]",
            "text/plain": [
              "<Figure size 432x288 with 1 Axes>"
            ]
          },
          "metadata": {
            "needs_background": "light"
          },
          "output_type": "display_data"
        }
      ],
      "source": [
        "plt.plot(history2.history['lr'], \n",
        "         linestyle='--', label=\"lr_schedule\")\n",
        "plt.legend()\n",
        "plt.grid()\n",
        "plt.show() "
      ]
    },
    {
      "cell_type": "markdown",
      "metadata": {
        "tags": [],
        "id": "dbbMXKWYjN0F"
      },
      "source": [
        "---\n",
        "```python\n",
        "# 내장된 Scheduler함수들 \n",
        "tf.keras.optimizers.schedules.ExponentialDecay(\n",
        "    initial_learning_rate, decay_steps, decay_rate, staircase=False, name=None\n",
        ")\n",
        "tf.keras.optimizers.schedules.PolynomialDecay(\n",
        "    initial_learning_rate, decay_steps, end_learning_rate=0.0001, power=1.0,\n",
        "    cycle=False, name=None\n",
        ")\n",
        "tf.keras.optimizers.schedules.InverseTimeDecay(\n",
        "    initial_learning_rate, decay_steps, decay_rate, staircase=False, name=None\n",
        ")\n",
        "```\n",
        "---"
      ]
    },
    {
      "cell_type": "markdown",
      "metadata": {
        "id": "GC_oybjqjN0F"
      },
      "source": [
        "- 내장함수로 lr scheduling 하기  "
      ]
    },
    {
      "cell_type": "code",
      "execution_count": null,
      "metadata": {
        "tags": [],
        "id": "YDd7fEE6jN0F",
        "outputId": "31c1877f-9c2e-4a3e-b3e9-df993c73bdd3"
      },
      "outputs": [
        {
          "name": "stdout",
          "output_type": "stream",
          "text": [
            "Epoch 1/20\n",
            "59/59 - 1s - loss: 40.1135 - accuracy: 0.7447 - val_loss: 1.2108 - val_accuracy: 0.7792\n",
            "Epoch 2/20\n",
            "59/59 - 1s - loss: 1.2931 - accuracy: 0.6983 - val_loss: 0.9454 - val_accuracy: 0.6674\n",
            "Epoch 3/20\n",
            "59/59 - 1s - loss: 0.8769 - accuracy: 0.7554 - val_loss: 0.7406 - val_accuracy: 0.8208\n",
            "Epoch 4/20\n",
            "59/59 - 1s - loss: 0.6288 - accuracy: 0.8463 - val_loss: 0.4892 - val_accuracy: 0.8827\n",
            "Epoch 5/20\n",
            "59/59 - 1s - loss: 0.4444 - accuracy: 0.8924 - val_loss: 0.5573 - val_accuracy: 0.8989\n",
            "Epoch 6/20\n",
            "59/59 - 1s - loss: 0.3928 - accuracy: 0.9030 - val_loss: 0.3839 - val_accuracy: 0.9117\n",
            "Epoch 7/20\n",
            "59/59 - 1s - loss: 0.3292 - accuracy: 0.9192 - val_loss: 0.4095 - val_accuracy: 0.9152\n",
            "Epoch 8/20\n",
            "59/59 - 1s - loss: 0.2894 - accuracy: 0.9269 - val_loss: 0.3661 - val_accuracy: 0.9331\n",
            "Epoch 9/20\n",
            "59/59 - 1s - loss: 0.2633 - accuracy: 0.9342 - val_loss: 0.3593 - val_accuracy: 0.9357\n",
            "Epoch 10/20\n",
            "59/59 - 1s - loss: 0.2329 - accuracy: 0.9401 - val_loss: 0.4041 - val_accuracy: 0.9287\n",
            "Epoch 11/20\n",
            "59/59 - 1s - loss: 0.2129 - accuracy: 0.9442 - val_loss: 0.3000 - val_accuracy: 0.9412\n",
            "Epoch 12/20\n",
            "59/59 - 1s - loss: 0.1933 - accuracy: 0.9478 - val_loss: 0.3846 - val_accuracy: 0.9398\n",
            "Epoch 13/20\n",
            "59/59 - 1s - loss: 0.1788 - accuracy: 0.9514 - val_loss: 0.3044 - val_accuracy: 0.9416\n",
            "Epoch 14/20\n",
            "59/59 - 1s - loss: 0.1680 - accuracy: 0.9534 - val_loss: 0.3174 - val_accuracy: 0.9454\n",
            "Epoch 15/20\n",
            "59/59 - 1s - loss: 0.1580 - accuracy: 0.9560 - val_loss: 0.3140 - val_accuracy: 0.9470\n",
            "Epoch 16/20\n",
            "59/59 - 1s - loss: 0.1500 - accuracy: 0.9573 - val_loss: 0.3246 - val_accuracy: 0.9432\n",
            "Epoch 17/20\n",
            "59/59 - 1s - loss: 0.1417 - accuracy: 0.9600 - val_loss: 0.3160 - val_accuracy: 0.9477\n",
            "Epoch 18/20\n",
            "59/59 - 1s - loss: 0.1364 - accuracy: 0.9608 - val_loss: 0.3219 - val_accuracy: 0.9477\n",
            "Epoch 19/20\n",
            "59/59 - 1s - loss: 0.1296 - accuracy: 0.9624 - val_loss: 0.3201 - val_accuracy: 0.9488\n",
            "Epoch 20/20\n",
            "59/59 - 1s - loss: 0.1255 - accuracy: 0.9632 - val_loss: 0.3360 - val_accuracy: 0.9495\n"
          ]
        }
      ],
      "source": [
        "# 1. DataFlow(Graph)정의\n",
        "input_x = keras.Input(shape=(28,28))\n",
        "x0 = layers.Flatten()(input_x)\n",
        "x1 = layers.Dense(32, activation=\"relu\")(x0)\n",
        "x2 = layers.Dense(32, activation=\"relu\")(x0)\n",
        "x3 = layers.concatenate([x1, x2])\n",
        "output_x = layers.Dense(10,activation=\"softmax\")(x3)\n",
        "\n",
        "# 2. 모델 인스턴스 : input,output으로 DataFlow를 추적\n",
        "model = keras.Model(inputs=input_x, outputs=output_x)\n",
        "\n",
        "lr_fn = keras.optimizers.schedules.ExponentialDecay(\n",
        "                initial_learning_rate= 0.01,\n",
        "                decay_steps=20,\n",
        "                decay_rate=0.96,\n",
        "                staircase=True)\n",
        "# compile option  \n",
        "model.compile(loss='categorical_crossentropy',\n",
        "              optimizer=keras.optimizers.RMSprop(learning_rate=lr_fn),\n",
        "              metrics=['accuracy']) \n",
        "\n",
        "history2 = model.fit(x_train,y_train, epochs=20, batch_size=1024,\n",
        "                      validation_data=(x_test, y_test), verbose=2) "
      ]
    },
    {
      "cell_type": "markdown",
      "metadata": {
        "id": "i9YHUEUGgq84"
      },
      "source": [
        "##### 3)callback함수로 텐서보드 연동하기 \n",
        "> * 필요시 모델 초기화 \n",
        "> * 필요시 이전 학습의 로그 삭제   \n",
        "***code/logs 폴더 삭제해 주세요**"
      ]
    },
    {
      "cell_type": "markdown",
      "metadata": {
        "id": "p9hYjUqJjN0G"
      },
      "source": [
        "*Notebook내부에서 실행하기 : 설치환경의 영향을 많이 받음*\n",
        ">#!rm -rf ./logs/    #colab(linux)    \n",
        ">#*jupyter notebook 내에서 보기위해*   \n",
        ">%load_ext tensorboard  \n",
        ">#*로그 패스와 함께 텐서보드 실행*  \n",
        ">%tensorboard --logdir ./logs  "
      ]
    },
    {
      "cell_type": "markdown",
      "metadata": {
        "id": "yY6QrtTojN0G"
      },
      "source": [
        "*별도 브라우저에서 실행하기*\n",
        "* 1) terminal window에서 실행\n",
        ">tensorboard --logdir ./logs \n",
        "* 2) browser에서\n",
        ">\"localhost:6006/\" 접속 "
      ]
    },
    {
      "cell_type": "code",
      "execution_count": null,
      "metadata": {
        "tags": [],
        "id": "Z8YNj-G-jN0G",
        "outputId": "a1a98a9e-4bb3-4827-aeba-1d74ee360b2e"
      },
      "outputs": [
        {
          "name": "stdout",
          "output_type": "stream",
          "text": [
            "tensorboard --logdir 'C:\\Users\\홍근선\\ht3er-uvbrq\\AI-camp_교제\\2021\\딥러닝심화2\\code\\logs'\n"
          ]
        }
      ],
      "source": [
        "path = !cd\n",
        "print('tensorboard --logdir \\''+path[0]+'\\\\logs\\'')"
      ]
    },
    {
      "cell_type": "markdown",
      "metadata": {
        "id": "Uf8ldleijN0G"
      },
      "source": [
        "http://localhost:6006/ "
      ]
    },
    {
      "cell_type": "code",
      "execution_count": null,
      "metadata": {
        "colab": {
          "base_uri": "https://localhost:8080/"
        },
        "id": "aEfVEn7v0qWa",
        "outputId": "2da2964e-3015-4055-8f53-a27cc325fa46",
        "scrolled": true,
        "tags": []
      },
      "outputs": [
        {
          "name": "stdout",
          "output_type": "stream",
          "text": [
            "Epoch 1/100\n",
            "59/59 [==============================] - 1s 13ms/step - loss: 29.0669 - accuracy: 0.5814 - val_loss: 5.3677 - val_accuracy: 0.8090\n",
            "Epoch 2/100\n",
            "59/59 [==============================] - 1s 9ms/step - loss: 3.5334 - accuracy: 0.8557 - val_loss: 1.7922 - val_accuracy: 0.8858\n",
            "Epoch 3/100\n",
            "59/59 [==============================] - 1s 9ms/step - loss: 1.4726 - accuracy: 0.8902 - val_loss: 1.0023 - val_accuracy: 0.8773\n",
            "Epoch 4/100\n",
            "59/59 [==============================] - 1s 9ms/step - loss: 0.7113 - accuracy: 0.8977 - val_loss: 0.6481 - val_accuracy: 0.8955\n",
            "Epoch 5/100\n",
            "59/59 [==============================] - 1s 9ms/step - loss: 0.4262 - accuracy: 0.9123 - val_loss: 0.5603 - val_accuracy: 0.9131\n",
            "Epoch 6/100\n",
            "59/59 [==============================] - 1s 9ms/step - loss: 0.3383 - accuracy: 0.9282 - val_loss: 0.4998 - val_accuracy: 0.9176\n",
            "Epoch 7/100\n",
            "59/59 [==============================] - 1s 9ms/step - loss: 0.2689 - accuracy: 0.9392 - val_loss: 0.4149 - val_accuracy: 0.9234\n",
            "Epoch 8/100\n",
            "59/59 [==============================] - 1s 9ms/step - loss: 0.2130 - accuracy: 0.9466 - val_loss: 0.3800 - val_accuracy: 0.9336\n",
            "Epoch 9/100\n",
            "59/59 [==============================] - 1s 9ms/step - loss: 0.1765 - accuracy: 0.9554 - val_loss: 0.3831 - val_accuracy: 0.9353\n",
            "Epoch 10/100\n",
            "59/59 [==============================] - 1s 9ms/step - loss: 0.1613 - accuracy: 0.9571 - val_loss: 0.3585 - val_accuracy: 0.9402\n",
            "Epoch 11/100\n",
            "59/59 [==============================] - 1s 9ms/step - loss: 0.1505 - accuracy: 0.9607 - val_loss: 0.3311 - val_accuracy: 0.9445\n",
            "Epoch 12/100\n",
            "59/59 [==============================] - 1s 9ms/step - loss: 0.1374 - accuracy: 0.9630 - val_loss: 0.3542 - val_accuracy: 0.9424\n",
            "Epoch 13/100\n",
            "59/59 [==============================] - 1s 10ms/step - loss: 0.1128 - accuracy: 0.9684 - val_loss: 0.3690 - val_accuracy: 0.9477\n",
            "Epoch 14/100\n",
            "59/59 [==============================] - 1s 9ms/step - loss: 0.1105 - accuracy: 0.9701 - val_loss: 0.3566 - val_accuracy: 0.9449\n",
            "Epoch 15/100\n",
            "59/59 [==============================] - 1s 9ms/step - loss: 0.1018 - accuracy: 0.9710 - val_loss: 0.3646 - val_accuracy: 0.9440\n",
            "Epoch 16/100\n",
            "59/59 [==============================] - 1s 9ms/step - loss: 0.0989 - accuracy: 0.9725 - val_loss: 0.3414 - val_accuracy: 0.9488\n",
            "Epoch 17/100\n",
            "59/59 [==============================] - 1s 9ms/step - loss: 0.0881 - accuracy: 0.9746 - val_loss: 0.3276 - val_accuracy: 0.9509\n",
            "Epoch 18/100\n",
            "59/59 [==============================] - 1s 9ms/step - loss: 0.0821 - accuracy: 0.9754 - val_loss: 0.3297 - val_accuracy: 0.9503\n",
            "Epoch 19/100\n",
            "59/59 [==============================] - 1s 9ms/step - loss: 0.0785 - accuracy: 0.9767 - val_loss: 0.3648 - val_accuracy: 0.9502\n",
            "Epoch 20/100\n",
            "59/59 [==============================] - 1s 9ms/step - loss: 0.0680 - accuracy: 0.9795 - val_loss: 0.3600 - val_accuracy: 0.9483\n",
            "Epoch 21/100\n",
            "59/59 [==============================] - 1s 9ms/step - loss: 0.0688 - accuracy: 0.9799 - val_loss: 0.3670 - val_accuracy: 0.9503\n",
            "Epoch 22/100\n",
            "59/59 [==============================] - 1s 9ms/step - loss: 0.0650 - accuracy: 0.9808 - val_loss: 0.3451 - val_accuracy: 0.9554\n",
            "Epoch 23/100\n",
            "59/59 [==============================] - 1s 9ms/step - loss: 0.0595 - accuracy: 0.9828 - val_loss: 0.3744 - val_accuracy: 0.9516\n",
            "Epoch 24/100\n",
            "59/59 [==============================] - 1s 9ms/step - loss: 0.0587 - accuracy: 0.9826 - val_loss: 0.3512 - val_accuracy: 0.9531\n",
            "Epoch 25/100\n",
            "59/59 [==============================] - 1s 9ms/step - loss: 0.0580 - accuracy: 0.9830 - val_loss: 0.3840 - val_accuracy: 0.9499\n",
            "Epoch 26/100\n",
            "59/59 [==============================] - 1s 9ms/step - loss: 0.0513 - accuracy: 0.9855 - val_loss: 0.3692 - val_accuracy: 0.9561\n",
            "Epoch 27/100\n",
            "59/59 [==============================] - 1s 9ms/step - loss: 0.0463 - accuracy: 0.9850 - val_loss: 0.3836 - val_accuracy: 0.9542\n",
            "Epoch 28/100\n",
            "59/59 [==============================] - 1s 9ms/step - loss: 0.0500 - accuracy: 0.9849 - val_loss: 0.3805 - val_accuracy: 0.9553\n",
            "Epoch 29/100\n",
            "59/59 [==============================] - 1s 9ms/step - loss: 0.0430 - accuracy: 0.9875 - val_loss: 0.3562 - val_accuracy: 0.9592\n",
            "Epoch 30/100\n",
            "59/59 [==============================] - 1s 9ms/step - loss: 0.0435 - accuracy: 0.9867 - val_loss: 0.3527 - val_accuracy: 0.9578\n",
            "Epoch 31/100\n",
            "59/59 [==============================] - 1s 9ms/step - loss: 0.0368 - accuracy: 0.9883 - val_loss: 0.3645 - val_accuracy: 0.9579\n",
            "Epoch 32/100\n",
            "59/59 [==============================] - 1s 9ms/step - loss: 0.0429 - accuracy: 0.9873 - val_loss: 0.3462 - val_accuracy: 0.9595\n",
            "Epoch 33/100\n",
            "59/59 [==============================] - 1s 9ms/step - loss: 0.0400 - accuracy: 0.9877 - val_loss: 0.3742 - val_accuracy: 0.9544\n",
            "Epoch 34/100\n",
            "59/59 [==============================] - 1s 9ms/step - loss: 0.0375 - accuracy: 0.9883 - val_loss: 0.3519 - val_accuracy: 0.9608\n",
            "Epoch 35/100\n",
            "59/59 [==============================] - 1s 9ms/step - loss: 0.0394 - accuracy: 0.9888 - val_loss: 0.4054 - val_accuracy: 0.9548\n",
            "Epoch 36/100\n",
            "59/59 [==============================] - 1s 11ms/step - loss: 0.0359 - accuracy: 0.9894 - val_loss: 0.3650 - val_accuracy: 0.9614\n",
            "Epoch 37/100\n",
            "59/59 [==============================] - 1s 9ms/step - loss: 0.0334 - accuracy: 0.9904 - val_loss: 0.3891 - val_accuracy: 0.9587\n",
            "Epoch 38/100\n",
            "59/59 [==============================] - 1s 9ms/step - loss: 0.0335 - accuracy: 0.9897 - val_loss: 0.3900 - val_accuracy: 0.9581\n",
            "Epoch 39/100\n",
            "59/59 [==============================] - 1s 9ms/step - loss: 0.0342 - accuracy: 0.9898 - val_loss: 0.4480 - val_accuracy: 0.9582\n",
            "Epoch 40/100\n",
            "59/59 [==============================] - 1s 9ms/step - loss: 0.0319 - accuracy: 0.9908 - val_loss: 0.4435 - val_accuracy: 0.9558\n",
            "Epoch 41/100\n",
            "59/59 [==============================] - 1s 9ms/step - loss: 0.0323 - accuracy: 0.9900 - val_loss: 0.3879 - val_accuracy: 0.9626\n",
            "Epoch 42/100\n",
            "59/59 [==============================] - 1s 9ms/step - loss: 0.0297 - accuracy: 0.9919 - val_loss: 0.4185 - val_accuracy: 0.9599\n",
            "Epoch 43/100\n",
            "59/59 [==============================] - 1s 9ms/step - loss: 0.0283 - accuracy: 0.9918 - val_loss: 0.4312 - val_accuracy: 0.9590\n",
            "Epoch 44/100\n",
            "59/59 [==============================] - 1s 9ms/step - loss: 0.0244 - accuracy: 0.9927 - val_loss: 0.4333 - val_accuracy: 0.9604\n",
            "Epoch 45/100\n",
            "59/59 [==============================] - 1s 9ms/step - loss: 0.0270 - accuracy: 0.9922 - val_loss: 0.4258 - val_accuracy: 0.9617\n",
            "Epoch 46/100\n",
            "59/59 [==============================] - 1s 10ms/step - loss: 0.0262 - accuracy: 0.9921 - val_loss: 0.4482 - val_accuracy: 0.9592\n",
            "Epoch 47/100\n",
            "59/59 [==============================] - 1s 10ms/step - loss: 0.0230 - accuracy: 0.9932 - val_loss: 0.4002 - val_accuracy: 0.9638\n",
            "Epoch 48/100\n",
            "59/59 [==============================] - 1s 9ms/step - loss: 0.0227 - accuracy: 0.9931 - val_loss: 0.4408 - val_accuracy: 0.9626\n",
            "Epoch 49/100\n",
            "59/59 [==============================] - 1s 9ms/step - loss: 0.0230 - accuracy: 0.9931 - val_loss: 0.4430 - val_accuracy: 0.9595\n",
            "Epoch 50/100\n",
            "59/59 [==============================] - 1s 9ms/step - loss: 0.0265 - accuracy: 0.9920 - val_loss: 0.4124 - val_accuracy: 0.9632\n",
            "Epoch 51/100\n",
            "59/59 [==============================] - 1s 9ms/step - loss: 0.0240 - accuracy: 0.9933 - val_loss: 0.4456 - val_accuracy: 0.9629\n",
            "Epoch 52/100\n",
            "59/59 [==============================] - 1s 9ms/step - loss: 0.0196 - accuracy: 0.9946 - val_loss: 0.4335 - val_accuracy: 0.9623\n",
            "Epoch 53/100\n",
            "59/59 [==============================] - 1s 9ms/step - loss: 0.0201 - accuracy: 0.9939 - val_loss: 0.4615 - val_accuracy: 0.9601\n",
            "Epoch 54/100\n",
            "59/59 [==============================] - 1s 9ms/step - loss: 0.0199 - accuracy: 0.9938 - val_loss: 0.4768 - val_accuracy: 0.9615\n",
            "Epoch 55/100\n",
            "59/59 [==============================] - 1s 9ms/step - loss: 0.0181 - accuracy: 0.9943 - val_loss: 0.4460 - val_accuracy: 0.9639\n",
            "Epoch 56/100\n",
            "59/59 [==============================] - 1s 9ms/step - loss: 0.0182 - accuracy: 0.9947 - val_loss: 0.4794 - val_accuracy: 0.9620\n",
            "Epoch 57/100\n",
            "59/59 [==============================] - 1s 9ms/step - loss: 0.0204 - accuracy: 0.9939 - val_loss: 0.4585 - val_accuracy: 0.9626\n",
            "Epoch 58/100\n",
            "59/59 [==============================] - 1s 9ms/step - loss: 0.0231 - accuracy: 0.9933 - val_loss: 0.4533 - val_accuracy: 0.9630\n",
            "Epoch 59/100\n",
            "59/59 [==============================] - 1s 10ms/step - loss: 0.0163 - accuracy: 0.9950 - val_loss: 0.4529 - val_accuracy: 0.9612\n",
            "Epoch 60/100\n",
            "59/59 [==============================] - 1s 9ms/step - loss: 0.0160 - accuracy: 0.9954 - val_loss: 0.4891 - val_accuracy: 0.9618\n",
            "Epoch 61/100\n",
            "59/59 [==============================] - 1s 10ms/step - loss: 0.0183 - accuracy: 0.9950 - val_loss: 0.5311 - val_accuracy: 0.9593\n",
            "Epoch 62/100\n",
            "59/59 [==============================] - 1s 9ms/step - loss: 0.0180 - accuracy: 0.9954 - val_loss: 0.5028 - val_accuracy: 0.9595\n",
            "Epoch 63/100\n",
            "59/59 [==============================] - 1s 9ms/step - loss: 0.0191 - accuracy: 0.9951 - val_loss: 0.4942 - val_accuracy: 0.9609\n",
            "Epoch 64/100\n",
            "59/59 [==============================] - 1s 9ms/step - loss: 0.0170 - accuracy: 0.9953 - val_loss: 0.4997 - val_accuracy: 0.9614\n",
            "Epoch 65/100\n",
            "59/59 [==============================] - 1s 10ms/step - loss: 0.0146 - accuracy: 0.9955 - val_loss: 0.5551 - val_accuracy: 0.9603\n",
            "Epoch 66/100\n",
            "59/59 [==============================] - 1s 10ms/step - loss: 0.0155 - accuracy: 0.9954 - val_loss: 0.4932 - val_accuracy: 0.9641\n",
            "Epoch 67/100\n",
            "59/59 [==============================] - 1s 9ms/step - loss: 0.0156 - accuracy: 0.9947 - val_loss: 0.5103 - val_accuracy: 0.9624\n",
            "Epoch 68/100\n",
            "59/59 [==============================] - 1s 9ms/step - loss: 0.0145 - accuracy: 0.9955 - val_loss: 0.5140 - val_accuracy: 0.9645\n",
            "Epoch 69/100\n",
            "59/59 [==============================] - 1s 9ms/step - loss: 0.0113 - accuracy: 0.9965 - val_loss: 0.5445 - val_accuracy: 0.9620\n",
            "Epoch 70/100\n",
            "59/59 [==============================] - 1s 9ms/step - loss: 0.0162 - accuracy: 0.9955 - val_loss: 0.5379 - val_accuracy: 0.9634\n",
            "Epoch 71/100\n",
            "59/59 [==============================] - 1s 9ms/step - loss: 0.0151 - accuracy: 0.9954 - val_loss: 0.5235 - val_accuracy: 0.9641\n",
            "Epoch 72/100\n",
            "59/59 [==============================] - 1s 9ms/step - loss: 0.0140 - accuracy: 0.9961 - val_loss: 0.5633 - val_accuracy: 0.9624\n",
            "Epoch 73/100\n",
            "59/59 [==============================] - 1s 9ms/step - loss: 0.0114 - accuracy: 0.9966 - val_loss: 0.6151 - val_accuracy: 0.9595\n",
            "Epoch 74/100\n",
            "59/59 [==============================] - 1s 9ms/step - loss: 0.0167 - accuracy: 0.9952 - val_loss: 0.5336 - val_accuracy: 0.9629\n",
            "Epoch 75/100\n",
            "59/59 [==============================] - 1s 9ms/step - loss: 0.0153 - accuracy: 0.9954 - val_loss: 0.5591 - val_accuracy: 0.9607\n",
            "Epoch 76/100\n",
            "59/59 [==============================] - 1s 9ms/step - loss: 0.0124 - accuracy: 0.9965 - val_loss: 0.5650 - val_accuracy: 0.9611\n",
            "Epoch 77/100\n",
            "59/59 [==============================] - 1s 9ms/step - loss: 0.0128 - accuracy: 0.9964 - val_loss: 0.5710 - val_accuracy: 0.9621\n",
            "Epoch 78/100\n",
            "59/59 [==============================] - 1s 9ms/step - loss: 0.0163 - accuracy: 0.9956 - val_loss: 0.5929 - val_accuracy: 0.9615\n",
            "Epoch 79/100\n",
            "59/59 [==============================] - 1s 10ms/step - loss: 0.0144 - accuracy: 0.9963 - val_loss: 0.5861 - val_accuracy: 0.9602\n",
            "Epoch 80/100\n",
            "59/59 [==============================] - 1s 9ms/step - loss: 0.0105 - accuracy: 0.9968 - val_loss: 0.6321 - val_accuracy: 0.9582\n",
            "Epoch 81/100\n",
            "59/59 [==============================] - 1s 10ms/step - loss: 0.0180 - accuracy: 0.9956 - val_loss: 0.5635 - val_accuracy: 0.9639\n",
            "Epoch 82/100\n",
            "59/59 [==============================] - 1s 9ms/step - loss: 0.0122 - accuracy: 0.9966 - val_loss: 0.5970 - val_accuracy: 0.9608\n",
            "Epoch 83/100\n",
            "59/59 [==============================] - 1s 9ms/step - loss: 0.0134 - accuracy: 0.9962 - val_loss: 0.5969 - val_accuracy: 0.9641\n",
            "Epoch 84/100\n",
            "59/59 [==============================] - 1s 9ms/step - loss: 0.0112 - accuracy: 0.9967 - val_loss: 0.6097 - val_accuracy: 0.9646\n",
            "Epoch 85/100\n",
            "59/59 [==============================] - 1s 10ms/step - loss: 0.0106 - accuracy: 0.9967 - val_loss: 0.5853 - val_accuracy: 0.9634\n",
            "Epoch 86/100\n",
            "59/59 [==============================] - 1s 9ms/step - loss: 0.0116 - accuracy: 0.9963 - val_loss: 0.6252 - val_accuracy: 0.9622\n",
            "Epoch 87/100\n",
            "59/59 [==============================] - 1s 9ms/step - loss: 0.0129 - accuracy: 0.9965 - val_loss: 0.5907 - val_accuracy: 0.9639\n",
            "Epoch 88/100\n",
            "59/59 [==============================] - 1s 9ms/step - loss: 0.0113 - accuracy: 0.9967 - val_loss: 0.6182 - val_accuracy: 0.9632\n",
            "Epoch 89/100\n",
            "59/59 [==============================] - 1s 9ms/step - loss: 0.0085 - accuracy: 0.9975 - val_loss: 0.5717 - val_accuracy: 0.9636\n",
            "Epoch 90/100\n",
            "59/59 [==============================] - 1s 10ms/step - loss: 0.0100 - accuracy: 0.9970 - val_loss: 0.6165 - val_accuracy: 0.9643\n",
            "Epoch 91/100\n",
            "59/59 [==============================] - 1s 9ms/step - loss: 0.0137 - accuracy: 0.9963 - val_loss: 0.6379 - val_accuracy: 0.9633\n",
            "Epoch 92/100\n",
            "59/59 [==============================] - 1s 9ms/step - loss: 0.0104 - accuracy: 0.9971 - val_loss: 0.6535 - val_accuracy: 0.9612\n",
            "Epoch 93/100\n",
            "59/59 [==============================] - 1s 9ms/step - loss: 0.0118 - accuracy: 0.9966 - val_loss: 0.6649 - val_accuracy: 0.9619\n",
            "Epoch 94/100\n",
            "59/59 [==============================] - 1s 9ms/step - loss: 0.0098 - accuracy: 0.9970 - val_loss: 0.6018 - val_accuracy: 0.9628\n",
            "Epoch 95/100\n",
            "59/59 [==============================] - 1s 9ms/step - loss: 0.0115 - accuracy: 0.9967 - val_loss: 0.6325 - val_accuracy: 0.9638\n",
            "Epoch 96/100\n",
            "59/59 [==============================] - 1s 9ms/step - loss: 0.0103 - accuracy: 0.9976 - val_loss: 0.6198 - val_accuracy: 0.9628\n",
            "Epoch 97/100\n",
            "59/59 [==============================] - 1s 10ms/step - loss: 0.0087 - accuracy: 0.9974 - val_loss: 0.6396 - val_accuracy: 0.9613\n",
            "Epoch 98/100\n",
            "59/59 [==============================] - 1s 10ms/step - loss: 0.0089 - accuracy: 0.9975 - val_loss: 0.6699 - val_accuracy: 0.9641\n",
            "Epoch 99/100\n",
            "59/59 [==============================] - 1s 9ms/step - loss: 0.0089 - accuracy: 0.9972 - val_loss: 0.6574 - val_accuracy: 0.9625\n",
            "Epoch 100/100\n",
            "59/59 [==============================] - 1s 9ms/step - loss: 0.0086 - accuracy: 0.9974 - val_loss: 0.6607 - val_accuracy: 0.9616\n"
          ]
        }
      ],
      "source": [
        "# 모델이 중복생성되지 않도록 clear \n",
        "keras.backend.clear_session()\n",
        "\n",
        "model = create_model1()\n",
        "# compile option  \n",
        "model.compile(loss='categorical_crossentropy',\n",
        "              optimizer='RMSprop',\n",
        "              metrics='accuracy') \n",
        "\n",
        "#Tensorboard에 저장되는 정보가 모델별, fit별로 분리되도록 dir 생성 \n",
        "import datetime\n",
        "project = 'aicamp/1d'\n",
        "log_dir = \"./logs/\"+ project + datetime.datetime.now().strftime(\"%Y%m%d-%H%M%S\")\n",
        "\n",
        "my_callbacks = [ keras.callbacks.TensorBoard(log_dir=log_dir) ]\n",
        "history2 = model.fit(x_train,y_train, epochs=100, batch_size=1024,\n",
        "                     callbacks=my_callbacks, validation_data=(x_test, y_test)) "
      ]
    },
    {
      "cell_type": "markdown",
      "metadata": {
        "id": "BsYZSLWvxPcT"
      },
      "source": [
        "##### 4)ModelCheckPoint 저장하기"
      ]
    },
    {
      "cell_type": "markdown",
      "metadata": {
        "id": "fL_iXKT141d9"
      },
      "source": [
        " Parameters & default values\n"
      ]
    },
    {
      "cell_type": "markdown",
      "metadata": {
        "id": "0AbFS5DRyQc-"
      },
      "source": [
        "---\n",
        "```python\n",
        "keras.callbacks.ModelCheckpoint(\n",
        "    filepath,               # 저장할 패스 \n",
        "    save_weights_only=True, # 모델전체 or 가중치 \n",
        "    monitor='val_acc',      # 기준 metric \n",
        "    mode='max',             # best의 조건(auto, min, max) \n",
        "    save_best_only=True)    # 개선된 경우만 저장 선택 \n",
        "```\n",
        "---"
      ]
    },
    {
      "cell_type": "code",
      "execution_count": null,
      "metadata": {
        "id": "68HxW_RpRXB5",
        "jupyter": {
          "source_hidden": true
        },
        "scrolled": true,
        "tags": []
      },
      "outputs": [],
      "source": [
        "# colab(linux)\n",
        "#!rm -rf ./logs/*\n",
        "#!rm -rf ./aicamp/*\n",
        "# windows\n",
        "# code/logs code/aicamp 폴더 삭제해 주세요"
      ]
    },
    {
      "cell_type": "markdown",
      "metadata": {
        "tags": [],
        "id": "-cZ5ll0KjN0H"
      },
      "source": [
        "***code/aicamp 폴더 삭제해 주세요***"
      ]
    },
    {
      "cell_type": "code",
      "execution_count": null,
      "metadata": {
        "id": "6ae5p1LOjN0H"
      },
      "outputs": [],
      "source": [
        "(x_train, y_train), (x_test, y_test) = keras.datasets.mnist.load_data() \n",
        "y_train = tf.one_hot(y_train,depth=10)\n",
        "y_test = tf.one_hot(y_test,depth=10)\n",
        "\n",
        "def create_model():\n",
        "    model = keras.models.Sequential()\n",
        "    model.add(layers.Flatten(input_shape=(28,28)))\n",
        "    model.add(layers.Dense(64, activation=\"relu\"))\n",
        "    model.add(keras.layers.Dense(units=10, activation='softmax'))    \n",
        "    model.compile(loss='categorical_crossentropy',\n",
        "                  optimizer='adam',\n",
        "                  metrics=['accuracy']) \n",
        "    return model \n",
        "\n",
        "model = create_model()"
      ]
    },
    {
      "cell_type": "markdown",
      "metadata": {
        "id": "B4H7Cf9ajN0H"
      },
      "source": [
        "- 모델 전체 저장하기"
      ]
    },
    {
      "cell_type": "code",
      "execution_count": null,
      "metadata": {
        "id": "CZZCHrUNxOPa",
        "outputId": "77fcfdfd-6018-4666-cbc4-0d3f638773eb",
        "tags": []
      },
      "outputs": [
        {
          "name": "stdout",
          "output_type": "stream",
          "text": [
            "Epoch 1/3\n",
            "59/59 [==============================] - 1s 12ms/step - loss: 41.4241 - accuracy: 0.5288 - val_loss: 4.8166 - val_accuracy: 0.8520\n",
            "INFO:tensorflow:Assets written to: .\\aicamp\\cp.ckpt\\assets\n",
            "Epoch 2/3\n",
            "59/59 [==============================] - 1s 10ms/step - loss: 4.4258 - accuracy: 0.8605 - val_loss: 2.9793 - val_accuracy: 0.8749\n",
            "INFO:tensorflow:Assets written to: .\\aicamp\\cp.ckpt\\assets\n",
            "Epoch 3/3\n",
            "59/59 [==============================] - 1s 10ms/step - loss: 2.6747 - accuracy: 0.8823 - val_loss: 2.1978 - val_accuracy: 0.8890\n",
            "INFO:tensorflow:Assets written to: .\\aicamp\\cp.ckpt\\assets\n"
          ]
        },
        {
          "data": {
            "text/plain": [
              "<tensorflow.python.keras.callbacks.History at 0x1a7388efd88>"
            ]
          },
          "execution_count": 134,
          "metadata": {},
          "output_type": "execute_result"
        }
      ],
      "source": [
        "# 모델 전체 저장하기 \n",
        "project = '.\\\\aicamp\\\\'\n",
        "checkpoint_path = project+\"cp.ckpt\" \n",
        "\n",
        "my_callbacks = [\n",
        "    keras.callbacks.ModelCheckpoint(filepath=checkpoint_path,  \n",
        "                                    save_weights_only=False ),\n",
        "              ]\n",
        "model.fit(x_train,y_train, epochs=3, batch_size=1024, callbacks=my_callbacks,\n",
        "          validation_data=(x_test, y_test)) "
      ]
    },
    {
      "cell_type": "code",
      "execution_count": null,
      "metadata": {
        "id": "dWjq6h95jN0H",
        "outputId": "e57786bc-d210-4774-d18a-9bc71e494424"
      },
      "outputs": [
        {
          "name": "stdout",
          "output_type": "stream",
          "text": [
            "313/313 [==============================] - 1s 2ms/step - loss: 2.1978 - accuracy: 0.8890\n"
          ]
        },
        {
          "data": {
            "text/plain": [
              "[2.197810173034668, 0.8889999985694885]"
            ]
          },
          "execution_count": 135,
          "metadata": {},
          "output_type": "execute_result"
        }
      ],
      "source": [
        "# 모델+가중치 읽어오기 \n",
        "new_model = keras.models.load_model(checkpoint_path)\n",
        "new_model.evaluate(x_test,y_test)"
      ]
    },
    {
      "cell_type": "markdown",
      "metadata": {
        "id": "k6MYGUoBjN0H"
      },
      "source": [
        "- 가중치만 저장하기 "
      ]
    },
    {
      "cell_type": "code",
      "execution_count": null,
      "metadata": {
        "id": "ViuXkUKbjN0H",
        "outputId": "cb4ad3c0-7754-4bb9-900f-7ed7a058852b"
      },
      "outputs": [
        {
          "name": "stdout",
          "output_type": "stream",
          "text": [
            "Epoch 1/3\n",
            "59/59 [==============================] - 1s 11ms/step - loss: 1.7344 - accuracy: 0.8978 - val_loss: 1.7029 - val_accuracy: 0.8951\n",
            "Epoch 2/3\n",
            "59/59 [==============================] - 1s 10ms/step - loss: 1.3306 - accuracy: 0.9079 - val_loss: 1.4641 - val_accuracy: 0.8976\n",
            "Epoch 3/3\n",
            "59/59 [==============================] - 1s 10ms/step - loss: 1.0579 - accuracy: 0.9146 - val_loss: 1.2596 - val_accuracy: 0.9052\n"
          ]
        },
        {
          "data": {
            "text/plain": [
              "<tensorflow.python.keras.callbacks.History at 0x1a56a608a88>"
            ]
          },
          "execution_count": 136,
          "metadata": {},
          "output_type": "execute_result"
        }
      ],
      "source": [
        "# 가중치만 저장하기 \n",
        "project = '.\\\\aicamp\\\\'\n",
        "checkpoint_path = project+\"cp.ckpt\" \n",
        "\n",
        "my_callbacks = [\n",
        "    keras.callbacks.ModelCheckpoint(filepath=checkpoint_path, \n",
        "                                    save_weights_only=True ),   \n",
        "              ]\n",
        "model.fit(x_train,y_train, epochs=3, batch_size=1024, callbacks=my_callbacks,\n",
        "          validation_data=(x_test, y_test)) "
      ]
    },
    {
      "cell_type": "code",
      "execution_count": null,
      "metadata": {
        "id": "juv4pPyzjN0H",
        "outputId": "d96befbb-848c-4144-af82-2c4c213a002d"
      },
      "outputs": [
        {
          "name": "stdout",
          "output_type": "stream",
          "text": [
            "313/313 [==============================] - 1s 2ms/step - loss: 150.6310 - accuracy: 0.1283\n",
            "313/313 [==============================] - 1s 2ms/step - loss: 1.2596 - accuracy: 0.9052\n"
          ]
        },
        {
          "data": {
            "text/plain": [
              "[1.2595725059509277, 0.9052000045776367]"
            ]
          },
          "execution_count": 137,
          "metadata": {},
          "output_type": "execute_result"
        }
      ],
      "source": [
        "# 새로운 모델 생성\n",
        "model = create_model()\n",
        "model.evaluate(x_test,y_test)\n",
        "# 훈련되지 않는 모델에 가중치를 load\n",
        "model.load_weights(checkpoint_path) \n",
        "model.evaluate(x_test,y_test)"
      ]
    },
    {
      "cell_type": "markdown",
      "metadata": {
        "id": "ESKD9vFqjN0I"
      },
      "source": [
        "- ckpt file 이름 지정하기 "
      ]
    },
    {
      "cell_type": "code",
      "execution_count": null,
      "metadata": {
        "id": "WgPesZxPjN0I",
        "outputId": "404e2392-972f-41c2-d174-d8c718868a31"
      },
      "outputs": [
        {
          "name": "stdout",
          "output_type": "stream",
          "text": [
            "Epoch 1/3\n",
            "59/59 [==============================] - 1s 11ms/step - loss: 0.8694 - accuracy: 0.9204 - val_loss: 1.0779 - val_accuracy: 0.9064\n",
            "Epoch 2/3\n",
            "59/59 [==============================] - 1s 11ms/step - loss: 0.7209 - accuracy: 0.9242 - val_loss: 0.9826 - val_accuracy: 0.9063\n",
            "Epoch 3/3\n",
            "59/59 [==============================] - 1s 10ms/step - loss: 0.6076 - accuracy: 0.9281 - val_loss: 0.8886 - val_accuracy: 0.9112\n"
          ]
        },
        {
          "data": {
            "text/plain": [
              "<tensorflow.python.keras.callbacks.History at 0x1a73f713c88>"
            ]
          },
          "execution_count": 138,
          "metadata": {},
          "output_type": "execute_result"
        }
      ],
      "source": [
        "# ckpt file 이름 지정해서 저장하기 \n",
        "project = '.\\\\aicamp\\\\'\n",
        "checkpoint_path = project+\"cp.{epoch:02d}-{val_accuracy:.4f}.ckpt\" \n",
        "\n",
        "my_callbacks = [\n",
        "    keras.callbacks.ModelCheckpoint(filepath=checkpoint_path,\n",
        "                                    save_weights_only=True ),   \n",
        "              ]\n",
        "model.fit(x_train,y_train, epochs=3, batch_size=1024, callbacks=my_callbacks,\n",
        "          validation_data=(x_test, y_test)) "
      ]
    },
    {
      "cell_type": "code",
      "execution_count": null,
      "metadata": {
        "tags": [],
        "id": "GPIvYaZhjN0I",
        "outputId": "ae463d79-8809-47af-ff6d-543bb7c68893"
      },
      "outputs": [
        {
          "name": "stdout",
          "output_type": "stream",
          "text": [
            " C 드라이브의 볼륨에는 이름이 없습니다.\n",
            " 볼륨 일련 번호: 54B0-04FE\n",
            "\n",
            " C:\\Users\\홍근선\\ht3er-uvbrq\\AI-camp_교제\\2021\\딥러닝심화2\\code\\aicamp 디렉터리\n",
            "\n",
            "2021-07-21  오후 02:12    <DIR>          .\n",
            "2021-07-21  오후 02:12    <DIR>          ..\n",
            "2021-07-21  오후 02:12                91 checkpoint\n",
            "2021-07-21  오후 02:12           612,725 cp.01-0.9064.ckpt.data-00000-of-00001\n",
            "2021-07-21  오후 02:12             1,202 cp.01-0.9064.ckpt.index\n",
            "2021-07-21  오후 02:12           612,725 cp.02-0.9063.ckpt.data-00000-of-00001\n",
            "2021-07-21  오후 02:12             1,202 cp.02-0.9063.ckpt.index\n",
            "2021-07-21  오후 02:12           612,725 cp.03-0.9112.ckpt.data-00000-of-00001\n",
            "2021-07-21  오후 02:12             1,202 cp.03-0.9112.ckpt.index\n",
            "2021-07-21  오후 02:06    <DIR>          cp.ckpt\n",
            "2021-07-21  오후 02:10           612,765 cp.ckpt.data-00000-of-00001\n",
            "2021-07-21  오후 02:10             1,202 cp.ckpt.index\n",
            "               9개 파일           2,455,839 바이트\n",
            "               3개 디렉터리  783,443,857,408 바이트 남음\n"
          ]
        }
      ],
      "source": [
        "!dir {project}"
      ]
    },
    {
      "cell_type": "code",
      "execution_count": null,
      "metadata": {
        "colab": {
          "base_uri": "https://localhost:8080/",
          "height": 50
        },
        "id": "cXKJEWwrsb6a",
        "outputId": "4238de44-4fb1-4e0a-821a-7a589a50f8e8",
        "tags": []
      },
      "outputs": [
        {
          "name": "stdout",
          "output_type": "stream",
          "text": [
            "313/313 [==============================] - 1s 2ms/step - loss: 1.0009 - accuracy: 0.8995\n"
          ]
        },
        {
          "data": {
            "text/plain": [
              "[0.8885881900787354, 0.9111999869346619]"
            ]
          },
          "execution_count": 140,
          "metadata": {},
          "output_type": "execute_result"
        }
      ],
      "source": [
        "model = create_model()\n",
        "# file 이름으로 지정해서 읽어오기  \n",
        "model.load_weights(project+'cp.03-0.9112.ckpt')\n",
        "model.evaluate(x_test, y_test, verbose=1)"
      ]
    },
    {
      "cell_type": "markdown",
      "metadata": {
        "id": "tyn2ejTRbm2y"
      },
      "source": [
        "###### Checkpoint 이외의 모델 저장 방법 "
      ]
    },
    {
      "cell_type": "markdown",
      "metadata": {
        "id": "nJDXHzbActBp"
      },
      "source": [
        "- 1. model.save"
      ]
    },
    {
      "cell_type": "code",
      "execution_count": null,
      "metadata": {
        "colab": {
          "base_uri": "https://localhost:8080/",
          "height": 50
        },
        "id": "rV-W5hvLb5Ti",
        "outputId": "191f1eb9-e79d-45d8-e3f2-15d548ca658e"
      },
      "outputs": [
        {
          "name": "stdout",
          "output_type": "stream",
          "text": [
            "INFO:tensorflow:Assets written to: .\\aicamp\\model_save\\assets\n",
            "INFO:tensorflow:Assets written to: .\\aicamp\\save_model\\assets\n"
          ]
        }
      ],
      "source": [
        "# 전체 모델(가중치, 학습환경-compile)을 파일로 저장 (Folder생성,SavedModel포멧 저장)\n",
        "model.save(project+'model_save')      # model.save_weight( ) #W저장                   \n",
        "keras.models.save_model(model, project+'save_model')  \n",
        "model.save(project+\"model_save.hdf5\") # HDF5 파일로 저장 #Subclassed model은 Error!! "
      ]
    },
    {
      "cell_type": "code",
      "execution_count": null,
      "metadata": {
        "id": "-FL9nG2jrcUO",
        "scrolled": true,
        "outputId": "c7638afe-94dd-4c72-a037-177ea9fd9850"
      },
      "outputs": [
        {
          "name": "stdout",
          "output_type": "stream",
          "text": [
            " C 드라이브의 볼륨에는 이름이 없습니다.\n",
            " 볼륨 일련 번호: 54B0-04FE\n",
            "\n",
            " C:\\Users\\홍근선\\ht3er-uvbrq\\AI-camp_교제\\2021\\딥러닝심화2\\code\\aicamp 디렉터리\n",
            "\n",
            "2021-07-21  오후 02:20    <DIR>          .\n",
            "2021-07-21  오후 02:20    <DIR>          ..\n",
            "2021-07-21  오후 02:12                91 checkpoint\n",
            "2021-07-21  오후 02:12           612,725 cp.01-0.9064.ckpt.data-00000-of-00001\n",
            "2021-07-21  오후 02:12             1,202 cp.01-0.9064.ckpt.index\n",
            "2021-07-21  오후 02:12           612,725 cp.02-0.9063.ckpt.data-00000-of-00001\n",
            "2021-07-21  오후 02:12             1,202 cp.02-0.9063.ckpt.index\n",
            "2021-07-21  오후 02:12           612,725 cp.03-0.9112.ckpt.data-00000-of-00001\n",
            "2021-07-21  오후 02:12             1,202 cp.03-0.9112.ckpt.index\n",
            "2021-07-21  오후 02:06    <DIR>          cp.ckpt\n",
            "2021-07-21  오후 02:10           612,765 cp.ckpt.data-00000-of-00001\n",
            "2021-07-21  오후 02:10             1,202 cp.ckpt.index\n",
            "2021-07-21  오후 02:20    <DIR>          model_save\n",
            "2021-07-21  오후 02:20           635,008 model_save.hdf5\n",
            "2021-07-21  오후 02:20    <DIR>          save_model\n",
            "              10개 파일           3,090,847 바이트\n",
            "               5개 디렉터리  783,437,090,816 바이트 남음\n"
          ]
        }
      ],
      "source": [
        "#ls\n",
        "!dir {project}"
      ]
    },
    {
      "cell_type": "code",
      "execution_count": null,
      "metadata": {
        "id": "haV8ERxEocfy",
        "scrolled": true
      },
      "outputs": [],
      "source": [
        "#!ls  \n",
        "#!dir /s/b {project}\n",
        "#!ls ./*.hdf5\n",
        "#!dir {project+'*.hdf5'}   "
      ]
    },
    {
      "cell_type": "code",
      "execution_count": null,
      "metadata": {
        "colab": {
          "base_uri": "https://localhost:8080/",
          "height": 420
        },
        "id": "2gRV4mL5dFbT",
        "outputId": "141ef284-0f3b-4e41-dadc-c2e2f4ecfefd"
      },
      "outputs": [
        {
          "name": "stdout",
          "output_type": "stream",
          "text": [
            "Model: \"sequential_3\"\n",
            "_________________________________________________________________\n",
            "Layer (type)                 Output Shape              Param #   \n",
            "=================================================================\n",
            "flatten_3 (Flatten)          (None, 784)               0         \n",
            "_________________________________________________________________\n",
            "dense_6 (Dense)              (None, 64)                50240     \n",
            "_________________________________________________________________\n",
            "dense_7 (Dense)              (None, 10)                650       \n",
            "=================================================================\n",
            "Total params: 50,890\n",
            "Trainable params: 50,890\n",
            "Non-trainable params: 0\n",
            "_________________________________________________________________\n",
            "Model: \"sequential_3\"\n",
            "_________________________________________________________________\n",
            "Layer (type)                 Output Shape              Param #   \n",
            "=================================================================\n",
            "flatten_3 (Flatten)          (None, 784)               0         \n",
            "_________________________________________________________________\n",
            "dense_6 (Dense)              (None, 64)                50240     \n",
            "_________________________________________________________________\n",
            "dense_7 (Dense)              (None, 10)                650       \n",
            "=================================================================\n",
            "Total params: 50,890\n",
            "Trainable params: 50,890\n",
            "Non-trainable params: 0\n",
            "_________________________________________________________________\n"
          ]
        }
      ],
      "source": [
        "# 포멧에따라 모델 복원하기 \n",
        "# .hdf5 format : 최신 tf build에서 error / warning발생하는 경우가 있음\n",
        "#model_3 = keras.models.load_model(project+'model_save.hdf5')\n",
        "model_3 = keras.models.load_model(project+'save_model')\n",
        "model_4 = keras.models.load_model(project+'model_save')\n",
        "model_3.summary()\n",
        "model_4.summary()"
      ]
    },
    {
      "cell_type": "markdown",
      "metadata": {
        "id": "NODX_kSyeY-6"
      },
      "source": [
        "- 2. model.save_model : model에 time tag 붙이기 "
      ]
    },
    {
      "cell_type": "code",
      "execution_count": null,
      "metadata": {
        "colab": {
          "base_uri": "https://localhost:8080/",
          "height": 50
        },
        "id": "gsQvLrmFemwj",
        "outputId": "e3097362-49de-441b-8784-10154400d4bd"
      },
      "outputs": [
        {
          "name": "stdout",
          "output_type": "stream",
          "text": [
            "INFO:tensorflow:Assets written to: .\\aicamp\\my20210721-142220\\assets\n",
            ".\\aicamp\\my20210721-142220\n"
          ]
        }
      ],
      "source": [
        "import datetime\n",
        "\n",
        "save_model_path = project+'my{}'.format(datetime.datetime.now().strftime(\"%Y%m%d-%H%M%S\"))\n",
        "keras.models.save_model(model, save_model_path)\n",
        "print(save_model_path)"
      ]
    },
    {
      "cell_type": "code",
      "execution_count": null,
      "metadata": {
        "colab": {
          "base_uri": "https://localhost:8080/",
          "height": 34
        },
        "id": "-Rfu9X2Hgi0S",
        "outputId": "66ec5c0a-d957-4d7f-e89a-18d17934983e"
      },
      "outputs": [
        {
          "name": "stdout",
          "output_type": "stream",
          "text": [
            " C 드라이브의 볼륨에는 이름이 없습니다.\n",
            " 볼륨 일련 번호: 54B0-04FE\n",
            "\n",
            " C:\\Users\\홍근선\\ht3er-uvbrq\\AI-camp_교제\\2021\\딥러닝심화2\\code\\aicamp 디렉터리\n",
            "\n",
            "2021-07-21  오후 02:22    <DIR>          my20210721-142220\n",
            "               0개 파일                   0 바이트\n",
            "               1개 디렉터리  783,433,355,264 바이트 남음\n"
          ]
        }
      ],
      "source": [
        "#ls $save_model_path\n",
        "!dir {project+'my*'}"
      ]
    },
    {
      "cell_type": "code",
      "execution_count": null,
      "metadata": {
        "colab": {
          "base_uri": "https://localhost:8080/",
          "height": 286
        },
        "id": "IuQa0H9Agw3C",
        "outputId": "24570d22-2cb7-41c7-8d9a-5f97367d84c5"
      },
      "outputs": [
        {
          "name": "stdout",
          "output_type": "stream",
          "text": [
            "Model: \"sequential_3\"\n",
            "_________________________________________________________________\n",
            "Layer (type)                 Output Shape              Param #   \n",
            "=================================================================\n",
            "flatten_3 (Flatten)          (None, 784)               0         \n",
            "_________________________________________________________________\n",
            "dense_6 (Dense)              (None, 64)                50240     \n",
            "_________________________________________________________________\n",
            "dense_7 (Dense)              (None, 10)                650       \n",
            "=================================================================\n",
            "Total params: 50,890\n",
            "Trainable params: 50,890\n",
            "Non-trainable params: 0\n",
            "_________________________________________________________________\n"
          ]
        }
      ],
      "source": [
        "model_4 = keras.models.load_model(save_model_path)\n",
        "model_4.summary()"
      ]
    },
    {
      "cell_type": "markdown",
      "metadata": {
        "id": "YOx1ZNfQD33z"
      },
      "source": [
        "#### Custom Callback 만들기"
      ]
    },
    {
      "cell_type": "markdown",
      "metadata": {
        "id": "lCXEHBN5EEYj"
      },
      "source": [
        "---\n",
        "```python\n",
        "class CustomCallback(keras.callbacks.Callback):\n",
        "    def on_train_begin(self, logs=None):\n",
        "    def on_train_end(self, logs=None):\n",
        "    def on_epoch_begin(self, epoch, logs=None):\n",
        "    def on_epoch_end(self, epoch, logs=None):\n",
        "    def on_batch_begin(self, batch, logs=None):\n",
        "    def on_batch_end(self, batch, logs=None):\n",
        "        keys = list(logs.keys())\n",
        "        print(f'Training : end of batch log keys: {keys}')\n",
        "        loss = logs.get('loss')\n",
        "        print(f'Training : loss : {loss}')\n",
        "        \n",
        "    def on_test_begin(self, logs=None):\n",
        "    def on_test_end(self, logs=None):\n",
        "    def on_predict_begin(self, logs=None):\n",
        "    def on_predict_end(self, logs=None):\n",
        "    def on_test_batch_begin(self, batch, logs=None):\n",
        "    def on_test_batch_end(self, batch, logs=None):\n",
        "    def on_predict_batch_begin(self, batch, logs=None):\n",
        "    def on_predict_batch_end(self, batch, logs=None):\n",
        "        \n",
        "model.fit(callbacks=[ ])        \n",
        "model.evaluate(callbacks=[ ])\n",
        "model.predict(callbacks=[ ])\n",
        "```\n",
        "---"
      ]
    },
    {
      "cell_type": "code",
      "execution_count": null,
      "metadata": {
        "id": "wabLy4uiMU5y"
      },
      "outputs": [],
      "source": [
        "# import tensorflow.keras as keras \n",
        "# from tensorflow.keras import layers\n",
        "# # 데이터 준비 \n",
        "# (x_train, y_train), (x_test, y_test) = keras.datasets.mnist.load_data() "
      ]
    },
    {
      "cell_type": "code",
      "execution_count": null,
      "metadata": {
        "colab": {
          "base_uri": "https://localhost:8080/",
          "height": 1000
        },
        "id": "0rhAArHfEz0d",
        "outputId": "fa73afca-e273-4eff-c684-cf8a2022f520",
        "scrolled": true,
        "tags": []
      },
      "outputs": [
        {
          "name": "stdout",
          "output_type": "stream",
          "text": [
            "Epoch : 0\n",
            "Batch:0, loss:167.2736053466797\n",
            "Batch:1, loss:156.20632934570312\n",
            "Batch:2, loss:147.52259826660156\n",
            "Batch:3, loss:139.54656982421875\n",
            "Batch:4, loss:132.5135498046875\n",
            "Batch:5, loss:126.04608917236328\n",
            "Batch:6, loss:120.38378143310547\n",
            "Batch:7, loss:115.84783172607422\n",
            "Batch:8, loss:111.52520751953125\n",
            "Batch:9, loss:107.42036437988281\n",
            "Batch:10, loss:103.68595886230469\n",
            "Batch:11, loss:100.13848114013672\n",
            "Batch:12, loss:96.76005554199219\n",
            "Batch:13, loss:93.63114929199219\n",
            "Batch:14, loss:90.80500793457031\n",
            "Batch:15, loss:87.91427612304688\n",
            "Batch:16, loss:84.96556854248047\n",
            "Batch:17, loss:82.44053649902344\n",
            "Batch:18, loss:80.0290756225586\n",
            "Batch:19, loss:77.77891540527344\n",
            "Batch:20, loss:75.57048797607422\n",
            "Batch:21, loss:73.48810577392578\n",
            "Batch:22, loss:71.44253540039062\n",
            "Batch:23, loss:69.70830535888672\n",
            "Batch:24, loss:67.91704559326172\n",
            "Batch:25, loss:66.29216003417969\n",
            "Batch:26, loss:64.69293975830078\n",
            "Batch:27, loss:63.31391525268555\n",
            "Batch:28, loss:61.911922454833984\n",
            "Batch:29, loss:60.60227584838867\n",
            "Batch:30, loss:59.38998794555664\n",
            "Batch:31, loss:58.186771392822266\n",
            "Batch:32, loss:56.98274230957031\n",
            "Batch:33, loss:55.89437484741211\n",
            "Batch:34, loss:54.865455627441406\n",
            "Batch:35, loss:53.8899040222168\n",
            "Batch:36, loss:52.92677307128906\n",
            "Batch:37, loss:52.015472412109375\n",
            "Batch:38, loss:51.12871170043945\n",
            "Batch:39, loss:50.26689910888672\n",
            "Batch:40, loss:49.48976516723633\n",
            "Batch:41, loss:48.73743438720703\n",
            "Batch:42, loss:47.89004135131836\n",
            "Batch:43, loss:47.18577575683594\n",
            "Batch:44, loss:46.46866226196289\n",
            "Batch:45, loss:45.80412673950195\n",
            "Batch:46, loss:45.236698150634766\n",
            "Batch:47, loss:44.58149719238281\n",
            "Batch:48, loss:44.002288818359375\n",
            "Batch:49, loss:43.385154724121094\n",
            "Batch:50, loss:42.83292770385742\n",
            "Batch:51, loss:42.29248046875\n",
            "Batch:52, loss:41.73390197753906\n",
            "Batch:53, loss:41.22311019897461\n",
            "Batch:54, loss:40.70413589477539\n",
            "Batch:55, loss:40.195980072021484\n",
            "Batch:56, loss:39.716773986816406\n",
            "Batch:57, loss:39.26997756958008\n",
            "Batch:58, loss:38.97880172729492\n",
            "Epoch : 1\n",
            "Batch:0, loss:13.33683967590332\n",
            "Batch:1, loss:12.95443344116211\n",
            "Batch:2, loss:12.633360862731934\n",
            "Batch:3, loss:13.219701766967773\n",
            "Batch:4, loss:13.001742362976074\n",
            "Batch:5, loss:12.689372062683105\n",
            "Batch:6, loss:12.503497123718262\n",
            "Batch:7, loss:12.680660247802734\n",
            "Batch:8, loss:12.66623306274414\n",
            "Batch:9, loss:12.565199851989746\n",
            "Batch:10, loss:12.411772727966309\n",
            "Batch:11, loss:12.151263236999512\n",
            "Batch:12, loss:11.957967758178711\n",
            "Batch:13, loss:11.750720024108887\n",
            "Batch:14, loss:11.646389961242676\n",
            "Batch:15, loss:11.564266204833984\n",
            "Batch:16, loss:11.422829627990723\n",
            "Batch:17, loss:11.396678924560547\n",
            "Batch:18, loss:11.4324312210083\n",
            "Batch:19, loss:11.43092155456543\n",
            "Batch:20, loss:11.331418991088867\n",
            "Batch:21, loss:11.234203338623047\n",
            "Batch:22, loss:11.146546363830566\n",
            "Batch:23, loss:11.09670639038086\n",
            "Batch:24, loss:11.10040283203125\n",
            "Batch:25, loss:11.05526065826416\n",
            "Batch:26, loss:11.040613174438477\n",
            "Batch:27, loss:10.94970703125\n",
            "Batch:28, loss:10.8878173828125\n",
            "Batch:29, loss:10.846968650817871\n",
            "Batch:30, loss:10.788399696350098\n",
            "Batch:31, loss:10.738543510437012\n",
            "Batch:32, loss:10.702937126159668\n",
            "Batch:33, loss:10.639883995056152\n",
            "Batch:34, loss:10.619428634643555\n",
            "Batch:35, loss:10.587018966674805\n",
            "Batch:36, loss:10.494717597961426\n",
            "Batch:37, loss:10.45042610168457\n",
            "Batch:38, loss:10.447998046875\n",
            "Batch:39, loss:10.417552947998047\n",
            "Batch:40, loss:10.367196083068848\n",
            "Batch:41, loss:10.327999114990234\n",
            "Batch:42, loss:10.312010765075684\n",
            "Batch:43, loss:10.285672187805176\n",
            "Batch:44, loss:10.24425983428955\n",
            "Batch:45, loss:10.193601608276367\n",
            "Batch:46, loss:10.126180648803711\n",
            "Batch:47, loss:10.095392227172852\n",
            "Batch:48, loss:10.08082103729248\n",
            "Batch:49, loss:10.077345848083496\n",
            "Batch:50, loss:10.063702583312988\n",
            "Batch:51, loss:10.013253211975098\n",
            "Batch:52, loss:9.968817710876465\n",
            "Batch:53, loss:9.947409629821777\n",
            "Batch:54, loss:9.907577514648438\n",
            "Batch:55, loss:9.878410339355469\n",
            "Batch:56, loss:9.856428146362305\n",
            "Batch:57, loss:9.837203025817871\n",
            "Batch:58, loss:9.81747055053711\n",
            "Epoch : 2\n",
            "Batch:0, loss:7.87050724029541\n",
            "Batch:1, loss:7.622114181518555\n",
            "Batch:2, loss:7.525232791900635\n",
            "Batch:3, loss:7.3554463386535645\n",
            "Batch:4, loss:7.367016792297363\n",
            "Batch:5, loss:7.3948540687561035\n",
            "Batch:6, loss:7.389899730682373\n",
            "Batch:7, loss:7.529388904571533\n",
            "Batch:8, loss:7.715603351593018\n",
            "Batch:9, loss:7.664475440979004\n",
            "Batch:10, loss:7.566736221313477\n",
            "Batch:11, loss:7.562124729156494\n",
            "Batch:12, loss:7.52175235748291\n",
            "Batch:13, loss:7.5114617347717285\n",
            "Batch:14, loss:7.38765287399292\n",
            "Batch:15, loss:7.397250175476074\n",
            "Batch:16, loss:7.374987602233887\n",
            "Batch:17, loss:7.390438556671143\n",
            "Batch:18, loss:7.3541765213012695\n",
            "Batch:19, loss:7.431741237640381\n",
            "Batch:20, loss:7.436534881591797\n",
            "Batch:21, loss:7.4614410400390625\n",
            "Batch:22, loss:7.375323295593262\n",
            "Batch:23, loss:7.3429412841796875\n",
            "Batch:24, loss:7.389751434326172\n",
            "Batch:25, loss:7.387474060058594\n",
            "Batch:26, loss:7.398911476135254\n",
            "Batch:27, loss:7.387890815734863\n",
            "Batch:28, loss:7.34807014465332\n",
            "Batch:29, loss:7.349411487579346\n",
            "Batch:30, loss:7.361301422119141\n",
            "Batch:31, loss:7.353891849517822\n",
            "Batch:32, loss:7.31691837310791\n",
            "Batch:33, loss:7.310287952423096\n",
            "Batch:34, loss:7.325279235839844\n",
            "Batch:35, loss:7.322145462036133\n",
            "Batch:36, loss:7.348724365234375\n",
            "Batch:37, loss:7.33864164352417\n",
            "Batch:38, loss:7.29805326461792\n",
            "Batch:39, loss:7.278517246246338\n",
            "Batch:40, loss:7.255722999572754\n",
            "Batch:41, loss:7.241186141967773\n",
            "Batch:42, loss:7.228209972381592\n",
            "Batch:43, loss:7.1942138671875\n",
            "Batch:44, loss:7.200546741485596\n",
            "Batch:45, loss:7.178863525390625\n",
            "Batch:46, loss:7.164626598358154\n",
            "Batch:47, loss:7.143001556396484\n",
            "Batch:48, loss:7.1255974769592285\n",
            "Batch:49, loss:7.110713958740234\n",
            "Batch:50, loss:7.107553482055664\n",
            "Batch:51, loss:7.102345943450928\n",
            "Batch:52, loss:7.0716776847839355\n",
            "Batch:53, loss:7.0432658195495605\n",
            "Batch:54, loss:7.0196099281311035\n",
            "Batch:55, loss:7.014498233795166\n",
            "Batch:56, loss:7.006448268890381\n",
            "Batch:57, loss:6.992903709411621\n",
            "Batch:58, loss:6.978946685791016\n"
          ]
        }
      ],
      "source": [
        "# 모델 정의\n",
        "model = keras.models.Sequential() \n",
        "model.add(layers.Flatten(input_shape=(28,28))) \n",
        "model.add(layers.Dense(units=10, activation='softmax')) \n",
        "# 훈련과정 설정\n",
        "model.compile(loss='categorical_crossentropy', optimizer='adam',\n",
        "              metrics='accuracy') \n",
        "# Custom callback 작성\n",
        "class LossHistory(keras.callbacks.Callback):\n",
        "    def on_train_begin(self,logs={}):\n",
        "        self.losses = [] \n",
        "\n",
        "    def on_epoch_begin(self, epoch, logs=None):\n",
        "        print(f'Epoch : {epoch}')\n",
        "\n",
        "    def on_batch_end(self, batch, logs={}):\n",
        "        loss = logs.get('loss')\n",
        "        self.losses.append(loss)\n",
        "        print(f'Batch:{batch}, loss:{loss}')\n",
        "# callback 인스턴스         \n",
        "b_history = LossHistory()\n",
        "# 훈련 \n",
        "history = model.fit(x_train, y_train, batch_size=1024, epochs=3,\n",
        "          verbose=0, callbacks=[b_history])"
      ]
    },
    {
      "cell_type": "code",
      "execution_count": null,
      "metadata": {
        "colab": {
          "base_uri": "https://localhost:8080/",
          "height": 1000
        },
        "id": "3mXyUu5kHgDS",
        "outputId": "08f102b2-cbf7-4e5a-b98e-f63db9143217",
        "scrolled": true,
        "tags": []
      },
      "outputs": [
        {
          "data": {
            "text/plain": [
              "[167.2736053466797,\n",
              " 156.20632934570312,\n",
              " 147.52259826660156,\n",
              " 139.54656982421875,\n",
              " 132.5135498046875,\n",
              " 126.04608917236328,\n",
              " 120.38378143310547,\n",
              " 115.84783172607422,\n",
              " 111.52520751953125,\n",
              " 107.42036437988281,\n",
              " 103.68595886230469,\n",
              " 100.13848114013672,\n",
              " 96.76005554199219,\n",
              " 93.63114929199219,\n",
              " 90.80500793457031,\n",
              " 87.91427612304688,\n",
              " 84.96556854248047,\n",
              " 82.44053649902344,\n",
              " 80.0290756225586,\n",
              " 77.77891540527344,\n",
              " 75.57048797607422,\n",
              " 73.48810577392578,\n",
              " 71.44253540039062,\n",
              " 69.70830535888672,\n",
              " 67.91704559326172,\n",
              " 66.29216003417969,\n",
              " 64.69293975830078,\n",
              " 63.31391525268555,\n",
              " 61.911922454833984,\n",
              " 60.60227584838867,\n",
              " 59.38998794555664,\n",
              " 58.186771392822266,\n",
              " 56.98274230957031,\n",
              " 55.89437484741211,\n",
              " 54.865455627441406,\n",
              " 53.8899040222168,\n",
              " 52.92677307128906,\n",
              " 52.015472412109375,\n",
              " 51.12871170043945,\n",
              " 50.26689910888672,\n",
              " 49.48976516723633,\n",
              " 48.73743438720703,\n",
              " 47.89004135131836,\n",
              " 47.18577575683594,\n",
              " 46.46866226196289,\n",
              " 45.80412673950195,\n",
              " 45.236698150634766,\n",
              " 44.58149719238281,\n",
              " 44.002288818359375,\n",
              " 43.385154724121094,\n",
              " 42.83292770385742,\n",
              " 42.29248046875,\n",
              " 41.73390197753906,\n",
              " 41.22311019897461,\n",
              " 40.70413589477539,\n",
              " 40.195980072021484,\n",
              " 39.716773986816406,\n",
              " 39.26997756958008,\n",
              " 38.97880172729492,\n",
              " 13.33683967590332,\n",
              " 12.95443344116211,\n",
              " 12.633360862731934,\n",
              " 13.219701766967773,\n",
              " 13.001742362976074,\n",
              " 12.689372062683105,\n",
              " 12.503497123718262,\n",
              " 12.680660247802734,\n",
              " 12.66623306274414,\n",
              " 12.565199851989746,\n",
              " 12.411772727966309,\n",
              " 12.151263236999512,\n",
              " 11.957967758178711,\n",
              " 11.750720024108887,\n",
              " 11.646389961242676,\n",
              " 11.564266204833984,\n",
              " 11.422829627990723,\n",
              " 11.396678924560547,\n",
              " 11.4324312210083,\n",
              " 11.43092155456543,\n",
              " 11.331418991088867,\n",
              " 11.234203338623047,\n",
              " 11.146546363830566,\n",
              " 11.09670639038086,\n",
              " 11.10040283203125,\n",
              " 11.05526065826416,\n",
              " 11.040613174438477,\n",
              " 10.94970703125,\n",
              " 10.8878173828125,\n",
              " 10.846968650817871,\n",
              " 10.788399696350098,\n",
              " 10.738543510437012,\n",
              " 10.702937126159668,\n",
              " 10.639883995056152,\n",
              " 10.619428634643555,\n",
              " 10.587018966674805,\n",
              " 10.494717597961426,\n",
              " 10.45042610168457,\n",
              " 10.447998046875,\n",
              " 10.417552947998047,\n",
              " 10.367196083068848,\n",
              " 10.327999114990234,\n",
              " 10.312010765075684,\n",
              " 10.285672187805176,\n",
              " 10.24425983428955,\n",
              " 10.193601608276367,\n",
              " 10.126180648803711,\n",
              " 10.095392227172852,\n",
              " 10.08082103729248,\n",
              " 10.077345848083496,\n",
              " 10.063702583312988,\n",
              " 10.013253211975098,\n",
              " 9.968817710876465,\n",
              " 9.947409629821777,\n",
              " 9.907577514648438,\n",
              " 9.878410339355469,\n",
              " 9.856428146362305,\n",
              " 9.837203025817871,\n",
              " 9.81747055053711,\n",
              " 7.87050724029541,\n",
              " 7.622114181518555,\n",
              " 7.525232791900635,\n",
              " 7.3554463386535645,\n",
              " 7.367016792297363,\n",
              " 7.3948540687561035,\n",
              " 7.389899730682373,\n",
              " 7.529388904571533,\n",
              " 7.715603351593018,\n",
              " 7.664475440979004,\n",
              " 7.566736221313477,\n",
              " 7.562124729156494,\n",
              " 7.52175235748291,\n",
              " 7.5114617347717285,\n",
              " 7.38765287399292,\n",
              " 7.397250175476074,\n",
              " 7.374987602233887,\n",
              " 7.390438556671143,\n",
              " 7.3541765213012695,\n",
              " 7.431741237640381,\n",
              " 7.436534881591797,\n",
              " 7.4614410400390625,\n",
              " 7.375323295593262,\n",
              " 7.3429412841796875,\n",
              " 7.389751434326172,\n",
              " 7.387474060058594,\n",
              " 7.398911476135254,\n",
              " 7.387890815734863,\n",
              " 7.34807014465332,\n",
              " 7.349411487579346,\n",
              " 7.361301422119141,\n",
              " 7.353891849517822,\n",
              " 7.31691837310791,\n",
              " 7.310287952423096,\n",
              " 7.325279235839844,\n",
              " 7.322145462036133,\n",
              " 7.348724365234375,\n",
              " 7.33864164352417,\n",
              " 7.29805326461792,\n",
              " 7.278517246246338,\n",
              " 7.255722999572754,\n",
              " 7.241186141967773,\n",
              " 7.228209972381592,\n",
              " 7.1942138671875,\n",
              " 7.200546741485596,\n",
              " 7.178863525390625,\n",
              " 7.164626598358154,\n",
              " 7.143001556396484,\n",
              " 7.1255974769592285,\n",
              " 7.110713958740234,\n",
              " 7.107553482055664,\n",
              " 7.102345943450928,\n",
              " 7.0716776847839355,\n",
              " 7.0432658195495605,\n",
              " 7.0196099281311035,\n",
              " 7.014498233795166,\n",
              " 7.006448268890381,\n",
              " 6.992903709411621,\n",
              " 6.978946685791016]"
            ]
          },
          "execution_count": 148,
          "metadata": {},
          "output_type": "execute_result"
        }
      ],
      "source": [
        "# local 변수 참조 \n",
        "b_history.losses"
      ]
    },
    {
      "cell_type": "code",
      "execution_count": null,
      "metadata": {
        "id": "8_MqZ3-hjN0K",
        "outputId": "86b38bf6-86b0-4a49-9fea-094fa36a8bed"
      },
      "outputs": [
        {
          "data": {
            "image/png": "[encoded data removed]",
            "text/plain": [
              "<Figure size 432x288 with 1 Axes>"
            ]
          },
          "metadata": {
            "needs_background": "light"
          },
          "output_type": "display_data"
        }
      ],
      "source": [
        "plt.plot(b_history.losses, linestyle='-', label=\"batch_loss\")\n",
        "\n",
        "plt.semilogy()\n",
        "plt.legend()\n",
        "plt.grid()\n",
        "plt.show() "
      ]
    },
    {
      "cell_type": "code",
      "execution_count": null,
      "metadata": {
        "id": "MA11WEMAjN0K",
        "outputId": "eba6d15a-8963-45c6-d391-ed6a4c04b1bc"
      },
      "outputs": [
        {
          "data": {
            "text/plain": [
              "dict_keys(['loss', 'accuracy'])"
            ]
          },
          "execution_count": 70,
          "metadata": {},
          "output_type": "execute_result"
        }
      ],
      "source": [
        "history.history.keys()"
      ]
    },
    {
      "cell_type": "code",
      "execution_count": null,
      "metadata": {
        "id": "lWTejwMQjN0L",
        "outputId": "8ec86513-1e1f-494b-827d-b7c08793346a"
      },
      "outputs": [
        {
          "data": {
            "text/plain": [
              "[37.25935745239258, 8.992349624633789, 6.5627007484436035]"
            ]
          },
          "execution_count": 86,
          "metadata": {},
          "output_type": "execute_result"
        }
      ],
      "source": [
        "history.history['loss']"
      ]
    },
    {
      "cell_type": "code",
      "execution_count": null,
      "metadata": {
        "id": "5M2p_tEZjN0L"
      },
      "outputs": [],
      "source": [
        ""
      ]
    }
  ],
  "metadata": {
    "accelerator": "GPU",
    "colab": {
      "collapsed_sections": [],
      "name": "2.1.ipynb",
      "provenance": [],
      "toc_visible": true,
      "include_colab_link": true
    },
    "kernelspec": {
      "display_name": "Python3.7",
      "language": "python",
      "name": "tensorflow"
    },
    "language_info": {
      "codemirror_mode": {
        "name": "ipython",
        "version": 3
      },
      "file_extension": ".py",
      "mimetype": "text/x-python",
      "name": "python",
      "nbconvert_exporter": "python",
      "pygments_lexer": "ipython3",
      "version": "3.7.10"
    },
    "toc-autonumbering": false,
    "toc-showcode": false,
    "toc-showmarkdowntxt": false,
    "toc-showtags": false
  },
  "nbformat": 4,
  "nbformat_minor": 0
}